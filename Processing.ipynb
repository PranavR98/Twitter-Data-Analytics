{
 "cells": [
  {
   "cell_type": "code",
   "execution_count": 1,
   "id": "4c86ec54-142d-47d9-acfb-871366491205",
   "metadata": {},
   "outputs": [
    {
     "name": "stdout",
     "output_type": "stream",
     "text": [
      "3.8.15 | packaged by conda-forge | (default, Nov 22 2022, 08:46:39) \n",
      "[GCC 10.4.0]\n",
      "3.1.3\n"
     ]
    }
   ],
   "source": [
    "import sys\n",
    "print(sys.version)\n",
    "print(spark.version)"
   ]
  },
  {
   "cell_type": "code",
   "execution_count": 2,
   "id": "210117a7-9913-4c7d-ad13-f176b3a21688",
   "metadata": {},
   "outputs": [],
   "source": [
    "import os\n",
    "import shutil\n",
    "import io\n",
    "import re\n",
    "import warnings\n",
    "from datetime import datetime\n",
    "import pytz\n",
    "import string\n",
    "import pandas as pd\n",
    "import numpy as np\n",
    "pd.set_option('display.max_colwidth', None)\n",
    "pd.reset_option('display.max_rows')\n",
    "from itertools import compress \n",
    "from pyspark.sql.functions import *\n",
    "from pyspark.sql import functions as f\n",
    "from pyspark.sql.types import *\n",
    "import seaborn as sns\n",
    "import matplotlib.pyplot as plt\n",
    "warnings.filterwarnings(action='ignore')"
   ]
  },
  {
   "cell_type": "code",
   "execution_count": 3,
   "id": "ec9b85eb-3881-4f8d-a93b-ef5d4791f4c3",
   "metadata": {},
   "outputs": [],
   "source": [
    "##Add \"eagerEval.enabled\" to beautify the way Spark DF is displayed\n",
    "spark.conf.set(\"spark.sql.repl.eagerEval.enabled\",True)\n",
    "## To use legacy casting notation for date\n",
    "spark.conf.set(\"spark.sql.legacy.timeParserPolicy\",\"LEGACY\")"
   ]
  },
  {
   "cell_type": "code",
   "execution_count": 4,
   "id": "172b993b-a580-4eef-9846-ee9e30353e2f",
   "metadata": {},
   "outputs": [],
   "source": [
    "from google.cloud import storage"
   ]
  },
  {
   "cell_type": "code",
   "execution_count": 5,
   "id": "51f3648a-db4b-46fd-9d83-e9142cb10cef",
   "metadata": {},
   "outputs": [],
   "source": [
    "def list_blobs(bucket_name, folder_name):\n",
    "    gcs_client = storage.Client()\n",
    "    bucket = gcs_client.bucket(bucket_name)\n",
    "    blobs = list(bucket.list_blobs(prefix=folder_name))\n",
    "\n",
    "    for blob in blobs:\n",
    "        print(blob.name + '\\t' + str(blob.size))"
   ]
  },
  {
   "cell_type": "code",
   "execution_count": 6,
   "id": "b95a8982-0817-40e6-aa2a-8d241b855973",
   "metadata": {},
   "outputs": [],
   "source": [
    "def list_blobs_pd(bucket_name, folder_name):\n",
    "    gcs_client = storage.Client()\n",
    "    bucket = gcs_client.bucket(bucket_name)\n",
    "    blobs = list(bucket.list_blobs(prefix=folder_name))\n",
    "\n",
    "    blob_name = []\n",
    "    blob_size = []\n",
    "    \n",
    "    for blob in blobs:\n",
    "        blob_name.append(blob.name)\n",
    "        blob_size.append(blob.size)\n",
    "\n",
    "    blobs_df = pd.DataFrame(list(zip(blob_name, blob_size)), columns=['Name','Size'])\n",
    "\n",
    "    blobs_df.style.format({\"Size\": \"{:,.0f}\"}) \n",
    "    \n",
    "    return blobs_df"
   ]
  },
  {
   "cell_type": "code",
   "execution_count": 7,
   "id": "a853c008-336e-4352-b668-9c4ae2440eb7",
   "metadata": {},
   "outputs": [],
   "source": [
    "def delete_folder(bucket_name, folder_name):\n",
    "    gcs_client = storage.Client()\n",
    "    bucket = gcs_client.bucket(bucket_name)\n",
    "    blobs = list(bucket.list_blobs(prefix=folder_name))\n",
    "\n",
    "    for blob in blobs:\n",
    "        blob.delete()"
   ]
  },
  {
   "cell_type": "markdown",
   "id": "dc983778-e001-42cf-84f7-7bb867b1081b",
   "metadata": {},
   "source": [
    "### Read Data"
   ]
  },
  {
   "cell_type": "code",
   "execution_count": 8,
   "id": "24ee907a-9fb5-4882-bf09-4d15f315784d",
   "metadata": {},
   "outputs": [
    {
     "name": "stderr",
     "output_type": "stream",
     "text": [
      "23/03/05 06:49:29 WARN org.apache.spark.sql.catalyst.util.package: Truncated the string representation of a plan since it was too large. This behavior can be adjusted by setting 'spark.sql.debug.maxToStringFields'.\n"
     ]
    }
   ],
   "source": [
    "tweets_filtered = spark.read.parquet('gs://msca-bdp-students-bucket/shared_data/pranavr569/tweets_filtered')"
   ]
  },
  {
   "cell_type": "code",
   "execution_count": 9,
   "id": "80db2b10-b6b6-4bff-8698-3ebdf665856b",
   "metadata": {},
   "outputs": [
    {
     "name": "stderr",
     "output_type": "stream",
     "text": [
      "                                                                                \r"
     ]
    },
    {
     "data": {
      "text/plain": [
       "13128895"
      ]
     },
     "execution_count": 9,
     "metadata": {},
     "output_type": "execute_result"
    }
   ],
   "source": [
    "tweets_filtered.count()"
   ]
  },
  {
   "cell_type": "markdown",
   "id": "81be21e3-7c69-40c0-971c-9246e0a5fff1",
   "metadata": {},
   "source": [
    "### Performing Exploratory Data Analysis"
   ]
  },
  {
   "cell_type": "code",
   "execution_count": 11,
   "id": "b972bdaf-f9ca-490b-8d74-81a53a0a59bc",
   "metadata": {},
   "outputs": [
    {
     "name": "stderr",
     "output_type": "stream",
     "text": [
      "                                                                                \r"
     ]
    },
    {
     "data": {
      "text/html": [
       "<table border='1'>\n",
       "<tr><th>summary</th><th>created_at</th><th>favorite_count</th><th>filter_level</th><th>id</th><th>id_str</th><th>in_reply_to_screen_name</th><th>in_reply_to_status_id</th><th>in_reply_to_status_id_str</th><th>in_reply_to_user_id</th><th>in_reply_to_user_id_str</th><th>lang</th><th>quote_count</th><th>quoted_status_id</th><th>quoted_status_id_str</th><th>quoted_text</th><th>reply_count</th><th>retweet_count</th><th>retweeted</th><th>retweeted_from</th><th>source</th><th>text</th><th>timestamp_ms</th><th>tweet_text</th><th>stripped</th><th>edu_count</th></tr>\n",
       "<tr><td>count</td><td>13128895</td><td>13128895</td><td>13128895</td><td>13128895</td><td>13128895</td><td>1848930</td><td>1773774</td><td>1773774</td><td>1848930</td><td>1848930</td><td>13128895</td><td>13128895</td><td>852195</td><td>852195</td><td>850399</td><td>13128895</td><td>13128895</td><td>13128895</td><td>10009266</td><td>13128895</td><td>13128895</td><td>13128895</td><td>13128895</td><td>13128895</td><td>13128895</td></tr>\n",
       "<tr><td>mean</td><td>null</td><td>0.0</td><td>null</td><td>1.565636553461320...</td><td>1.565636553461320...</td><td>Infinity</td><td>1.564648642702757...</td><td>1.564648642702757...</td><td>6.370169251329724...</td><td>6.370169251329724...</td><td>null</td><td>0.0</td><td>1.559759477994343...</td><td>1.559759477994343...</td><td>407.022</td><td>0.0</td><td>0.0</td><td>null</td><td>1.141119657774527...</td><td>null</td><td>null</td><td>1.662111817122399...</td><td>null</td><td>null</td><td>2.28552136337445</td></tr>\n",
       "<tr><td>stddev</td><td>null</td><td>0.0</td><td>null</td><td>3.186911390426742...</td><td>3.186911390426742...</td><td>NaN</td><td>3.970924160205816...</td><td>3.970924160205816...</td><td>6.525627680746927...</td><td>6.525627680746927...</td><td>null</td><td>0.0</td><td>6.387547417489908...</td><td>6.387547417489908...</td><td>892.7624109582572</td><td>0.0</td><td>0.0</td><td>null</td><td>2.847440352376575E11</td><td>null</td><td>null</td><td>7.598188854270931E9</td><td>null</td><td>null</td><td>0.6493054825310967</td></tr>\n",
       "<tr><td>min</td><td>Fri Apr 08 00:00:...</td><td>0</td><td>low</td><td>1511197336059342854</td><td>1511197336059342854</td><td>0</td><td>1248177489</td><td>1000413472356696065</td><td>12</td><td>1000002812087099394</td><td>en</td><td>0</td><td>22</td><td>1000290034715627520</td><td>! @NYCMayor⁩⁩’s j...</td><td>0</td><td>0</td><td></td><td></td><td>&lt;a href=&quot;HTTP://b...</td><td>!\n",
       "Indoctrination ...</td><td>1649132496262</td><td>!\n",
       "\n",
       "no mage today,...</td><td>\n",
       "\n",
       "\n",
       "\n",
       "😂😂😂😂😂😂?...</td><td>2</td></tr>\n",
       "<tr><td>max</td><td>Wed Sep 28 23:59:...</td><td>0</td><td>low</td><td>1623308317287149569</td><td>1623308317287149569</td><td>zzzzzzz43088334</td><td>1623307653853192192</td><td>999350959057854464</td><td>1623253944557355008</td><td>999999616279089152</td><td>en</td><td>0</td><td>1623294703243341827</td><td>999670241025081344</td><td>󠇰 󠇰\n",
       " 󠇰 󠇰\n",
       "It s...</td><td>0</td><td>0</td><td>RT</td><td>🅰️\n",
       "Chemistry\n",
       "Ass...</td><td>&lt;a href=&quot;https://...</td><td>🫶🏾🎓 @celebrati...</td><td>1675861837108</td><td>🫶🏾🎓 @celebrati...</td><td>🫶🏾🎓 @celebrati...</td><td>25</td></tr>\n",
       "</table>\n"
      ],
      "text/plain": [
       "+-------+--------------------+--------------+------------+--------------------+--------------------+-----------------------+---------------------+-------------------------+--------------------+-----------------------+--------+-----------+--------------------+--------------------+--------------------+-----------+-------------+---------+--------------------+--------------------+--------------------+--------------------+--------------------+--------------------+------------------+\n",
       "|summary|          created_at|favorite_count|filter_level|                  id|              id_str|in_reply_to_screen_name|in_reply_to_status_id|in_reply_to_status_id_str| in_reply_to_user_id|in_reply_to_user_id_str|    lang|quote_count|    quoted_status_id|quoted_status_id_str|         quoted_text|reply_count|retweet_count|retweeted|      retweeted_from|              source|                text|        timestamp_ms|          tweet_text|            stripped|         edu_count|\n",
       "+-------+--------------------+--------------+------------+--------------------+--------------------+-----------------------+---------------------+-------------------------+--------------------+-----------------------+--------+-----------+--------------------+--------------------+--------------------+-----------+-------------+---------+--------------------+--------------------+--------------------+--------------------+--------------------+--------------------+------------------+\n",
       "|  count|            13128895|      13128895|    13128895|            13128895|            13128895|                1848930|              1773774|                  1773774|             1848930|                1848930|13128895|   13128895|              852195|              852195|              850399|   13128895|     13128895| 13128895|            10009266|            13128895|            13128895|            13128895|            13128895|            13128895|          13128895|\n",
       "|   mean|                null|           0.0|        null|1.565636553461320...|1.565636553461320...|               Infinity| 1.564648642702757...|     1.564648642702757...|6.370169251329724...|   6.370169251329724...|    null|        0.0|1.559759477994343...|1.559759477994343...|             407.022|        0.0|          0.0|     null|1.141119657774527...|                null|                null|1.662111817122399...|                null|                null|  2.28552136337445|\n",
       "| stddev|                null|           0.0|        null|3.186911390426742...|3.186911390426742...|                    NaN| 3.970924160205816...|     3.970924160205816...|6.525627680746927...|   6.525627680746927...|    null|        0.0|6.387547417489908...|6.387547417489908...|   892.7624109582572|        0.0|          0.0|     null|2.847440352376575E11|                null|                null| 7.598188854270931E9|                null|                null|0.6493054825310967|\n",
       "|    min|Fri Apr 08 00:00:...|             0|         low| 1511197336059342854| 1511197336059342854|                      0|           1248177489|      1000413472356696065|                  12|    1000002812087099394|      en|          0|                  22| 1000290034715627520|! @NYCMayor⁩⁩’s j...|          0|            0|         |                    |<a href=\"HTTP://b...|!\n",
       "Indoctrination ...|       1649132496262|!\n",
       "\n",
       "no mage today,...|\n",
       "\n",
       "\n",
       "\n",
       "😂😂😂😂😂😂?...|                 2|\n",
       "|    max|Wed Sep 28 23:59:...|             0|         low| 1623308317287149569| 1623308317287149569|        zzzzzzz43088334|  1623307653853192192|       999350959057854464| 1623253944557355008|     999999616279089152|      en|          0| 1623294703243341827|  999670241025081344|󠇰 󠇰\n",
       " 󠇰 󠇰\n",
       "It s...|          0|            0|       RT|🅰️\n",
       "Chemistry\n",
       "Ass...|<a href=\"https://...|🫶🏾🎓 @celebrati...|       1675861837108|🫶🏾🎓 @celebrati...|🫶🏾🎓 @celebrati...|                25|\n",
       "+-------+--------------------+--------------+------------+--------------------+--------------------+-----------------------+---------------------+-------------------------+--------------------+-----------------------+--------+-----------+--------------------+--------------------+--------------------+-----------+-------------+---------+--------------------+--------------------+--------------------+--------------------+--------------------+--------------------+------------------+"
      ]
     },
     "execution_count": 11,
     "metadata": {},
     "output_type": "execute_result"
    }
   ],
   "source": [
    "tweets_filtered.describe()"
   ]
  },
  {
   "cell_type": "code",
   "execution_count": 13,
   "id": "fb983ea7-6930-4b69-9bc6-e30399f3e4c6",
   "metadata": {},
   "outputs": [
    {
     "name": "stderr",
     "output_type": "stream",
     "text": [
      "                                                                                \r"
     ]
    },
    {
     "data": {
      "text/html": [
       "<div>\n",
       "<style scoped>\n",
       "    .dataframe tbody tr th:only-of-type {\n",
       "        vertical-align: middle;\n",
       "    }\n",
       "\n",
       "    .dataframe tbody tr th {\n",
       "        vertical-align: top;\n",
       "    }\n",
       "\n",
       "    .dataframe thead th {\n",
       "        text-align: right;\n",
       "    }\n",
       "</style>\n",
       "<table border=\"1\" class=\"dataframe\">\n",
       "  <thead>\n",
       "    <tr style=\"text-align: right;\">\n",
       "      <th></th>\n",
       "      <th>0</th>\n",
       "    </tr>\n",
       "  </thead>\n",
       "  <tbody>\n",
       "    <tr>\n",
       "      <th>coordinates</th>\n",
       "      <td>13117111</td>\n",
       "    </tr>\n",
       "    <tr>\n",
       "      <th>created_at</th>\n",
       "      <td>0</td>\n",
       "    </tr>\n",
       "    <tr>\n",
       "      <th>display_text_range</th>\n",
       "      <td>10882583</td>\n",
       "    </tr>\n",
       "    <tr>\n",
       "      <th>entities</th>\n",
       "      <td>0</td>\n",
       "    </tr>\n",
       "    <tr>\n",
       "      <th>extended_entities</th>\n",
       "      <td>12698833</td>\n",
       "    </tr>\n",
       "    <tr>\n",
       "      <th>extended_tweet</th>\n",
       "      <td>10045021</td>\n",
       "    </tr>\n",
       "    <tr>\n",
       "      <th>favorite_count</th>\n",
       "      <td>0</td>\n",
       "    </tr>\n",
       "    <tr>\n",
       "      <th>favorited</th>\n",
       "      <td>0</td>\n",
       "    </tr>\n",
       "    <tr>\n",
       "      <th>filter_level</th>\n",
       "      <td>0</td>\n",
       "    </tr>\n",
       "    <tr>\n",
       "      <th>geo</th>\n",
       "      <td>13117111</td>\n",
       "    </tr>\n",
       "    <tr>\n",
       "      <th>id</th>\n",
       "      <td>0</td>\n",
       "    </tr>\n",
       "    <tr>\n",
       "      <th>id_str</th>\n",
       "      <td>0</td>\n",
       "    </tr>\n",
       "    <tr>\n",
       "      <th>in_reply_to_screen_name</th>\n",
       "      <td>11279965</td>\n",
       "    </tr>\n",
       "    <tr>\n",
       "      <th>in_reply_to_status_id</th>\n",
       "      <td>11355121</td>\n",
       "    </tr>\n",
       "    <tr>\n",
       "      <th>in_reply_to_status_id_str</th>\n",
       "      <td>11355121</td>\n",
       "    </tr>\n",
       "    <tr>\n",
       "      <th>in_reply_to_user_id</th>\n",
       "      <td>11279965</td>\n",
       "    </tr>\n",
       "    <tr>\n",
       "      <th>in_reply_to_user_id_str</th>\n",
       "      <td>11279965</td>\n",
       "    </tr>\n",
       "    <tr>\n",
       "      <th>is_quote_status</th>\n",
       "      <td>0</td>\n",
       "    </tr>\n",
       "    <tr>\n",
       "      <th>lang</th>\n",
       "      <td>0</td>\n",
       "    </tr>\n",
       "    <tr>\n",
       "      <th>place</th>\n",
       "      <td>13038446</td>\n",
       "    </tr>\n",
       "    <tr>\n",
       "      <th>possibly_sensitive</th>\n",
       "      <td>11120036</td>\n",
       "    </tr>\n",
       "    <tr>\n",
       "      <th>quote_count</th>\n",
       "      <td>0</td>\n",
       "    </tr>\n",
       "    <tr>\n",
       "      <th>quoted_status</th>\n",
       "      <td>12278496</td>\n",
       "    </tr>\n",
       "    <tr>\n",
       "      <th>quoted_status_id</th>\n",
       "      <td>12276700</td>\n",
       "    </tr>\n",
       "    <tr>\n",
       "      <th>quoted_status_id_str</th>\n",
       "      <td>12276700</td>\n",
       "    </tr>\n",
       "    <tr>\n",
       "      <th>quoted_status_permalink</th>\n",
       "      <td>12278496</td>\n",
       "    </tr>\n",
       "    <tr>\n",
       "      <th>quoted_text</th>\n",
       "      <td>12278496</td>\n",
       "    </tr>\n",
       "    <tr>\n",
       "      <th>reply_count</th>\n",
       "      <td>0</td>\n",
       "    </tr>\n",
       "    <tr>\n",
       "      <th>retweet_count</th>\n",
       "      <td>0</td>\n",
       "    </tr>\n",
       "    <tr>\n",
       "      <th>retweeted</th>\n",
       "      <td>0</td>\n",
       "    </tr>\n",
       "    <tr>\n",
       "      <th>retweeted_from</th>\n",
       "      <td>3119629</td>\n",
       "    </tr>\n",
       "    <tr>\n",
       "      <th>retweeted_status</th>\n",
       "      <td>3956151</td>\n",
       "    </tr>\n",
       "    <tr>\n",
       "      <th>source</th>\n",
       "      <td>0</td>\n",
       "    </tr>\n",
       "    <tr>\n",
       "      <th>text</th>\n",
       "      <td>0</td>\n",
       "    </tr>\n",
       "    <tr>\n",
       "      <th>timestamp_ms</th>\n",
       "      <td>0</td>\n",
       "    </tr>\n",
       "    <tr>\n",
       "      <th>truncated</th>\n",
       "      <td>0</td>\n",
       "    </tr>\n",
       "    <tr>\n",
       "      <th>tweet_text</th>\n",
       "      <td>0</td>\n",
       "    </tr>\n",
       "    <tr>\n",
       "      <th>user</th>\n",
       "      <td>0</td>\n",
       "    </tr>\n",
       "    <tr>\n",
       "      <th>withheld_in_countries</th>\n",
       "      <td>13120291</td>\n",
       "    </tr>\n",
       "    <tr>\n",
       "      <th>stripped</th>\n",
       "      <td>0</td>\n",
       "    </tr>\n",
       "    <tr>\n",
       "      <th>edu_count</th>\n",
       "      <td>0</td>\n",
       "    </tr>\n",
       "  </tbody>\n",
       "</table>\n",
       "</div>"
      ],
      "text/plain": [
       "                                  0\n",
       "coordinates                13117111\n",
       "created_at                        0\n",
       "display_text_range         10882583\n",
       "entities                          0\n",
       "extended_entities          12698833\n",
       "extended_tweet             10045021\n",
       "favorite_count                    0\n",
       "favorited                         0\n",
       "filter_level                      0\n",
       "geo                        13117111\n",
       "id                                0\n",
       "id_str                            0\n",
       "in_reply_to_screen_name    11279965\n",
       "in_reply_to_status_id      11355121\n",
       "in_reply_to_status_id_str  11355121\n",
       "in_reply_to_user_id        11279965\n",
       "in_reply_to_user_id_str    11279965\n",
       "is_quote_status                   0\n",
       "lang                              0\n",
       "place                      13038446\n",
       "possibly_sensitive         11120036\n",
       "quote_count                       0\n",
       "quoted_status              12278496\n",
       "quoted_status_id           12276700\n",
       "quoted_status_id_str       12276700\n",
       "quoted_status_permalink    12278496\n",
       "quoted_text                12278496\n",
       "reply_count                       0\n",
       "retweet_count                     0\n",
       "retweeted                         0\n",
       "retweeted_from              3119629\n",
       "retweeted_status            3956151\n",
       "source                            0\n",
       "text                              0\n",
       "timestamp_ms                      0\n",
       "truncated                         0\n",
       "tweet_text                        0\n",
       "user                              0\n",
       "withheld_in_countries      13120291\n",
       "stripped                          0\n",
       "edu_count                         0"
      ]
     },
     "execution_count": 13,
     "metadata": {},
     "output_type": "execute_result"
    }
   ],
   "source": [
    "tweets_filtered.select([count(when(isnull(c), c)).alias(c) for c in tweets_filtered.columns]).toPandas().transpose()"
   ]
  },
  {
   "cell_type": "code",
   "execution_count": 14,
   "id": "9335e979-cac0-4888-80a3-fc4dadd8ed13",
   "metadata": {},
   "outputs": [],
   "source": [
    "# For non-struct columns\n",
    "non_struct_cols = [col for col, t in tweets_filtered.dtypes if not t.startswith('struct')]\n",
    "# For struct columns\n",
    "struct_cols = [col for col, t in tweets_filtered.dtypes if t.startswith('struct')]"
   ]
  },
  {
   "cell_type": "code",
   "execution_count": 15,
   "id": "ecf30c24-02ce-48e8-a982-0eb98c672ca1",
   "metadata": {},
   "outputs": [
    {
     "name": "stdout",
     "output_type": "stream",
     "text": [
      "root\n",
      " |-- created_at: string (nullable = true)\n",
      " |-- display_text_range: array (nullable = true)\n",
      " |    |-- element: long (containsNull = true)\n",
      " |-- favorite_count: long (nullable = true)\n",
      " |-- favorited: boolean (nullable = true)\n",
      " |-- filter_level: string (nullable = true)\n",
      " |-- id: long (nullable = true)\n",
      " |-- id_str: string (nullable = true)\n",
      " |-- in_reply_to_screen_name: string (nullable = true)\n",
      " |-- in_reply_to_status_id: long (nullable = true)\n",
      " |-- in_reply_to_status_id_str: string (nullable = true)\n",
      " |-- in_reply_to_user_id: long (nullable = true)\n",
      " |-- in_reply_to_user_id_str: string (nullable = true)\n",
      " |-- is_quote_status: boolean (nullable = true)\n",
      " |-- lang: string (nullable = true)\n",
      " |-- possibly_sensitive: boolean (nullable = true)\n",
      " |-- quote_count: long (nullable = true)\n",
      " |-- quoted_status_id: long (nullable = true)\n",
      " |-- quoted_status_id_str: string (nullable = true)\n",
      " |-- quoted_text: string (nullable = true)\n",
      " |-- reply_count: long (nullable = true)\n",
      " |-- retweet_count: long (nullable = true)\n",
      " |-- retweeted: string (nullable = true)\n",
      " |-- retweeted_from: string (nullable = true)\n",
      " |-- source: string (nullable = true)\n",
      " |-- text: string (nullable = true)\n",
      " |-- timestamp_ms: string (nullable = true)\n",
      " |-- truncated: boolean (nullable = true)\n",
      " |-- tweet_text: string (nullable = true)\n",
      " |-- withheld_in_countries: array (nullable = true)\n",
      " |    |-- element: string (containsNull = true)\n",
      " |-- stripped: string (nullable = true)\n",
      " |-- edu_count: integer (nullable = true)\n",
      "\n"
     ]
    }
   ],
   "source": [
    "tweets_filtered.select(non_struct_cols).printSchema()"
   ]
  },
  {
   "cell_type": "code",
   "execution_count": 16,
   "id": "dce85ab3-a65f-4ab3-8947-0c80295644b0",
   "metadata": {},
   "outputs": [
    {
     "data": {
      "text/html": [
       "<table border='1'>\n",
       "<tr><th>tweet_text</th><th>text</th><th>quoted_text</th><th>retweeted</th></tr>\n",
       "<tr><td>i tell college at...</td><td>RT @AdamBreneman8...</td><td>null</td><td>RT</td></tr>\n",
       "<tr><td>children of polit...</td><td>RT @Naija_PR: Chi...</td><td>null</td><td>RT</td></tr>\n",
       "<tr><td>new research from...</td><td>RT @UArkPsych: Ne...</td><td>null</td><td>RT</td></tr>\n",
       "<tr><td>trek venture 2.0 ...</td><td>RT @MillionSmiles...</td><td>null</td><td>RT</td></tr>\n",
       "<tr><td>@gamedaygarage i’...</td><td>RT @ChastityFallo...</td><td>null</td><td>RT</td></tr>\n",
       "</table>\n"
      ],
      "text/plain": [
       "+--------------------+--------------------+-----------+---------+\n",
       "|          tweet_text|                text|quoted_text|retweeted|\n",
       "+--------------------+--------------------+-----------+---------+\n",
       "|i tell college at...|RT @AdamBreneman8...|       null|       RT|\n",
       "|children of polit...|RT @Naija_PR: Chi...|       null|       RT|\n",
       "|new research from...|RT @UArkPsych: Ne...|       null|       RT|\n",
       "|trek venture 2.0 ...|RT @MillionSmiles...|       null|       RT|\n",
       "|@gamedaygarage i’...|RT @ChastityFallo...|       null|       RT|\n",
       "+--------------------+--------------------+-----------+---------+"
      ]
     },
     "execution_count": 16,
     "metadata": {},
     "output_type": "execute_result"
    }
   ],
   "source": [
    "tweets_filtered.select(['tweet_text', 'text', 'quoted_text', 'retweeted']).sample(0.1).limit(5)"
   ]
  },
  {
   "cell_type": "code",
   "execution_count": 17,
   "id": "471a3d72-b258-47d3-889f-ef28ea9b5289",
   "metadata": {},
   "outputs": [
    {
     "name": "stderr",
     "output_type": "stream",
     "text": [
      "                                                                                \r"
     ]
    },
    {
     "data": {
      "text/html": [
       "<table border='1'>\n",
       "<tr><th>id</th><th>id_str</th></tr>\n",
       "<tr><td>1559580843131420672</td><td>1559580843131420672</td></tr>\n",
       "<tr><td>1559580923452354560</td><td>1559580923452354560</td></tr>\n",
       "<tr><td>1559580949389754368</td><td>1559580949389754368</td></tr>\n",
       "<tr><td>1559581094650994689</td><td>1559581094650994689</td></tr>\n",
       "<tr><td>1559581207846944769</td><td>1559581207846944769</td></tr>\n",
       "</table>\n"
      ],
      "text/plain": [
       "+-------------------+-------------------+\n",
       "|                 id|             id_str|\n",
       "+-------------------+-------------------+\n",
       "|1564460765528162305|1564460765528162305|\n",
       "|1564460770280484865|1564460770280484865|\n",
       "|1564460835845869568|1564460835845869568|\n",
       "|1564460845316423680|1564460845316423680|\n",
       "|1564460858230571008|1564460858230571008|\n",
       "+-------------------+-------------------+"
      ]
     },
     "execution_count": 17,
     "metadata": {},
     "output_type": "execute_result"
    }
   ],
   "source": [
    "tweets_filtered.select(['id', 'id_str']).sample(0.1).limit(5)"
   ]
  },
  {
   "cell_type": "code",
   "execution_count": 18,
   "id": "5e89e373-78b0-4fc1-b600-04da9efe910c",
   "metadata": {},
   "outputs": [
    {
     "data": {
      "text/html": [
       "<table border='1'>\n",
       "<tr><th>retweeted_from</th><th>retweeted</th></tr>\n",
       "<tr><td>Melissa__x0xo</td><td>RT</td></tr>\n",
       "<tr><td>adejimiadeniji</td><td>RT</td></tr>\n",
       "<tr><td>null</td><td></td></tr>\n",
       "<tr><td>Luveniwai</td><td>RT</td></tr>\n",
       "<tr><td>SonexStella</td><td>RT</td></tr>\n",
       "</table>\n"
      ],
      "text/plain": [
       "+--------------+---------+\n",
       "|retweeted_from|retweeted|\n",
       "+--------------+---------+\n",
       "| Melissa__x0xo|       RT|\n",
       "|adejimiadeniji|       RT|\n",
       "|          null|         |\n",
       "|     Luveniwai|       RT|\n",
       "|   SonexStella|       RT|\n",
       "+--------------+---------+"
      ]
     },
     "execution_count": 18,
     "metadata": {},
     "output_type": "execute_result"
    }
   ],
   "source": [
    "tweets_filtered.select(['retweeted_from', 'retweeted']).sample(0.1).limit(5)"
   ]
  },
  {
   "cell_type": "code",
   "execution_count": 19,
   "id": "96f74298-099f-4295-a248-267b69c2ef87",
   "metadata": {},
   "outputs": [
    {
     "name": "stderr",
     "output_type": "stream",
     "text": [
      "                                                                                \r"
     ]
    },
    {
     "data": {
      "text/html": [
       "<table border='1'>\n",
       "<tr><th>extended_tweet</th></tr>\n",
       "<tr><td>null</td></tr>\n",
       "<tr><td>null</td></tr>\n",
       "<tr><td>null</td></tr>\n",
       "<tr><td>null</td></tr>\n",
       "<tr><td>null</td></tr>\n",
       "</table>\n"
      ],
      "text/plain": [
       "+--------------------+\n",
       "|      extended_tweet|\n",
       "+--------------------+\n",
       "|                null|\n",
       "|{[0, 262], {[], [...|\n",
       "|{[13, 219], {[], ...|\n",
       "|{[0, 164], {[], n...|\n",
       "|{[36, 305], {[], ...|\n",
       "+--------------------+"
      ]
     },
     "execution_count": 19,
     "metadata": {},
     "output_type": "execute_result"
    }
   ],
   "source": [
    "tweets_filtered.select('extended_tweet').sample(0.1).limit(5)"
   ]
  },
  {
   "cell_type": "code",
   "execution_count": 20,
   "id": "e7a8c211-eb39-4d05-92e7-d5fac755dbb4",
   "metadata": {},
   "outputs": [
    {
     "name": "stderr",
     "output_type": "stream",
     "text": [
      "                                                                                \r"
     ]
    },
    {
     "data": {
      "text/plain": [
       "9172744"
      ]
     },
     "execution_count": 20,
     "metadata": {},
     "output_type": "execute_result"
    }
   ],
   "source": [
    "tweets_filtered.filter(f.col('retweeted_status').isNotNull()).count()"
   ]
  },
  {
   "cell_type": "code",
   "execution_count": 21,
   "id": "6caa2970-2874-42cf-8af5-2f45eb83aae4",
   "metadata": {},
   "outputs": [
    {
     "name": "stderr",
     "output_type": "stream",
     "text": [
      "                                                                                \r"
     ]
    },
    {
     "data": {
      "text/html": [
       "<table border='1'>\n",
       "<tr><th>retweet_count</th></tr>\n",
       "<tr><td>0</td></tr>\n",
       "</table>\n"
      ],
      "text/plain": [
       "+-------------+\n",
       "|retweet_count|\n",
       "+-------------+\n",
       "|            0|\n",
       "+-------------+"
      ]
     },
     "execution_count": 21,
     "metadata": {},
     "output_type": "execute_result"
    }
   ],
   "source": [
    "# Retweet_count only has zeros\n",
    "tweets_filtered.select('retweet_count').distinct().limit(10)"
   ]
  },
  {
   "cell_type": "code",
   "execution_count": 22,
   "id": "32694b04-bb08-4e5e-8efd-d2e91540cee7",
   "metadata": {},
   "outputs": [
    {
     "name": "stderr",
     "output_type": "stream",
     "text": [
      "                                                                                \r"
     ]
    },
    {
     "data": {
      "text/html": [
       "<table border='1'>\n",
       "<tr><th>retweet_count</th></tr>\n",
       "<tr><td>6</td></tr>\n",
       "<tr><td>2668</td></tr>\n",
       "<tr><td>68</td></tr>\n",
       "<tr><td>342</td></tr>\n",
       "<tr><td>3384</td></tr>\n",
       "<tr><td>9702</td></tr>\n",
       "<tr><td>4456</td></tr>\n",
       "<tr><td>6837</td></tr>\n",
       "<tr><td>713</td></tr>\n",
       "<tr><td>27596</td></tr>\n",
       "</table>\n"
      ],
      "text/plain": [
       "+-------------+\n",
       "|retweet_count|\n",
       "+-------------+\n",
       "|           34|\n",
       "|        12820|\n",
       "|          184|\n",
       "|         4657|\n",
       "|          858|\n",
       "|          635|\n",
       "|         2929|\n",
       "|        18613|\n",
       "|         3311|\n",
       "|        52298|\n",
       "+-------------+"
      ]
     },
     "execution_count": 22,
     "metadata": {},
     "output_type": "execute_result"
    }
   ],
   "source": [
    "# Retweet_count within retweeted_status has real numbers \n",
    "tweets_filtered.select('retweeted_status.retweet_count').distinct().limit(10)"
   ]
  },
  {
   "cell_type": "code",
   "execution_count": 23,
   "id": "ba803562-c060-4910-92c9-e3c66fa2783d",
   "metadata": {},
   "outputs": [
    {
     "data": {
      "text/html": [
       "<table border='1'>\n",
       "<tr><th>retweeted_from</th><th>retweeted</th></tr>\n",
       "<tr><td>AdamBreneman81</td><td>RT</td></tr>\n",
       "<tr><td>thecreativeschl</td><td>RT</td></tr>\n",
       "<tr><td>Naija_PR</td><td>RT</td></tr>\n",
       "<tr><td>AfricaFactsZone</td><td>RT</td></tr>\n",
       "<tr><td>null</td><td></td></tr>\n",
       "</table>\n"
      ],
      "text/plain": [
       "+---------------+---------+\n",
       "| retweeted_from|retweeted|\n",
       "+---------------+---------+\n",
       "| AdamBreneman81|       RT|\n",
       "|thecreativeschl|       RT|\n",
       "|       Naija_PR|       RT|\n",
       "|AfricaFactsZone|       RT|\n",
       "|           null|         |\n",
       "+---------------+---------+"
      ]
     },
     "execution_count": 23,
     "metadata": {},
     "output_type": "execute_result"
    }
   ],
   "source": [
    "tweets_filtered.select(['retweeted_from', 'retweeted']).limit(5)"
   ]
  },
  {
   "cell_type": "code",
   "execution_count": 24,
   "id": "4c0e7b5e-3280-4e15-b772-427e43a176ed",
   "metadata": {},
   "outputs": [
    {
     "name": "stdout",
     "output_type": "stream",
     "text": [
      "root\n",
      " |-- coordinates: struct (nullable = true)\n",
      " |    |-- coordinates: array (nullable = true)\n",
      " |    |    |-- element: double (containsNull = true)\n",
      " |    |-- type: string (nullable = true)\n",
      "\n"
     ]
    }
   ],
   "source": [
    "tweets_filtered.select('coordinates').printSchema()"
   ]
  },
  {
   "cell_type": "code",
   "execution_count": 25,
   "id": "97bc7fcb-6343-480f-a728-6bba5d29472a",
   "metadata": {},
   "outputs": [
    {
     "name": "stderr",
     "output_type": "stream",
     "text": [
      "                                                                                \r"
     ]
    },
    {
     "data": {
      "text/plain": [
       "90449"
      ]
     },
     "execution_count": 25,
     "metadata": {},
     "output_type": "execute_result"
    }
   ],
   "source": [
    "tweets_filtered.filter(f.col('place.country').isNotNull()).count()"
   ]
  },
  {
   "cell_type": "code",
   "execution_count": 26,
   "id": "874517ac-e662-41ba-84fa-942e47f101e3",
   "metadata": {},
   "outputs": [
    {
     "name": "stderr",
     "output_type": "stream",
     "text": [
      "                                                                                \r"
     ]
    },
    {
     "data": {
      "text/plain": [
       "8135228"
      ]
     },
     "execution_count": 26,
     "metadata": {},
     "output_type": "execute_result"
    }
   ],
   "source": [
    "tweets_filtered.filter(f.col('user.location').isNotNull()).count()"
   ]
  },
  {
   "cell_type": "code",
   "execution_count": 27,
   "id": "1e0b7ddc-3473-45ae-9af8-ce0b4e4214cf",
   "metadata": {},
   "outputs": [
    {
     "data": {
      "text/html": [
       "<table border='1'>\n",
       "<tr><th>location</th></tr>\n",
       "<tr><td>TorontoMetU - Tor...</td></tr>\n",
       "<tr><td>Lagos Nigeria</td></tr>\n",
       "<tr><td>Lagos, Nigeria</td></tr>\n",
       "<tr><td>India</td></tr>\n",
       "<tr><td>Gurdaspur, Punjab</td></tr>\n",
       "<tr><td>he him 18</td></tr>\n",
       "<tr><td>Fayetteville, AR</td></tr>\n",
       "<tr><td>Ayrshire, Scotland</td></tr>\n",
       "<tr><td>pittsburgh, pa</td></tr>\n",
       "<tr><td>Baltimore, MD</td></tr>\n",
       "</table>\n"
      ],
      "text/plain": [
       "+--------------------+\n",
       "|            location|\n",
       "+--------------------+\n",
       "|TorontoMetU - Tor...|\n",
       "|       Lagos Nigeria|\n",
       "|      Lagos, Nigeria|\n",
       "|               India|\n",
       "|   Gurdaspur, Punjab|\n",
       "|           he him 18|\n",
       "|    Fayetteville, AR|\n",
       "|  Ayrshire, Scotland|\n",
       "|      pittsburgh, pa|\n",
       "|       Baltimore, MD|\n",
       "+--------------------+"
      ]
     },
     "execution_count": 27,
     "metadata": {},
     "output_type": "execute_result"
    }
   ],
   "source": [
    "tweets_filtered.filter(f.col('user.location').isNotNull()).select('user.location').limit(10)"
   ]
  },
  {
   "cell_type": "markdown",
   "id": "56d2290f-304d-4a14-9223-083542e94c8d",
   "metadata": {},
   "source": [
    "### Filtering out the useful columns"
   ]
  },
  {
   "cell_type": "code",
   "execution_count": 9,
   "id": "55030603-5bad-4032-87e9-0f9f2d051d29",
   "metadata": {},
   "outputs": [
    {
     "name": "stderr",
     "output_type": "stream",
     "text": [
      "                                                                                \r"
     ]
    },
    {
     "data": {
      "text/html": [
       "<table border='1'>\n",
       "<tr><th>user_description</th><th>user_favourites_count</th><th>user_followers_count</th><th>user_friends_count</th><th>user_id_str</th><th>user_name</th><th>user_protected</th><th>user_screen_name</th><th>user_statuses_count</th><th>user_verified</th><th>user_withheld_in_countries</th><th>user_location</th><th>created_at</th><th>retweeted_status</th><th>retweeted</th><th>in_reply_to_status_id_str</th><th>id_str</th><th>retweeted_from</th><th>tweet_text</th><th>quoted_status</th><th>hashtags</th><th>tweet_coordinates</th><th>retweet_count</th><th>user.name</th><th>user.description</th></tr>\n",
       "<tr><td>PSU  |  Pittsburg...</td><td>1170</td><td>1131</td><td>681</td><td>258994988</td><td>Gregg Garrity</td><td>false</td><td>GreggGarrity19</td><td>4157</td><td>false</td><td>[]</td><td>null</td><td>2022-08-02 15:20:19</td><td>{null, Tue Aug 02...</td><td>RT</td><td>null</td><td>1554487264255803392</td><td>AdamBreneman81</td><td>i tell college at...</td><td>null</td><td>[]</td><td>null</td><td>13</td><td>Adam Breneman</td><td>Host, @BrenemanSh...</td></tr>\n",
       "<tr><td>Toronto Metropoli...</td><td>3149</td><td>625</td><td>225</td><td>1920532658</td><td>StrongerTMU</td><td>false</td><td>StrongerTMU</td><td>5201</td><td>false</td><td>[]</td><td>TorontoMetU - Tor...</td><td>2022-08-02 15:20:20</td><td>{null, Wed Jul 27...</td><td>RT</td><td>null</td><td>1554487268446015490</td><td>thecreativeschl</td><td>in a conversation...</td><td>null</td><td>[]</td><td>null</td><td>3</td><td>The Creative School</td><td>A dynamic faculty...</td></tr>\n",
       "<tr><td>Crypto, Music Blo...</td><td>5919</td><td>139</td><td>528</td><td>1363991889184227329</td><td>Henry</td><td>false</td><td>henryyyyyyyy_</td><td>1119</td><td>false</td><td>[]</td><td>Lagos Nigeria</td><td>2022-08-02 15:20:28</td><td>{null, Tue Aug 02...</td><td>RT</td><td>null</td><td>1554487301157408768</td><td>Naija_PR</td><td>children of polit...</td><td>null</td><td>[]</td><td>null</td><td>218</td><td>Naija</td><td>Get to know the t...</td></tr>\n",
       "<tr><td>just being me; Pr...</td><td>8373</td><td>1933</td><td>1956</td><td>3121506809</td><td>Skillful</td><td>false</td><td>skillful_makuo</td><td>10158</td><td>false</td><td>[]</td><td>Lagos, Nigeria</td><td>2022-08-02 15:20:30</td><td>{null, Tue Aug 02...</td><td>RT</td><td>null</td><td>1554487309617299458</td><td>AfricaFactsZone</td><td>rwanda has increa...</td><td>null</td><td>[]</td><td>null</td><td>1531</td><td>Africa Facts Zone</td><td>Africa&#x27;s biggest ...</td></tr>\n",
       "<tr><td>null</td><td>8099</td><td>118</td><td>268</td><td>2409456132</td><td>Gourav Dwivedi</td><td>false</td><td>gouravd17</td><td>3820</td><td>false</td><td>[]</td><td>India</td><td>2022-08-02 15:20:32</td><td>null</td><td></td><td>1554485667630960640</td><td>1554487319990013957</td><td>null</td><td>@dpradhanbjp sir ...</td><td>null</td><td>[]</td><td>null</td><td>null</td><td>null</td><td>null</td></tr>\n",
       "</table>\n"
      ],
      "text/plain": [
       "+--------------------+---------------------+--------------------+------------------+-------------------+--------------+--------------+----------------+-------------------+-------------+--------------------------+--------------------+-------------------+--------------------+---------+-------------------------+-------------------+---------------+--------------------+-------------+--------+-----------------+-------------+-------------------+--------------------+\n",
       "|    user_description|user_favourites_count|user_followers_count|user_friends_count|        user_id_str|     user_name|user_protected|user_screen_name|user_statuses_count|user_verified|user_withheld_in_countries|       user_location|         created_at|    retweeted_status|retweeted|in_reply_to_status_id_str|             id_str| retweeted_from|          tweet_text|quoted_status|hashtags|tweet_coordinates|retweet_count|          user.name|    user.description|\n",
       "+--------------------+---------------------+--------------------+------------------+-------------------+--------------+--------------+----------------+-------------------+-------------+--------------------------+--------------------+-------------------+--------------------+---------+-------------------------+-------------------+---------------+--------------------+-------------+--------+-----------------+-------------+-------------------+--------------------+\n",
       "|PSU  |  Pittsburg...|                 1170|                1131|               681|          258994988| Gregg Garrity|         false|  GreggGarrity19|               4157|        false|                        []|                null|2022-08-02 15:20:19|{null, Tue Aug 02...|       RT|                     null|1554487264255803392| AdamBreneman81|i tell college at...|         null|      []|             null|           13|      Adam Breneman|Host, @BrenemanSh...|\n",
       "|Toronto Metropoli...|                 3149|                 625|               225|         1920532658|   StrongerTMU|         false|     StrongerTMU|               5201|        false|                        []|TorontoMetU - Tor...|2022-08-02 15:20:20|{null, Wed Jul 27...|       RT|                     null|1554487268446015490|thecreativeschl|in a conversation...|         null|      []|             null|            3|The Creative School|A dynamic faculty...|\n",
       "|Crypto, Music Blo...|                 5919|                 139|               528|1363991889184227329|         Henry|         false|   henryyyyyyyy_|               1119|        false|                        []|       Lagos Nigeria|2022-08-02 15:20:28|{null, Tue Aug 02...|       RT|                     null|1554487301157408768|       Naija_PR|children of polit...|         null|      []|             null|          218|              Naija|Get to know the t...|\n",
       "|just being me; Pr...|                 8373|                1933|              1956|         3121506809|      Skillful|         false|  skillful_makuo|              10158|        false|                        []|      Lagos, Nigeria|2022-08-02 15:20:30|{null, Tue Aug 02...|       RT|                     null|1554487309617299458|AfricaFactsZone|rwanda has increa...|         null|      []|             null|         1531|  Africa Facts Zone|Africa's biggest ...|\n",
       "|                null|                 8099|                 118|               268|         2409456132|Gourav Dwivedi|         false|       gouravd17|               3820|        false|                        []|               India|2022-08-02 15:20:32|                null|         |      1554485667630960640|1554487319990013957|           null|@dpradhanbjp sir ...|         null|      []|             null|         null|               null|                null|\n",
       "+--------------------+---------------------+--------------------+------------------+-------------------+--------------+--------------+----------------+-------------------+-------------+--------------------------+--------------------+-------------------+--------------------+---------+-------------------------+-------------------+---------------+--------------------+-------------+--------+-----------------+-------------+-------------------+--------------------+"
      ]
     },
     "execution_count": 9,
     "metadata": {},
     "output_type": "execute_result"
    }
   ],
   "source": [
    "tweet_cols = [\"created_at\", \"retweeted_status\", 'retweeted', 'in_reply_to_status_id_str',\"id_str\",\n",
    "              \"retweeted_from\", \"tweet_text\",\"quoted_status\"]\n",
    "\n",
    "coordinate_cols = [\"coordinates\"]\n",
    "\n",
    "user_cols = [\"description\",\"favourites_count\",\"followers_count\",\"friends_count\",\"id_str\",\n",
    "            \"name\",\"protected\",\"screen_name\",\"statuses_count\",\"verified\",\"withheld_in_countries\",\"location\"]\n",
    "\n",
    "ent_cols = [\"hashtags\"]\n",
    "\n",
    "retweet_cols = [\"retweet_count\",\"user.name\",\"user.description\"]\n",
    "\n",
    "quoted_cols = [\"quote_count\"]\n",
    "\n",
    "tweets_df = tweets_filtered.select([*[col('user.' + col_name).alias('user_' + col_name) for col_name in user_cols],\n",
    "                                  *[col(col_name).alias(col_name) for col_name in tweet_cols],\n",
    "                                  *[col('entities.' + col_name).alias(col_name) for col_name in ent_cols],\n",
    "                         *[col('coordinates.' + col_name).alias(\"tweet_coordinates\") for col_name in coordinate_cols],\n",
    "                            *[col('retweeted_status.' + col_name).alias(col_name) for col_name in retweet_cols]])\\\n",
    ".withColumn('created_at',to_timestamp(col('created_at'),'EEE MMM dd HH:mm:ss zzzzz yyyy'))\n",
    "\n",
    "tweets_df.limit(5)"
   ]
  },
  {
   "cell_type": "code",
   "execution_count": 10,
   "id": "3b0125da-c675-4973-8e71-acc4a5623352",
   "metadata": {},
   "outputs": [],
   "source": [
    "tweets_df = tweets_df.withColumnRenamed('coordinates', 'tweet_coordinates')\\\n",
    ".withColumnRenamed('user_id_str','user_id')\\\n",
    ".withColumnRenamed('user.name','retweeted_from_name')\\\n",
    ".withColumnRenamed('user.description','retweeted_from_description')\\\n",
    ".withColumnRenamed('id_str','tweet_id')"
   ]
  },
  {
   "cell_type": "code",
   "execution_count": 30,
   "id": "460bc465-6316-4f0c-b1c9-b9483efe51f0",
   "metadata": {},
   "outputs": [
    {
     "data": {
      "text/plain": [
       "['user_description',\n",
       " 'user_favourites_count',\n",
       " 'user_followers_count',\n",
       " 'user_friends_count',\n",
       " 'user_id',\n",
       " 'user_name',\n",
       " 'user_protected',\n",
       " 'user_screen_name',\n",
       " 'user_statuses_count',\n",
       " 'user_verified',\n",
       " 'user_withheld_in_countries',\n",
       " 'user_location',\n",
       " 'created_at',\n",
       " 'retweeted_status',\n",
       " 'retweeted',\n",
       " 'in_reply_to_status_id_str',\n",
       " 'tweet_id',\n",
       " 'retweeted_from',\n",
       " 'tweet_text',\n",
       " 'quoted_status',\n",
       " 'hashtags',\n",
       " 'tweet_coordinates',\n",
       " 'retweet_count',\n",
       " 'retweeted_from_name',\n",
       " 'retweeted_from_description']"
      ]
     },
     "execution_count": 30,
     "metadata": {},
     "output_type": "execute_result"
    }
   ],
   "source": [
    "tweets_df.columns"
   ]
  },
  {
   "cell_type": "markdown",
   "id": "6d7d5efa-bd02-40f2-80ed-681e51c19937",
   "metadata": {},
   "source": [
    "### Boolean columns for Reply and Retweet Filtering"
   ]
  },
  {
   "cell_type": "code",
   "execution_count": 11,
   "id": "2773a0fd-e029-464d-ba2d-f79832745a57",
   "metadata": {},
   "outputs": [],
   "source": [
    "tweets_df = tweets_df.withColumn('in_reply_to_status_id_str', f.when(tweets_df['in_reply_to_status_id_str'].isNotNull(), True).otherwise(False))"
   ]
  },
  {
   "cell_type": "code",
   "execution_count": 32,
   "id": "a44bf839-c2ca-46f3-afc3-a45967d80559",
   "metadata": {},
   "outputs": [
    {
     "name": "stderr",
     "output_type": "stream",
     "text": [
      "                                                                                \r"
     ]
    },
    {
     "data": {
      "text/html": [
       "<table border='1'>\n",
       "<tr><th>in_reply_to_status_id_str</th></tr>\n",
       "<tr><td>false</td></tr>\n",
       "<tr><td>true</td></tr>\n",
       "<tr><td>false</td></tr>\n",
       "<tr><td>false</td></tr>\n",
       "<tr><td>false</td></tr>\n",
       "<tr><td>false</td></tr>\n",
       "<tr><td>false</td></tr>\n",
       "<tr><td>true</td></tr>\n",
       "<tr><td>true</td></tr>\n",
       "<tr><td>false</td></tr>\n",
       "</table>\n"
      ],
      "text/plain": [
       "+-------------------------+\n",
       "|in_reply_to_status_id_str|\n",
       "+-------------------------+\n",
       "|                    false|\n",
       "|                    false|\n",
       "|                     true|\n",
       "|                    false|\n",
       "|                    false|\n",
       "|                    false|\n",
       "|                    false|\n",
       "|                     true|\n",
       "|                    false|\n",
       "|                    false|\n",
       "+-------------------------+"
      ]
     },
     "execution_count": 32,
     "metadata": {},
     "output_type": "execute_result"
    }
   ],
   "source": [
    "tweets_df.select('in_reply_to_status_id_str').limit(10)"
   ]
  },
  {
   "cell_type": "code",
   "execution_count": 12,
   "id": "853c900a-fe6f-4091-b89e-f6aba4c47575",
   "metadata": {},
   "outputs": [],
   "source": [
    "# Change column name\n",
    "tweets_df = tweets_df.withColumnRenamed('in_reply_to_status_id_str', 'is_reply')"
   ]
  },
  {
   "cell_type": "code",
   "execution_count": 34,
   "id": "9f67803e-439e-4f33-a57c-7daa5043d7a6",
   "metadata": {},
   "outputs": [
    {
     "name": "stderr",
     "output_type": "stream",
     "text": [
      "                                                                                \r"
     ]
    },
    {
     "data": {
      "text/plain": [
       "1773774"
      ]
     },
     "execution_count": 34,
     "metadata": {},
     "output_type": "execute_result"
    }
   ],
   "source": [
    "tweets_df.filter(tweets_df['is_reply']=='true').count()"
   ]
  },
  {
   "cell_type": "code",
   "execution_count": 13,
   "id": "9ac4555d-d36d-487b-b2a1-5ae320207679",
   "metadata": {},
   "outputs": [],
   "source": [
    "tweets_df = tweets_df.withColumn('retweeted', f.when(tweets_df['retweet_count'].isNotNull(), True).otherwise(False))"
   ]
  },
  {
   "cell_type": "code",
   "execution_count": 14,
   "id": "603fb49a-7ce3-402e-9675-7aa7471fe0b6",
   "metadata": {},
   "outputs": [],
   "source": [
    "# Change column name\n",
    "tweets_df = tweets_df.withColumnRenamed('retweeted', 'is_retweet')"
   ]
  },
  {
   "cell_type": "code",
   "execution_count": 37,
   "id": "5e24f503-b853-44b5-b926-e5e3f59d0655",
   "metadata": {},
   "outputs": [
    {
     "name": "stderr",
     "output_type": "stream",
     "text": [
      "                                                                                \r"
     ]
    },
    {
     "data": {
      "text/html": [
       "<table border='1'>\n",
       "<tr><th>is_retweet</th><th>retweeted_from_description</th><th>user_description</th></tr>\n",
       "<tr><td>false</td><td>null</td><td>UI/UX Design stud...</td></tr>\n",
       "<tr><td>true</td><td>logcast:imzarvinn...</td><td>I&#x27;m counting on y...</td></tr>\n",
       "<tr><td>true</td><td>logcast:imzarvinn...</td><td>she/her          ...</td></tr>\n",
       "<tr><td>true</td><td>Speaking of Jesus...</td><td>Physics PhD, soft...</td></tr>\n",
       "<tr><td>false</td><td>null</td><td>more than 1k+ wor...</td></tr>\n",
       "<tr><td>true</td><td>Co-Founder/Lawyer...</td><td>null</td></tr>\n",
       "<tr><td>false</td><td>null</td><td>more than 1k+ wor...</td></tr>\n",
       "<tr><td>true</td><td>4th grade teacher...</td><td>✨3rd Grade teache...</td></tr>\n",
       "<tr><td>false</td><td>null</td><td>Aristocrat</td></tr>\n",
       "<tr><td>true</td><td>Editor in Chief, ...</td><td>Molecular microbi...</td></tr>\n",
       "</table>\n"
      ],
      "text/plain": [
       "+----------+--------------------------+--------------------+\n",
       "|is_retweet|retweeted_from_description|    user_description|\n",
       "+----------+--------------------------+--------------------+\n",
       "|      true|      Host, @BrenemanSh...|PSU  |  Pittsburg...|\n",
       "|      true|      A dynamic faculty...|Toronto Metropoli...|\n",
       "|      true|      Get to know the t...|Crypto, Music Blo...|\n",
       "|      true|      Africa's biggest ...|just being me; Pr...|\n",
       "|     false|                      null|                null|\n",
       "|      true|                      null|Pharmacist and Fa...|\n",
       "|     false|                      null|If y'all see btsl...|\n",
       "|      true|      Political Analyst...|A Nationalist. Mi...|\n",
       "|      true|      Twitter home for ...|Tufts 2017 | Clin...|\n",
       "|      true|      Postgraduate Cert...|Chris Paton, Iris...|\n",
       "+----------+--------------------------+--------------------+"
      ]
     },
     "execution_count": 37,
     "metadata": {},
     "output_type": "execute_result"
    }
   ],
   "source": [
    "# Check retweet_description\n",
    "tweets_df.select(['is_retweet', 'retweeted_from_description', 'user_description']).limit(10)"
   ]
  },
  {
   "cell_type": "code",
   "execution_count": null,
   "id": "77ca5a44-014d-4103-a566-5dad0ed81882",
   "metadata": {},
   "outputs": [],
   "source": [
    "#Only when is_retweet is True should retweeted_from_description be non-null. In addition, retweeted_from_description should be different from user_description when it is non-null"
   ]
  },
  {
   "cell_type": "code",
   "execution_count": 38,
   "id": "5ddd77cc-3245-44a7-92eb-b9d894015bbf",
   "metadata": {},
   "outputs": [
    {
     "name": "stderr",
     "output_type": "stream",
     "text": [
      "[Stage 88:=====================================================>(221 + 1) / 222]\r"
     ]
    },
    {
     "name": "stdout",
     "output_type": "stream",
     "text": [
      "+----------+--------------------------+\n",
      "|is_retweet|retweeted_from_description|\n",
      "+----------+--------------------------+\n",
      "+----------+--------------------------+\n",
      "\n"
     ]
    },
    {
     "name": "stderr",
     "output_type": "stream",
     "text": [
      "                                                                                \r"
     ]
    }
   ],
   "source": [
    "# Check return zero rows\n",
    "tweets_df.select(['is_retweet', 'retweeted_from_description']).filter(~(f.col('is_retweet')) & (f.col('retweeted_from_description').isNotNull())).show(10)"
   ]
  },
  {
   "cell_type": "code",
   "execution_count": 39,
   "id": "f4039175-57a6-4690-afb4-9473f825c532",
   "metadata": {},
   "outputs": [
    {
     "name": "stderr",
     "output_type": "stream",
     "text": [
      "                                                                                \r"
     ]
    },
    {
     "data": {
      "text/html": [
       "<table border='1'>\n",
       "<tr><th>created_at</th></tr>\n",
       "<tr><td>2022-08-23 22:55:01</td></tr>\n",
       "<tr><td>2022-08-23 22:55:02</td></tr>\n",
       "<tr><td>2022-08-23 22:55:03</td></tr>\n",
       "<tr><td>2022-08-23 22:55:03</td></tr>\n",
       "<tr><td>2022-08-23 22:55:03</td></tr>\n",
       "<tr><td>2022-08-23 22:55:04</td></tr>\n",
       "<tr><td>2022-08-23 22:55:09</td></tr>\n",
       "<tr><td>2022-08-23 22:55:12</td></tr>\n",
       "<tr><td>2022-08-23 22:55:12</td></tr>\n",
       "<tr><td>2022-08-23 22:55:13</td></tr>\n",
       "</table>\n"
      ],
      "text/plain": [
       "+-------------------+\n",
       "|         created_at|\n",
       "+-------------------+\n",
       "|2023-01-09 21:42:48|\n",
       "|2023-01-09 21:42:50|\n",
       "|2023-01-09 21:42:50|\n",
       "|2023-01-09 21:42:50|\n",
       "|2023-01-09 21:42:51|\n",
       "|2023-01-09 21:42:53|\n",
       "|2023-01-09 21:42:53|\n",
       "|2023-01-09 21:42:53|\n",
       "|2023-01-09 21:42:55|\n",
       "|2023-01-09 21:42:55|\n",
       "+-------------------+"
      ]
     },
     "execution_count": 39,
     "metadata": {},
     "output_type": "execute_result"
    }
   ],
   "source": [
    "tweets_df.select('created_at').limit(10)"
   ]
  },
  {
   "cell_type": "code",
   "execution_count": 15,
   "id": "bc83a8d4-83fe-4c90-8990-9e9261f70e2a",
   "metadata": {},
   "outputs": [],
   "source": [
    "# Rename date columns\n",
    "tweets_df = tweets_df.withColumnRenamed('created_at', 'tweet_date')"
   ]
  },
  {
   "cell_type": "code",
   "execution_count": 41,
   "id": "fd2eed67-b175-4022-850d-efd36d1563ec",
   "metadata": {},
   "outputs": [
    {
     "name": "stderr",
     "output_type": "stream",
     "text": [
      "                                                                                \r"
     ]
    }
   ],
   "source": [
    "missing_ratios = {key:tweets_df.filter(f.col(key).isNull()).count() / 13128895 for key in tweets_df.columns}"
   ]
  },
  {
   "cell_type": "code",
   "execution_count": 42,
   "id": "75a8ad67-f91b-42aa-a1a1-4c2f5399a6d5",
   "metadata": {},
   "outputs": [
    {
     "data": {
      "text/html": [
       "<div>\n",
       "<style scoped>\n",
       "    .dataframe tbody tr th:only-of-type {\n",
       "        vertical-align: middle;\n",
       "    }\n",
       "\n",
       "    .dataframe tbody tr th {\n",
       "        vertical-align: top;\n",
       "    }\n",
       "\n",
       "    .dataframe thead th {\n",
       "        text-align: right;\n",
       "    }\n",
       "</style>\n",
       "<table border=\"1\" class=\"dataframe\">\n",
       "  <thead>\n",
       "    <tr style=\"text-align: right;\">\n",
       "      <th></th>\n",
       "      <th>cols</th>\n",
       "      <th>ratios</th>\n",
       "    </tr>\n",
       "  </thead>\n",
       "  <tbody>\n",
       "    <tr>\n",
       "      <th>0</th>\n",
       "      <td>user_description</td>\n",
       "      <td>0.175609</td>\n",
       "    </tr>\n",
       "    <tr>\n",
       "      <th>1</th>\n",
       "      <td>user_favourites_count</td>\n",
       "      <td>0.000000</td>\n",
       "    </tr>\n",
       "    <tr>\n",
       "      <th>2</th>\n",
       "      <td>user_followers_count</td>\n",
       "      <td>0.000000</td>\n",
       "    </tr>\n",
       "    <tr>\n",
       "      <th>3</th>\n",
       "      <td>user_friends_count</td>\n",
       "      <td>0.000000</td>\n",
       "    </tr>\n",
       "    <tr>\n",
       "      <th>4</th>\n",
       "      <td>user_id</td>\n",
       "      <td>0.000000</td>\n",
       "    </tr>\n",
       "    <tr>\n",
       "      <th>5</th>\n",
       "      <td>user_name</td>\n",
       "      <td>0.000000</td>\n",
       "    </tr>\n",
       "    <tr>\n",
       "      <th>6</th>\n",
       "      <td>user_protected</td>\n",
       "      <td>0.000000</td>\n",
       "    </tr>\n",
       "    <tr>\n",
       "      <th>7</th>\n",
       "      <td>user_screen_name</td>\n",
       "      <td>0.000000</td>\n",
       "    </tr>\n",
       "    <tr>\n",
       "      <th>8</th>\n",
       "      <td>user_statuses_count</td>\n",
       "      <td>0.000000</td>\n",
       "    </tr>\n",
       "    <tr>\n",
       "      <th>9</th>\n",
       "      <td>user_verified</td>\n",
       "      <td>0.000000</td>\n",
       "    </tr>\n",
       "    <tr>\n",
       "      <th>10</th>\n",
       "      <td>user_withheld_in_countries</td>\n",
       "      <td>0.000000</td>\n",
       "    </tr>\n",
       "    <tr>\n",
       "      <th>11</th>\n",
       "      <td>user_location</td>\n",
       "      <td>0.380357</td>\n",
       "    </tr>\n",
       "    <tr>\n",
       "      <th>12</th>\n",
       "      <td>tweet_date</td>\n",
       "      <td>0.000000</td>\n",
       "    </tr>\n",
       "    <tr>\n",
       "      <th>13</th>\n",
       "      <td>retweeted_status</td>\n",
       "      <td>0.301332</td>\n",
       "    </tr>\n",
       "    <tr>\n",
       "      <th>14</th>\n",
       "      <td>is_retweet</td>\n",
       "      <td>0.000000</td>\n",
       "    </tr>\n",
       "    <tr>\n",
       "      <th>15</th>\n",
       "      <td>is_reply</td>\n",
       "      <td>0.000000</td>\n",
       "    </tr>\n",
       "    <tr>\n",
       "      <th>16</th>\n",
       "      <td>tweet_id</td>\n",
       "      <td>0.000000</td>\n",
       "    </tr>\n",
       "    <tr>\n",
       "      <th>17</th>\n",
       "      <td>retweeted_from</td>\n",
       "      <td>0.237616</td>\n",
       "    </tr>\n",
       "    <tr>\n",
       "      <th>18</th>\n",
       "      <td>tweet_text</td>\n",
       "      <td>0.000000</td>\n",
       "    </tr>\n",
       "    <tr>\n",
       "      <th>19</th>\n",
       "      <td>quoted_status</td>\n",
       "      <td>0.935227</td>\n",
       "    </tr>\n",
       "    <tr>\n",
       "      <th>20</th>\n",
       "      <td>hashtags</td>\n",
       "      <td>0.000000</td>\n",
       "    </tr>\n",
       "    <tr>\n",
       "      <th>21</th>\n",
       "      <td>tweet_coordinates</td>\n",
       "      <td>0.999102</td>\n",
       "    </tr>\n",
       "    <tr>\n",
       "      <th>22</th>\n",
       "      <td>retweet_count</td>\n",
       "      <td>0.301332</td>\n",
       "    </tr>\n",
       "    <tr>\n",
       "      <th>23</th>\n",
       "      <td>retweeted_from_name</td>\n",
       "      <td>0.301332</td>\n",
       "    </tr>\n",
       "    <tr>\n",
       "      <th>24</th>\n",
       "      <td>retweeted_from_description</td>\n",
       "      <td>0.324961</td>\n",
       "    </tr>\n",
       "  </tbody>\n",
       "</table>\n",
       "</div>"
      ],
      "text/plain": [
       "                          cols    ratios\n",
       "0             user_description  0.175609\n",
       "1        user_favourites_count  0.000000\n",
       "2         user_followers_count  0.000000\n",
       "3           user_friends_count  0.000000\n",
       "4                      user_id  0.000000\n",
       "5                    user_name  0.000000\n",
       "6               user_protected  0.000000\n",
       "7             user_screen_name  0.000000\n",
       "8          user_statuses_count  0.000000\n",
       "9                user_verified  0.000000\n",
       "10  user_withheld_in_countries  0.000000\n",
       "11               user_location  0.380357\n",
       "12                  tweet_date  0.000000\n",
       "13            retweeted_status  0.301332\n",
       "14                  is_retweet  0.000000\n",
       "15                    is_reply  0.000000\n",
       "16                    tweet_id  0.000000\n",
       "17              retweeted_from  0.237616\n",
       "18                  tweet_text  0.000000\n",
       "19               quoted_status  0.935227\n",
       "20                    hashtags  0.000000\n",
       "21           tweet_coordinates  0.999102\n",
       "22               retweet_count  0.301332\n",
       "23         retweeted_from_name  0.301332\n",
       "24  retweeted_from_description  0.324961"
      ]
     },
     "execution_count": 42,
     "metadata": {},
     "output_type": "execute_result"
    }
   ],
   "source": [
    "missing_df = pd.DataFrame(\n",
    "    {'cols': missing_ratios.keys(),\n",
    "     'ratios': missing_ratios.values()}\n",
    ")\n",
    "missing_df"
   ]
  },
  {
   "cell_type": "code",
   "execution_count": 43,
   "id": "5c0a784d-1295-4781-978e-7c8f32fb742e",
   "metadata": {},
   "outputs": [
    {
     "name": "stderr",
     "output_type": "stream",
     "text": [
      "                                                                                \r"
     ]
    },
    {
     "data": {
      "text/plain": [
       "5242316"
      ]
     },
     "execution_count": 43,
     "metadata": {},
     "output_type": "execute_result"
    }
   ],
   "source": [
    "unique_users = tweets_df.select('user_id').distinct().count()\n",
    "unique_users"
   ]
  },
  {
   "cell_type": "code",
   "execution_count": 44,
   "id": "b726eaae-a9a8-4b9b-8727-f57c13d87483",
   "metadata": {},
   "outputs": [
    {
     "name": "stderr",
     "output_type": "stream",
     "text": [
      "                                                                                \r"
     ]
    },
    {
     "data": {
      "text/plain": [
       "13127771"
      ]
     },
     "execution_count": 44,
     "metadata": {},
     "output_type": "execute_result"
    }
   ],
   "source": [
    "unique_tweets = tweets_df.select('tweet_id').distinct().count()\n",
    "unique_tweets"
   ]
  },
  {
   "cell_type": "code",
   "execution_count": 46,
   "id": "60cec673-a69c-4464-af54-16f456c165e5",
   "metadata": {},
   "outputs": [
    {
     "name": "stderr",
     "output_type": "stream",
     "text": [
      "                                                                                \r"
     ]
    },
    {
     "data": {
      "text/html": [
       "<table border='1'>\n",
       "<tr><th>is_retweet</th><th>retweeted_from</th><th>retweet_count</th></tr>\n",
       "<tr><td>true</td><td>coffee_puccino</td><td>4507</td></tr>\n",
       "<tr><td>true</td><td>RepValDemings</td><td>143</td></tr>\n",
       "<tr><td>false</td><td>null</td><td>null</td></tr>\n",
       "<tr><td>true</td><td>chriseveleens</td><td>3</td></tr>\n",
       "<tr><td>false</td><td>null</td><td>null</td></tr>\n",
       "<tr><td>true</td><td>ochoshon</td><td>5</td></tr>\n",
       "<tr><td>true</td><td>ifyouseekkae</td><td>2179</td></tr>\n",
       "<tr><td>true</td><td>passionspen</td><td>252</td></tr>\n",
       "<tr><td>false</td><td>null</td><td>null</td></tr>\n",
       "<tr><td>true</td><td>alainnasimone</td><td>41</td></tr>\n",
       "</table>\n"
      ],
      "text/plain": [
       "+----------+---------------+-------------+\n",
       "|is_retweet| retweeted_from|retweet_count|\n",
       "+----------+---------------+-------------+\n",
       "|     false|           null|         null|\n",
       "|     false|           null|         null|\n",
       "|      true|        erlesen|            1|\n",
       "|     false|           null|         null|\n",
       "|      true| sabanya_smiles|            3|\n",
       "|      true| unusual_whales|            6|\n",
       "|      true| BhavikaKapoor5|            9|\n",
       "|     false|           null|         null|\n",
       "|      true|     RWMaloneMD|         4279|\n",
       "|      true|lovewalesfamily|           36|\n",
       "+----------+---------------+-------------+"
      ]
     },
     "execution_count": 46,
     "metadata": {},
     "output_type": "execute_result"
    }
   ],
   "source": [
    "tweets_df.select(['is_retweet', 'retweeted_from', 'retweet_count']).limit(10)"
   ]
  },
  {
   "cell_type": "code",
   "execution_count": 47,
   "id": "f0972ecd-2c55-43f4-8042-3fa31856ed08",
   "metadata": {},
   "outputs": [
    {
     "data": {
      "text/html": [
       "<table border='1'>\n",
       "<tr><th>is_retweet</th><th>retweeted_from</th></tr>\n",
       "</table>\n"
      ],
      "text/plain": [
       "+----------+--------------+\n",
       "|is_retweet|retweeted_from|\n",
       "+----------+--------------+\n",
       "+----------+--------------+"
      ]
     },
     "execution_count": 47,
     "metadata": {},
     "output_type": "execute_result"
    }
   ],
   "source": [
    "tweets_df.filter((f.col('retweeted_from').isNotNull()) & (f.col('is_retweet').isNull())).select('is_retweet', 'retweeted_from').limit(10)"
   ]
  },
  {
   "cell_type": "code",
   "execution_count": 48,
   "id": "a4ec951a-5228-4cc7-af11-ca961016e301",
   "metadata": {},
   "outputs": [
    {
     "name": "stderr",
     "output_type": "stream",
     "text": [
      "                                                                                \r"
     ]
    },
    {
     "data": {
      "text/html": [
       "<table border='1'>\n",
       "<tr><th>is_retweet</th><th>retweeted_from</th></tr>\n",
       "<tr><td>false</td><td>null</td></tr>\n",
       "<tr><td>false</td><td>null</td></tr>\n",
       "<tr><td>false</td><td>null</td></tr>\n",
       "<tr><td>false</td><td>null</td></tr>\n",
       "<tr><td>false</td><td>null</td></tr>\n",
       "<tr><td>false</td><td>null</td></tr>\n",
       "<tr><td>false</td><td>null</td></tr>\n",
       "<tr><td>false</td><td>null</td></tr>\n",
       "<tr><td>false</td><td>null</td></tr>\n",
       "<tr><td>false</td><td>null</td></tr>\n",
       "</table>\n"
      ],
      "text/plain": [
       "+----------+--------------+\n",
       "|is_retweet|retweeted_from|\n",
       "+----------+--------------+\n",
       "|     false|          null|\n",
       "|     false|          null|\n",
       "|     false|          null|\n",
       "|     false|          null|\n",
       "|     false|          null|\n",
       "|     false|          null|\n",
       "|     false|          null|\n",
       "|     false|          null|\n",
       "|     false|          null|\n",
       "|     false|          null|\n",
       "+----------+--------------+"
      ]
     },
     "execution_count": 48,
     "metadata": {},
     "output_type": "execute_result"
    }
   ],
   "source": [
    "tweets_df.filter((f.col('retweeted_from').isNull()) & (f.col('is_retweet').isNotNull())).select('is_retweet', 'retweeted_from').limit(10)"
   ]
  },
  {
   "cell_type": "code",
   "execution_count": 49,
   "id": "3fca1c56-b8f3-4fbd-aa09-5941e30c8a54",
   "metadata": {},
   "outputs": [
    {
     "name": "stderr",
     "output_type": "stream",
     "text": [
      "                                                                                \r"
     ]
    },
    {
     "data": {
      "text/html": [
       "<table border='1'>\n",
       "<tr><th>user_statuses_count</th></tr>\n",
       "<tr><td>9168</td></tr>\n",
       "<tr><td>1465</td></tr>\n",
       "<tr><td>11535</td></tr>\n",
       "<tr><td>38382</td></tr>\n",
       "<tr><td>12376</td></tr>\n",
       "<tr><td>556</td></tr>\n",
       "<tr><td>1751</td></tr>\n",
       "<tr><td>1793</td></tr>\n",
       "<tr><td>2839</td></tr>\n",
       "<tr><td>84429</td></tr>\n",
       "</table>\n"
      ],
      "text/plain": [
       "+-------------------+\n",
       "|user_statuses_count|\n",
       "+-------------------+\n",
       "|                356|\n",
       "|               5624|\n",
       "|                621|\n",
       "|               9188|\n",
       "|                820|\n",
       "|              40773|\n",
       "|                821|\n",
       "|               2362|\n",
       "|               2507|\n",
       "|                146|\n",
       "+-------------------+"
      ]
     },
     "execution_count": 49,
     "metadata": {},
     "output_type": "execute_result"
    }
   ],
   "source": [
    "tweets_df.select(['user_statuses_count']).limit(10)"
   ]
  },
  {
   "cell_type": "code",
   "execution_count": 50,
   "id": "2e487754-6f22-436a-8ec9-920e1dde52f5",
   "metadata": {},
   "outputs": [
    {
     "name": "stderr",
     "output_type": "stream",
     "text": [
      "                                                                                \r"
     ]
    },
    {
     "data": {
      "text/html": [
       "<table border='1'>\n",
       "<tr><th>is_retweet</th><th>retweeted_status</th></tr>\n",
       "<tr><td>true</td><td>{null, Mon Aug 29...</td></tr>\n",
       "<tr><td>true</td><td>{null, Mon Aug 29...</td></tr>\n",
       "<tr><td>true</td><td>{null, Wed Aug 24...</td></tr>\n",
       "<tr><td>true</td><td>{null, Sun Aug 28...</td></tr>\n",
       "<tr><td>true</td><td>{null, Mon Aug 29...</td></tr>\n",
       "<tr><td>true</td><td>{null, Sun Aug 28...</td></tr>\n",
       "<tr><td>true</td><td>{null, Sun Aug 28...</td></tr>\n",
       "<tr><td>false</td><td>null</td></tr>\n",
       "<tr><td>false</td><td>null</td></tr>\n",
       "<tr><td>true</td><td>{null, Mon Aug 29...</td></tr>\n",
       "</table>\n"
      ],
      "text/plain": [
       "+----------+--------------------+\n",
       "|is_retweet|    retweeted_status|\n",
       "+----------+--------------------+\n",
       "|      true|{null, Wed May 11...|\n",
       "|      true|{null, Wed May 11...|\n",
       "|     false|                null|\n",
       "|     false|                null|\n",
       "|      true|{null, Wed May 11...|\n",
       "|      true|{null, Wed May 11...|\n",
       "|     false|                null|\n",
       "|      true|{null, Tue May 10...|\n",
       "|     false|                null|\n",
       "|      true|{null, Wed May 11...|\n",
       "+----------+--------------------+"
      ]
     },
     "execution_count": 50,
     "metadata": {},
     "output_type": "execute_result"
    }
   ],
   "source": [
    "#There is a relationship between is_retweet and retweeted_status \n",
    "tweets_df.select(['is_retweet', 'retweeted_status']).limit(10)"
   ]
  },
  {
   "cell_type": "code",
   "execution_count": 51,
   "id": "07c8bd46-d75b-418e-b987-e11758ac37a7",
   "metadata": {},
   "outputs": [
    {
     "name": "stderr",
     "output_type": "stream",
     "text": [
      "                                                                                \r"
     ]
    },
    {
     "data": {
      "text/html": [
       "<table border='1'>\n",
       "<tr><th>is_retweet</th><th>retweeted_status</th></tr>\n",
       "<tr><td>false</td><td>null</td></tr>\n",
       "<tr><td>false</td><td>null</td></tr>\n",
       "<tr><td>false</td><td>null</td></tr>\n",
       "<tr><td>false</td><td>null</td></tr>\n",
       "<tr><td>false</td><td>null</td></tr>\n",
       "<tr><td>false</td><td>null</td></tr>\n",
       "<tr><td>false</td><td>null</td></tr>\n",
       "<tr><td>false</td><td>null</td></tr>\n",
       "<tr><td>false</td><td>null</td></tr>\n",
       "<tr><td>false</td><td>null</td></tr>\n",
       "</table>\n"
      ],
      "text/plain": [
       "+----------+----------------+\n",
       "|is_retweet|retweeted_status|\n",
       "+----------+----------------+\n",
       "|     false|            null|\n",
       "|     false|            null|\n",
       "|     false|            null|\n",
       "|     false|            null|\n",
       "|     false|            null|\n",
       "|     false|            null|\n",
       "|     false|            null|\n",
       "|     false|            null|\n",
       "|     false|            null|\n",
       "|     false|            null|\n",
       "+----------+----------------+"
      ]
     },
     "execution_count": 51,
     "metadata": {},
     "output_type": "execute_result"
    }
   ],
   "source": [
    "tweets_df.filter((f.col('retweeted_status').isNull()) & (f.col('is_retweet').isNotNull())).select('is_retweet', 'retweeted_status').limit(10)"
   ]
  },
  {
   "cell_type": "code",
   "execution_count": 52,
   "id": "4bff1b19-d67e-4eee-959b-e7967cff2bb9",
   "metadata": {},
   "outputs": [
    {
     "name": "stderr",
     "output_type": "stream",
     "text": [
      "                                                                                \r"
     ]
    },
    {
     "data": {
      "text/html": [
       "<table border='1'>\n",
       "<tr><th>user_location</th><th>is_retweet</th></tr>\n",
       "<tr><td>In kyuhyun&#x27;s heart </td><td>true</td></tr>\n",
       "<tr><td>Norwich, England</td><td>true</td></tr>\n",
       "<tr><td>Atlanta, GA</td><td>true</td></tr>\n",
       "<tr><td>Lake City, FL</td><td>false</td></tr>\n",
       "<tr><td>New York, New York</td><td>false</td></tr>\n",
       "<tr><td>Ehlalankosi nase ...</td><td>true</td></tr>\n",
       "<tr><td>Oneida, KY</td><td>false</td></tr>\n",
       "<tr><td>null</td><td>true</td></tr>\n",
       "<tr><td>null</td><td>false</td></tr>\n",
       "<tr><td>Pretoria, South A...</td><td>true</td></tr>\n",
       "</table>\n"
      ],
      "text/plain": [
       "+--------------------+----------+\n",
       "|       user_location|is_retweet|\n",
       "+--------------------+----------+\n",
       "|                null|      true|\n",
       "|TorontoMetU - Tor...|      true|\n",
       "|       Lagos Nigeria|      true|\n",
       "|      Lagos, Nigeria|      true|\n",
       "|               India|     false|\n",
       "|   Gurdaspur, Punjab|      true|\n",
       "|           he him 18|     false|\n",
       "|                null|      true|\n",
       "|    Fayetteville, AR|      true|\n",
       "|  Ayrshire, Scotland|      true|\n",
       "+--------------------+----------+"
      ]
     },
     "execution_count": 52,
     "metadata": {},
     "output_type": "execute_result"
    }
   ],
   "source": [
    "# Original and retweets can both have null user_location\n",
    "tweets_df.select('user_location', 'is_retweet').limit(10)"
   ]
  },
  {
   "cell_type": "code",
   "execution_count": 36,
   "id": "7a4f39e9-9f99-4ae6-b6e5-68980a64580e",
   "metadata": {},
   "outputs": [
    {
     "data": {
      "text/plain": [
       "['user_description',\n",
       " 'user_favourites_count',\n",
       " 'user_followers_count',\n",
       " 'user_friends_count',\n",
       " 'user_id',\n",
       " 'user_name',\n",
       " 'user_protected',\n",
       " 'user_screen_name',\n",
       " 'user_statuses_count',\n",
       " 'user_verified',\n",
       " 'user_withheld_in_countries',\n",
       " 'user_location',\n",
       " 'tweet_date',\n",
       " 'retweeted_status',\n",
       " 'is_retweet',\n",
       " 'is_reply',\n",
       " 'tweet_id',\n",
       " 'retweeted_from',\n",
       " 'tweet_text',\n",
       " 'quoted_status',\n",
       " 'hashtags',\n",
       " 'tweet_coordinates',\n",
       " 'retweet_count',\n",
       " 'retweeted_from_name',\n",
       " 'retweeted_from_description']"
      ]
     },
     "execution_count": 36,
     "metadata": {},
     "output_type": "execute_result"
    }
   ],
   "source": [
    "tweets_df.columns"
   ]
  },
  {
   "cell_type": "markdown",
   "id": "928876ad-8e8e-4714-9ac0-c510fb2740f2",
   "metadata": {},
   "source": [
    "### Cleaning the Tweet Text"
   ]
  },
  {
   "cell_type": "code",
   "execution_count": 16,
   "id": "de8ac47c-21cd-4f24-b1a5-68f09b0b4c6a",
   "metadata": {},
   "outputs": [
    {
     "name": "stderr",
     "output_type": "stream",
     "text": [
      "[nltk_data] Downloading package omw-1.4 to /root/nltk_data...\n",
      "[nltk_data]   Package omw-1.4 is already up-to-date!\n",
      "[nltk_data] Downloading package stopwords to /root/nltk_data...\n",
      "[nltk_data]   Package stopwords is already up-to-date!\n",
      "[nltk_data] Downloading package wordnet to /root/nltk_data...\n",
      "[nltk_data]   Package wordnet is already up-to-date!\n"
     ]
    }
   ],
   "source": [
    "import nltk\n",
    "nltk.download('omw-1.4')\n",
    "nltk.download('stopwords')\n",
    "nltk.download('wordnet')\n",
    "from nltk.corpus import stopwords\n",
    "from nltk.corpus import wordnet"
   ]
  },
  {
   "cell_type": "code",
   "execution_count": 17,
   "id": "bb962dac-02a7-4a27-bb05-f4fbc026ae28",
   "metadata": {},
   "outputs": [],
   "source": [
    "import re"
   ]
  },
  {
   "cell_type": "code",
   "execution_count": 18,
   "id": "3814e49b-9426-4e8b-84c4-3e7283324a2d",
   "metadata": {},
   "outputs": [],
   "source": [
    "stopwords_eng = stopwords.words('english')\n",
    "\n",
    "\n",
    "@f.udf(returnType=StringType())\n",
    "def clean_tweet(tweet):\n",
    "    text = tweet.strip().lower()\n",
    "    # Contractions like can't, won't, but also removes it's, mike's\n",
    "    text = re.sub(\"'\", \"\", text) \n",
    "    # Links\n",
    "    text = re.sub(r'http\\S+', '', text)\n",
    "    text = re.sub(r\"www.\\S+\", '', text)\n",
    "    # Punctuation\n",
    "    text = re.sub('[()!?]', ' ', text)\n",
    "    text = re.sub('\\[.*?\\]',' ', text)\n",
    "    # Only alphanumeric\n",
    "    text = re.sub(\"[^a-z0-9]\",\" \", text)\n",
    "    text = text.split()\n",
    "    text = [word for word in text if not word in stopwords_eng]\n",
    "    text = \" \".join(word for word in text)\n",
    "    return text"
   ]
  },
  {
   "cell_type": "code",
   "execution_count": 44,
   "id": "666111db-c7ec-4091-8117-b0a1764216a4",
   "metadata": {},
   "outputs": [
    {
     "data": {
      "text/html": [
       "<table border='1'>\n",
       "<tr><th>tweet_text</th></tr>\n",
       "<tr><td>i tell college at...</td></tr>\n",
       "<tr><td>in a conversation...</td></tr>\n",
       "<tr><td>children of polit...</td></tr>\n",
       "<tr><td>rwanda has increa...</td></tr>\n",
       "<tr><td>@dpradhanbjp sir ...</td></tr>\n",
       "<tr><td>these two are lik...</td></tr>\n",
       "<tr><td>@starsootball gir...</td></tr>\n",
       "<tr><td>two hindu childre...</td></tr>\n",
       "<tr><td>new research from...</td></tr>\n",
       "<tr><td>1/2 pls share! th...</td></tr>\n",
       "</table>\n"
      ],
      "text/plain": [
       "+--------------------+\n",
       "|          tweet_text|\n",
       "+--------------------+\n",
       "|i tell college at...|\n",
       "|in a conversation...|\n",
       "|children of polit...|\n",
       "|rwanda has increa...|\n",
       "|@dpradhanbjp sir ...|\n",
       "|these two are lik...|\n",
       "|@starsootball gir...|\n",
       "|two hindu childre...|\n",
       "|new research from...|\n",
       "|1/2 pls share! th...|\n",
       "+--------------------+"
      ]
     },
     "execution_count": 44,
     "metadata": {},
     "output_type": "execute_result"
    }
   ],
   "source": [
    "tweets_df.select('tweet_text').limit(10)"
   ]
  },
  {
   "cell_type": "code",
   "execution_count": 19,
   "id": "a1417db6-22df-4366-8bbd-c41e809962da",
   "metadata": {},
   "outputs": [],
   "source": [
    "tweets_df = tweets_df.withColumn('tweet_text', clean_tweet('tweet_text'))"
   ]
  },
  {
   "cell_type": "code",
   "execution_count": 46,
   "id": "39f03cda-20c9-476d-8af5-7ae28ffae97d",
   "metadata": {},
   "outputs": [
    {
     "name": "stderr",
     "output_type": "stream",
     "text": [
      "                                                                                \r"
     ]
    },
    {
     "data": {
      "text/html": [
       "<table border='1'>\n",
       "<tr><th>tweet_text</th></tr>\n",
       "<tr><td>tell college athl...</td></tr>\n",
       "<tr><td>conversation toro...</td></tr>\n",
       "<tr><td>children politici...</td></tr>\n",
       "<tr><td>rwanda increased ...</td></tr>\n",
       "<tr><td>dpradhanbjp sir r...</td></tr>\n",
       "<tr><td>two like school k...</td></tr>\n",
       "<tr><td>starsootball girl...</td></tr>\n",
       "<tr><td>two hindu childre...</td></tr>\n",
       "<tr><td>new research uark...</td></tr>\n",
       "<tr><td>1 2 pls share uni...</td></tr>\n",
       "</table>\n"
      ],
      "text/plain": [
       "+--------------------+\n",
       "|          tweet_text|\n",
       "+--------------------+\n",
       "|tell college athl...|\n",
       "|conversation toro...|\n",
       "|children politici...|\n",
       "|rwanda increased ...|\n",
       "|dpradhanbjp sir r...|\n",
       "|two like school k...|\n",
       "|starsootball girl...|\n",
       "|two hindu childre...|\n",
       "|new research uark...|\n",
       "|1 2 pls share uni...|\n",
       "+--------------------+"
      ]
     },
     "execution_count": 46,
     "metadata": {},
     "output_type": "execute_result"
    }
   ],
   "source": [
    "tweets_df.select('tweet_text').limit(10)"
   ]
  },
  {
   "cell_type": "code",
   "execution_count": 20,
   "id": "b17a29cc-aca3-496f-87ea-975f4e606a6b",
   "metadata": {},
   "outputs": [],
   "source": [
    "@f.udf(returnType=StringType())\n",
    "def clean_text(text):\n",
    "    if text is None:\n",
    "        return None\n",
    "    text = text.strip().lower()\n",
    "    # Contractions like can't, won't, but also removes it's, mike's\n",
    "    text = re.sub(\"'\", \"\", text) \n",
    "    # Links\n",
    "    text = re.sub(r'http\\S+', '', text)\n",
    "    text = re.sub(r\"www.\\S+\", '', text)\n",
    "    # Only alphanumeric\n",
    "    text = re.sub(\"[^a-z0-9]\",\" \", text)\n",
    "    return text"
   ]
  },
  {
   "cell_type": "code",
   "execution_count": 21,
   "id": "c5023937-d9f5-41fa-a393-3fa4586490a2",
   "metadata": {},
   "outputs": [],
   "source": [
    "tweets_df = (tweets_df.withColumn('retweeted_from_description', clean_text('retweeted_from_description'))\n",
    "        .withColumn('user_description', clean_text('user_description')))"
   ]
  },
  {
   "cell_type": "code",
   "execution_count": 50,
   "id": "705aed5c-fc20-4304-904a-2c36b4b9785c",
   "metadata": {},
   "outputs": [
    {
     "data": {
      "text/html": [
       "<table border='1'>\n",
       "<tr><th>user_description</th><th>retweeted_from_description</th></tr>\n",
       "<tr><td>psu     pittsburg...</td><td>host   brenemansh...</td></tr>\n",
       "<tr><td>toronto metropoli...</td><td>a dynamic faculty...</td></tr>\n",
       "<tr><td>crypto  music blo...</td><td>get to know the t...</td></tr>\n",
       "<tr><td>just being me  pr...</td><td>africas biggest f...</td></tr>\n",
       "<tr><td>null</td><td>null</td></tr>\n",
       "<tr><td>pharmacist and fa...</td><td>null</td></tr>\n",
       "<tr><td>if yall see btslo...</td><td>null</td></tr>\n",
       "<tr><td>a nationalist  mi...</td><td>political analyst...</td></tr>\n",
       "<tr><td>tufts 2017   clin...</td><td>twitter home for ...</td></tr>\n",
       "<tr><td>chris paton  iris...</td><td>postgraduate cert...</td></tr>\n",
       "</table>\n"
      ],
      "text/plain": [
       "+--------------------+--------------------------+\n",
       "|    user_description|retweeted_from_description|\n",
       "+--------------------+--------------------------+\n",
       "|psu     pittsburg...|      host   brenemansh...|\n",
       "|toronto metropoli...|      a dynamic faculty...|\n",
       "|crypto  music blo...|      get to know the t...|\n",
       "|just being me  pr...|      africas biggest f...|\n",
       "|                null|                      null|\n",
       "|pharmacist and fa...|                      null|\n",
       "|if yall see btslo...|                      null|\n",
       "|a nationalist  mi...|      political analyst...|\n",
       "|tufts 2017   clin...|      twitter home for ...|\n",
       "|chris paton  iris...|      postgraduate cert...|\n",
       "+--------------------+--------------------------+"
      ]
     },
     "execution_count": 50,
     "metadata": {},
     "output_type": "execute_result"
    }
   ],
   "source": [
    "tweets_df.select(['user_description', 'retweeted_from_description']).limit(10)"
   ]
  },
  {
   "cell_type": "markdown",
   "id": "88d046cc-806d-493d-acef-46eac04ab2fb",
   "metadata": {},
   "source": [
    "### Writing the Processed data to the disk"
   ]
  },
  {
   "cell_type": "code",
   "execution_count": 22,
   "id": "366d5c56-9eb6-496b-a2ec-bbe4314d8cff",
   "metadata": {},
   "outputs": [
    {
     "name": "stderr",
     "output_type": "stream",
     "text": [
      "                                                                                \r"
     ]
    }
   ],
   "source": [
    "tweets_df.write.format(\"parquet\").\\\n",
    "mode('overwrite').\\\n",
    "save('gs://' + 'msca-bdp-students-bucket/shared_data/pranavr569' + '/tweets_processed')"
   ]
  },
  {
   "cell_type": "code",
   "execution_count": 55,
   "id": "0183697d-81db-484a-aae9-264f42d690b2",
   "metadata": {},
   "outputs": [
    {
     "name": "stdout",
     "output_type": "stream",
     "text": [
      "Found 348 items\n",
      "-rwx------   3 root root          0 2023-03-03 21:30 gs://msca-bdp-students-bucket/shared_data/pranavr569/tweets_processed/_SUCCESS\n",
      "-rwx------   3 root root   41089665 2023-03-03 21:15 gs://msca-bdp-students-bucket/shared_data/pranavr569/tweets_processed/part-00000-04294563-ef36-402d-8400-054e1399dcb0-c000.snappy.parquet\n",
      "-rwx------   3 root root   40402135 2023-03-03 21:15 gs://msca-bdp-students-bucket/shared_data/pranavr569/tweets_processed/part-00001-04294563-ef36-402d-8400-054e1399dcb0-c000.snappy.parquet\n",
      "-rwx------   3 root root   39837356 2023-03-03 21:15 gs://msca-bdp-students-bucket/shared_data/pranavr569/tweets_processed/part-00002-04294563-ef36-402d-8400-054e1399dcb0-c000.snappy.parquet\n",
      "-rwx------   3 root root   39866916 2023-03-03 21:15 gs://msca-bdp-students-bucket/shared_data/pranavr569/tweets_processed/part-00003-04294563-ef36-402d-8400-054e1399dcb0-c000.snappy.parquet\n",
      "-rwx------   3 root root   39212877 2023-03-03 21:15 gs://msca-bdp-students-bucket/shared_data/pranavr569/tweets_processed/part-00004-04294563-ef36-402d-8400-054e1399dcb0-c000.snappy.parquet\n",
      "-rwx------   3 root root   38978225 2023-03-03 21:15 gs://msca-bdp-students-bucket/shared_data/pranavr569/tweets_processed/part-00005-04294563-ef36-402d-8400-054e1399dcb0-c000.snappy.parquet\n",
      "-rwx------   3 root root   38842889 2023-03-03 21:15 gs://msca-bdp-students-bucket/shared_data/pranavr569/tweets_processed/part-00006-04294563-ef36-402d-8400-054e1399dcb0-c000.snappy.parquet\n",
      "-rwx------   3 root root   39032871 2023-03-03 21:15 gs://msca-bdp-students-bucket/shared_data/pranavr569/tweets_processed/part-00007-04294563-ef36-402d-8400-054e1399dcb0-c000.snappy.parquet\n"
     ]
    }
   ],
   "source": [
    "!hadoop fs -ls 'gs://msca-bdp-students-bucket/shared_data/pranavr569/tweets_processed' | head"
   ]
  },
  {
   "cell_type": "code",
   "execution_count": null,
   "id": "6246faa1-f035-42d9-b472-1a42cdcedecf",
   "metadata": {},
   "outputs": [],
   "source": []
  }
 ],
 "metadata": {
  "kernelspec": {
   "display_name": "Python 3 (ipykernel)",
   "language": "python",
   "name": "python3"
  },
  "language_info": {
   "codemirror_mode": {
    "name": "ipython",
    "version": 3
   },
   "file_extension": ".py",
   "mimetype": "text/x-python",
   "name": "python",
   "nbconvert_exporter": "python",
   "pygments_lexer": "ipython3",
   "version": "3.9.16"
  }
 },
 "nbformat": 4,
 "nbformat_minor": 5
}
