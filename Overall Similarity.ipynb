{
 "cells": [
  {
   "cell_type": "code",
   "execution_count": 1,
   "metadata": {},
   "outputs": [
    {
     "name": "stdout",
     "output_type": "stream",
     "text": [
      "3.8.15 | packaged by conda-forge | (default, Nov 22 2022, 08:46:39) \n",
      "[GCC 10.4.0]\n",
      "3.1.3\n"
     ]
    }
   ],
   "source": [
    "import sys\n",
    "print(sys.version)\n",
    "print(spark.version)"
   ]
  },
  {
   "cell_type": "code",
   "execution_count": 2,
   "metadata": {},
   "outputs": [],
   "source": [
    "import pandas as pd\n",
    "import numpy as np\n",
    "pd.set_option('display.max_colwidth', None)\n",
    "pd.reset_option('display.max_rows')\n",
    "from itertools import compress \n",
    "from pyspark.sql.functions import *\n",
    "from pyspark.sql.types import *\n",
    "import seaborn as sns\n",
    "import matplotlib.pyplot as plt\n",
    "warnings.filterwarnings(action='ignore')"
   ]
  },
  {
   "cell_type": "code",
   "execution_count": 3,
   "metadata": {},
   "outputs": [],
   "source": [
    "#!pip uninstall nltk -y"
   ]
  },
  {
   "cell_type": "code",
   "execution_count": 4,
   "metadata": {},
   "outputs": [],
   "source": [
    "#!pip install nltk -U"
   ]
  },
  {
   "cell_type": "code",
   "execution_count": 3,
   "metadata": {},
   "outputs": [
    {
     "name": "stderr",
     "output_type": "stream",
     "text": [
      "[nltk_data] Downloading package stopwords to /root/nltk_data...\n",
      "[nltk_data]   Package stopwords is already up-to-date!\n"
     ]
    }
   ],
   "source": [
    "import re\n",
    "from pyspark.ml.feature import MinHashLSH\n",
    "from pyspark.ml.feature import CountVectorizer,  IDF, CountVectorizerModel, Tokenizer, RegexTokenizer, StopWordsRemover\n",
    "from pyspark import SparkContext\n",
    "from pyspark.sql import SQLContext\n",
    "from pyspark.sql import Row\n",
    "import nltk\n",
    "nltk.download('stopwords')\n",
    "from nltk.corpus import stopwords"
   ]
  },
  {
   "cell_type": "markdown",
   "metadata": {},
   "source": [
    "#### Add \"eagerEval.enabled\" to beautify the way Spark DF is displayed"
   ]
  },
  {
   "cell_type": "code",
   "execution_count": 4,
   "metadata": {},
   "outputs": [],
   "source": [
    "spark.conf.set(\"spark.sql.repl.eagerEval.enabled\",True)"
   ]
  },
  {
   "cell_type": "code",
   "execution_count": 5,
   "metadata": {},
   "outputs": [
    {
     "name": "stderr",
     "output_type": "stream",
     "text": [
      "23/03/10 21:57:03 WARN org.apache.spark.sql.catalyst.util.package: Truncated the string representation of a plan since it was too large. This behavior can be adjusted by setting 'spark.sql.debug.maxToStringFields'.\n"
     ]
    }
   ],
   "source": [
    "tweet_df = spark.read.parquet('gs://msca-bdp-students-bucket/shared_data/pranavr569/tweets_classified')"
   ]
  },
  {
   "cell_type": "markdown",
   "metadata": {},
   "source": [
    "### Taking a random sample of 0.001% to avoid the kernel from dying"
   ]
  },
  {
   "cell_type": "code",
   "execution_count": 6,
   "metadata": {},
   "outputs": [],
   "source": [
    "tweet_df = tweet_df.sample(withReplacement=False, fraction=0.001, seed=5555)"
   ]
  },
  {
   "cell_type": "markdown",
   "metadata": {},
   "source": [
    "### Step 1.  Clean the data, remove stopwords and create index"
   ]
  },
  {
   "cell_type": "markdown",
   "metadata": {},
   "source": [
    "#### Extracting text from the tweet text"
   ]
  },
  {
   "cell_type": "code",
   "execution_count": 7,
   "metadata": {},
   "outputs": [
    {
     "name": "stderr",
     "output_type": "stream",
     "text": [
      "                                                                                \r"
     ]
    }
   ],
   "source": [
    "text_df = tweet_df.select('tweet_text').withColumnRenamed(\"tweet_text\",'text')\n",
    "text = text_df.rdd.map(lambda x : x['text']).filter(lambda x: x is not None)\n",
    "StopWords = stopwords.words(\"english\")\n",
    "\n",
    "tokens_text = text\\\n",
    "    .map( lambda document: document.strip().lower())\\\n",
    "    .map( lambda document: re.split(\" \", document))\\\n",
    "    .map( lambda word: [x for x in word if x.isalnum()])\\\n",
    "    .map( lambda word: [x for x in word if len(x) > 3] )\\\n",
    "    .map( lambda word: [x for x in word if x not in StopWords])\\\n",
    "    .zipWithIndex()"
   ]
  },
  {
   "cell_type": "code",
   "execution_count": 8,
   "metadata": {},
   "outputs": [
    {
     "name": "stderr",
     "output_type": "stream",
     "text": [
      "                                                                                \r"
     ]
    },
    {
     "data": {
      "text/html": [
       "<table border='1'>\n",
       "<tr><th>text</th><th>id</th></tr>\n",
       "<tr><td>{westerly yawanag...</td><td>129</td></tr>\n",
       "<tr><td>{congratulations ...</td><td>130</td></tr>\n",
       "<tr><td>{joy address hund...</td><td>131</td></tr>\n",
       "<tr><td>{1981 patrick ewi...</td><td>132</td></tr>\n",
       "<tr><td>{florida high sch...</td><td>133</td></tr>\n",
       "</table>\n"
      ],
      "text/plain": [
       "+--------------------+---+\n",
       "|                text| id|\n",
       "+--------------------+---+\n",
       "|{millions childre...|250|\n",
       "|{jan nyssen profe...|251|\n",
       "|{school holidays ...|252|\n",
       "|{mamataofficial r...|253|\n",
       "|{2 high school st...|254|\n",
       "+--------------------+---+"
      ]
     },
     "execution_count": 8,
     "metadata": {},
     "output_type": "execute_result"
    }
   ],
   "source": [
    "row_text = Row('text')\n",
    "df_text = text.map(row_text).zipWithIndex().toDF(['text','id'])\n",
    "df_text.limit(5)"
   ]
  },
  {
   "cell_type": "code",
   "execution_count": 9,
   "metadata": {},
   "outputs": [
    {
     "name": "stderr",
     "output_type": "stream",
     "text": [
      "                                                                                \r"
     ]
    },
    {
     "data": {
      "text/plain": [
       "12862"
      ]
     },
     "execution_count": 9,
     "metadata": {},
     "output_type": "execute_result"
    }
   ],
   "source": [
    "df_text.count()"
   ]
  },
  {
   "cell_type": "code",
   "execution_count": 10,
   "metadata": {},
   "outputs": [
    {
     "data": {
      "text/html": [
       "<div>\n",
       "<style scoped>\n",
       "    .dataframe tbody tr th:only-of-type {\n",
       "        vertical-align: middle;\n",
       "    }\n",
       "\n",
       "    .dataframe tbody tr th {\n",
       "        vertical-align: top;\n",
       "    }\n",
       "\n",
       "    .dataframe thead th {\n",
       "        text-align: right;\n",
       "    }\n",
       "</style>\n",
       "<table border=\"1\" class=\"dataframe\">\n",
       "  <thead>\n",
       "    <tr style=\"text-align: right;\">\n",
       "      <th></th>\n",
       "      <th>list_of_words</th>\n",
       "      <th>id</th>\n",
       "    </tr>\n",
       "  </thead>\n",
       "  <tbody>\n",
       "    <tr>\n",
       "      <th>0</th>\n",
       "      <td>[wife, paid, degrees, wife, paid, degrees, wife, paid, sons, college, degree, wife, kids, college, degree, know, good, want, live, educated, society]</td>\n",
       "      <td>0</td>\n",
       "    </tr>\n",
       "    <tr>\n",
       "      <th>1</th>\n",
       "      <td>[scriblefy, grew, christian, asked, sunday, school, teacher, question, dinosaurs, bible, answer, ever, since, believe]</td>\n",
       "      <td>1</td>\n",
       "    </tr>\n",
       "    <tr>\n",
       "      <th>2</th>\n",
       "      <td>[still, believes, admissions, training, must, visit, learn, touch, enlighten, thoughts, hiring, careermode, future, today, college, work, change, hope, careerschools, careercoach]</td>\n",
       "      <td>2</td>\n",
       "    </tr>\n",
       "    <tr>\n",
       "      <th>3</th>\n",
       "      <td>[since, 2014, weve, seven, education, secretaries, gove, morgan, greening, hinds, williamson, zahawi, donelan, school, seven, headteachers, time, alarm, bells, would, ringing, loudly]</td>\n",
       "      <td>3</td>\n",
       "    </tr>\n",
       "    <tr>\n",
       "      <th>4</th>\n",
       "      <td>[parent, dressed, easter, bunny, hands, something, inappropriate, texas, elementary, school, friday, austin, independent, school, district, said, would, updating, safety, protocols, incident]</td>\n",
       "      <td>4</td>\n",
       "    </tr>\n",
       "  </tbody>\n",
       "</table>\n",
       "</div>"
      ],
      "text/plain": [
       "                                                                                                                                                                                     list_of_words  \\\n",
       "0                                            [wife, paid, degrees, wife, paid, degrees, wife, paid, sons, college, degree, wife, kids, college, degree, know, good, want, live, educated, society]   \n",
       "1                                                                           [scriblefy, grew, christian, asked, sunday, school, teacher, question, dinosaurs, bible, answer, ever, since, believe]   \n",
       "2              [still, believes, admissions, training, must, visit, learn, touch, enlighten, thoughts, hiring, careermode, future, today, college, work, change, hope, careerschools, careercoach]   \n",
       "3          [since, 2014, weve, seven, education, secretaries, gove, morgan, greening, hinds, williamson, zahawi, donelan, school, seven, headteachers, time, alarm, bells, would, ringing, loudly]   \n",
       "4  [parent, dressed, easter, bunny, hands, something, inappropriate, texas, elementary, school, friday, austin, independent, school, district, said, would, updating, safety, protocols, incident]   \n",
       "\n",
       "   id  \n",
       "0   0  \n",
       "1   1  \n",
       "2   2  \n",
       "3   3  \n",
       "4   4  "
      ]
     },
     "execution_count": 10,
     "metadata": {},
     "output_type": "execute_result"
    }
   ],
   "source": [
    "df_tokens_text = spark.createDataFrame(tokens_text, [\"list_of_words\",'id'])\n",
    "\n",
    "#Drop records with no tokens\n",
    "df_tokens_text = df_tokens_text.where(col('list_of_words').getItem(0).isNotNull())\n",
    "df_tokens_text.limit(5).toPandas()"
   ]
  },
  {
   "cell_type": "markdown",
   "metadata": {},
   "source": [
    "### Step 2. Fit countvectorizer to create word features"
   ]
  },
  {
   "cell_type": "code",
   "execution_count": 11,
   "metadata": {},
   "outputs": [],
   "source": [
    "vectorize = CountVectorizer(inputCol=\"list_of_words\", outputCol=\"features\", minDF=1.0)"
   ]
  },
  {
   "cell_type": "code",
   "execution_count": 12,
   "metadata": {},
   "outputs": [
    {
     "name": "stderr",
     "output_type": "stream",
     "text": [
      "                                                                                \r"
     ]
    },
    {
     "data": {
      "text/html": [
       "<div>\n",
       "<style scoped>\n",
       "    .dataframe tbody tr th:only-of-type {\n",
       "        vertical-align: middle;\n",
       "    }\n",
       "\n",
       "    .dataframe tbody tr th {\n",
       "        vertical-align: top;\n",
       "    }\n",
       "\n",
       "    .dataframe thead th {\n",
       "        text-align: right;\n",
       "    }\n",
       "</style>\n",
       "<table border=\"1\" class=\"dataframe\">\n",
       "  <thead>\n",
       "    <tr style=\"text-align: right;\">\n",
       "      <th></th>\n",
       "      <th>list_of_words</th>\n",
       "      <th>id</th>\n",
       "      <th>features</th>\n",
       "    </tr>\n",
       "  </thead>\n",
       "  <tbody>\n",
       "    <tr>\n",
       "      <th>0</th>\n",
       "      <td>[wife, paid, degrees, wife, paid, degrees, wife, paid, sons, college, degree, wife, kids, college, degree, know, good, want, live, educated, society]</td>\n",
       "      <td>0</td>\n",
       "      <td>(0.0, 0.0, 2.0, 0.0, 0.0, 0.0, 0.0, 0.0, 0.0, 0.0, 0.0, 0.0, 1.0, 0.0, 0.0, 0.0, 0.0, 0.0, 0.0, 0.0, 0.0, 0.0, 0.0, 0.0, 2.0, 0.0, 0.0, 0.0, 0.0, 0.0, 0.0, 0.0, 0.0, 1.0, 1.0, 0.0, 0.0, 0.0, 0.0, 0.0, 0.0, 0.0, 0.0, 0.0, 0.0, 0.0, 0.0, 0.0, 0.0, 0.0, 0.0, 0.0, 0.0, 0.0, 0.0, 0.0, 0.0, 0.0, 1.0, 0.0, 1.0, 0.0, 0.0, 0.0, 0.0, 0.0, 0.0, 0.0, 0.0, 0.0, 0.0, 0.0, 0.0, 0.0, 0.0, 0.0, 0.0, 0.0, 0.0, 0.0, 0.0, 0.0, 0.0, 0.0, 0.0, 0.0, 0.0, 0.0, 0.0, 0.0, 0.0, 0.0, 0.0, 0.0, 0.0, 0.0, 0.0, 0.0, 0.0, 0.0, ...)</td>\n",
       "    </tr>\n",
       "    <tr>\n",
       "      <th>1</th>\n",
       "      <td>[scriblefy, grew, christian, asked, sunday, school, teacher, question, dinosaurs, bible, answer, ever, since, believe]</td>\n",
       "      <td>1</td>\n",
       "      <td>(1.0, 0.0, 0.0, 0.0, 0.0, 0.0, 0.0, 0.0, 1.0, 0.0, 0.0, 0.0, 0.0, 0.0, 0.0, 0.0, 0.0, 0.0, 0.0, 0.0, 0.0, 0.0, 0.0, 0.0, 0.0, 0.0, 0.0, 0.0, 0.0, 0.0, 0.0, 0.0, 0.0, 0.0, 0.0, 0.0, 0.0, 0.0, 0.0, 0.0, 0.0, 0.0, 0.0, 0.0, 0.0, 0.0, 0.0, 0.0, 0.0, 0.0, 0.0, 0.0, 0.0, 0.0, 0.0, 0.0, 0.0, 0.0, 0.0, 0.0, 0.0, 0.0, 0.0, 0.0, 0.0, 0.0, 0.0, 0.0, 0.0, 0.0, 0.0, 0.0, 0.0, 0.0, 0.0, 0.0, 0.0, 0.0, 0.0, 0.0, 0.0, 0.0, 0.0, 0.0, 0.0, 0.0, 0.0, 0.0, 0.0, 0.0, 0.0, 0.0, 0.0, 1.0, 0.0, 0.0, 0.0, 0.0, 0.0, 0.0, ...)</td>\n",
       "    </tr>\n",
       "    <tr>\n",
       "      <th>2</th>\n",
       "      <td>[still, believes, admissions, training, must, visit, learn, touch, enlighten, thoughts, hiring, careermode, future, today, college, work, change, hope, careerschools, careercoach]</td>\n",
       "      <td>2</td>\n",
       "      <td>(0.0, 0.0, 1.0, 0.0, 0.0, 0.0, 0.0, 0.0, 0.0, 0.0, 0.0, 0.0, 0.0, 1.0, 0.0, 0.0, 0.0, 0.0, 0.0, 0.0, 0.0, 0.0, 1.0, 0.0, 0.0, 0.0, 0.0, 0.0, 0.0, 0.0, 0.0, 0.0, 0.0, 0.0, 0.0, 0.0, 0.0, 0.0, 0.0, 1.0, 0.0, 0.0, 0.0, 0.0, 0.0, 0.0, 0.0, 0.0, 0.0, 0.0, 1.0, 0.0, 0.0, 0.0, 0.0, 0.0, 1.0, 0.0, 0.0, 0.0, 0.0, 0.0, 0.0, 0.0, 0.0, 0.0, 0.0, 0.0, 0.0, 0.0, 0.0, 0.0, 0.0, 0.0, 0.0, 0.0, 0.0, 0.0, 0.0, 0.0, 0.0, 0.0, 0.0, 0.0, 0.0, 0.0, 0.0, 0.0, 0.0, 0.0, 0.0, 0.0, 0.0, 0.0, 0.0, 0.0, 0.0, 0.0, 0.0, 0.0, ...)</td>\n",
       "    </tr>\n",
       "    <tr>\n",
       "      <th>3</th>\n",
       "      <td>[since, 2014, weve, seven, education, secretaries, gove, morgan, greening, hinds, williamson, zahawi, donelan, school, seven, headteachers, time, alarm, bells, would, ringing, loudly]</td>\n",
       "      <td>3</td>\n",
       "      <td>(1.0, 0.0, 0.0, 0.0, 0.0, 1.0, 0.0, 0.0, 0.0, 0.0, 0.0, 0.0, 0.0, 0.0, 0.0, 1.0, 0.0, 0.0, 0.0, 0.0, 0.0, 0.0, 0.0, 0.0, 0.0, 0.0, 0.0, 1.0, 0.0, 0.0, 0.0, 0.0, 0.0, 0.0, 0.0, 0.0, 0.0, 0.0, 0.0, 0.0, 0.0, 0.0, 0.0, 0.0, 0.0, 0.0, 0.0, 0.0, 0.0, 0.0, 0.0, 0.0, 0.0, 0.0, 0.0, 0.0, 0.0, 0.0, 0.0, 0.0, 0.0, 0.0, 0.0, 0.0, 0.0, 0.0, 0.0, 0.0, 0.0, 0.0, 0.0, 0.0, 0.0, 0.0, 0.0, 0.0, 0.0, 0.0, 0.0, 0.0, 0.0, 0.0, 0.0, 0.0, 0.0, 0.0, 0.0, 0.0, 0.0, 0.0, 0.0, 0.0, 0.0, 1.0, 0.0, 0.0, 0.0, 0.0, 0.0, 0.0, ...)</td>\n",
       "    </tr>\n",
       "    <tr>\n",
       "      <th>4</th>\n",
       "      <td>[parent, dressed, easter, bunny, hands, something, inappropriate, texas, elementary, school, friday, austin, independent, school, district, said, would, updating, safety, protocols, incident]</td>\n",
       "      <td>4</td>\n",
       "      <td>(2.0, 0.0, 0.0, 0.0, 0.0, 0.0, 0.0, 0.0, 0.0, 0.0, 0.0, 0.0, 0.0, 0.0, 0.0, 0.0, 0.0, 0.0, 0.0, 0.0, 0.0, 0.0, 0.0, 0.0, 0.0, 0.0, 0.0, 1.0, 0.0, 0.0, 0.0, 0.0, 0.0, 0.0, 0.0, 0.0, 0.0, 0.0, 0.0, 0.0, 0.0, 0.0, 0.0, 0.0, 0.0, 0.0, 0.0, 0.0, 0.0, 0.0, 0.0, 1.0, 0.0, 0.0, 0.0, 0.0, 0.0, 0.0, 0.0, 0.0, 0.0, 0.0, 0.0, 0.0, 0.0, 0.0, 0.0, 1.0, 0.0, 0.0, 0.0, 0.0, 0.0, 0.0, 0.0, 0.0, 0.0, 0.0, 0.0, 1.0, 0.0, 0.0, 0.0, 0.0, 1.0, 0.0, 0.0, 0.0, 0.0, 0.0, 0.0, 0.0, 0.0, 0.0, 0.0, 0.0, 0.0, 0.0, 0.0, 0.0, ...)</td>\n",
       "    </tr>\n",
       "  </tbody>\n",
       "</table>\n",
       "</div>"
      ],
      "text/plain": [
       "                                                                                                                                                                                     list_of_words  \\\n",
       "0                                            [wife, paid, degrees, wife, paid, degrees, wife, paid, sons, college, degree, wife, kids, college, degree, know, good, want, live, educated, society]   \n",
       "1                                                                           [scriblefy, grew, christian, asked, sunday, school, teacher, question, dinosaurs, bible, answer, ever, since, believe]   \n",
       "2              [still, believes, admissions, training, must, visit, learn, touch, enlighten, thoughts, hiring, careermode, future, today, college, work, change, hope, careerschools, careercoach]   \n",
       "3          [since, 2014, weve, seven, education, secretaries, gove, morgan, greening, hinds, williamson, zahawi, donelan, school, seven, headteachers, time, alarm, bells, would, ringing, loudly]   \n",
       "4  [parent, dressed, easter, bunny, hands, something, inappropriate, texas, elementary, school, friday, austin, independent, school, district, said, would, updating, safety, protocols, incident]   \n",
       "\n",
       "   id  \\\n",
       "0   0   \n",
       "1   1   \n",
       "2   2   \n",
       "3   3   \n",
       "4   4   \n",
       "\n",
       "                                                                                                                                                                                                                                                                                                                                                                                                                                                                                                                    features  \n",
       "0  (0.0, 0.0, 2.0, 0.0, 0.0, 0.0, 0.0, 0.0, 0.0, 0.0, 0.0, 0.0, 1.0, 0.0, 0.0, 0.0, 0.0, 0.0, 0.0, 0.0, 0.0, 0.0, 0.0, 0.0, 2.0, 0.0, 0.0, 0.0, 0.0, 0.0, 0.0, 0.0, 0.0, 1.0, 1.0, 0.0, 0.0, 0.0, 0.0, 0.0, 0.0, 0.0, 0.0, 0.0, 0.0, 0.0, 0.0, 0.0, 0.0, 0.0, 0.0, 0.0, 0.0, 0.0, 0.0, 0.0, 0.0, 0.0, 1.0, 0.0, 1.0, 0.0, 0.0, 0.0, 0.0, 0.0, 0.0, 0.0, 0.0, 0.0, 0.0, 0.0, 0.0, 0.0, 0.0, 0.0, 0.0, 0.0, 0.0, 0.0, 0.0, 0.0, 0.0, 0.0, 0.0, 0.0, 0.0, 0.0, 0.0, 0.0, 0.0, 0.0, 0.0, 0.0, 0.0, 0.0, 0.0, 0.0, 0.0, 0.0, ...)  \n",
       "1  (1.0, 0.0, 0.0, 0.0, 0.0, 0.0, 0.0, 0.0, 1.0, 0.0, 0.0, 0.0, 0.0, 0.0, 0.0, 0.0, 0.0, 0.0, 0.0, 0.0, 0.0, 0.0, 0.0, 0.0, 0.0, 0.0, 0.0, 0.0, 0.0, 0.0, 0.0, 0.0, 0.0, 0.0, 0.0, 0.0, 0.0, 0.0, 0.0, 0.0, 0.0, 0.0, 0.0, 0.0, 0.0, 0.0, 0.0, 0.0, 0.0, 0.0, 0.0, 0.0, 0.0, 0.0, 0.0, 0.0, 0.0, 0.0, 0.0, 0.0, 0.0, 0.0, 0.0, 0.0, 0.0, 0.0, 0.0, 0.0, 0.0, 0.0, 0.0, 0.0, 0.0, 0.0, 0.0, 0.0, 0.0, 0.0, 0.0, 0.0, 0.0, 0.0, 0.0, 0.0, 0.0, 0.0, 0.0, 0.0, 0.0, 0.0, 0.0, 0.0, 0.0, 1.0, 0.0, 0.0, 0.0, 0.0, 0.0, 0.0, ...)  \n",
       "2  (0.0, 0.0, 1.0, 0.0, 0.0, 0.0, 0.0, 0.0, 0.0, 0.0, 0.0, 0.0, 0.0, 1.0, 0.0, 0.0, 0.0, 0.0, 0.0, 0.0, 0.0, 0.0, 1.0, 0.0, 0.0, 0.0, 0.0, 0.0, 0.0, 0.0, 0.0, 0.0, 0.0, 0.0, 0.0, 0.0, 0.0, 0.0, 0.0, 1.0, 0.0, 0.0, 0.0, 0.0, 0.0, 0.0, 0.0, 0.0, 0.0, 0.0, 1.0, 0.0, 0.0, 0.0, 0.0, 0.0, 1.0, 0.0, 0.0, 0.0, 0.0, 0.0, 0.0, 0.0, 0.0, 0.0, 0.0, 0.0, 0.0, 0.0, 0.0, 0.0, 0.0, 0.0, 0.0, 0.0, 0.0, 0.0, 0.0, 0.0, 0.0, 0.0, 0.0, 0.0, 0.0, 0.0, 0.0, 0.0, 0.0, 0.0, 0.0, 0.0, 0.0, 0.0, 0.0, 0.0, 0.0, 0.0, 0.0, 0.0, ...)  \n",
       "3  (1.0, 0.0, 0.0, 0.0, 0.0, 1.0, 0.0, 0.0, 0.0, 0.0, 0.0, 0.0, 0.0, 0.0, 0.0, 1.0, 0.0, 0.0, 0.0, 0.0, 0.0, 0.0, 0.0, 0.0, 0.0, 0.0, 0.0, 1.0, 0.0, 0.0, 0.0, 0.0, 0.0, 0.0, 0.0, 0.0, 0.0, 0.0, 0.0, 0.0, 0.0, 0.0, 0.0, 0.0, 0.0, 0.0, 0.0, 0.0, 0.0, 0.0, 0.0, 0.0, 0.0, 0.0, 0.0, 0.0, 0.0, 0.0, 0.0, 0.0, 0.0, 0.0, 0.0, 0.0, 0.0, 0.0, 0.0, 0.0, 0.0, 0.0, 0.0, 0.0, 0.0, 0.0, 0.0, 0.0, 0.0, 0.0, 0.0, 0.0, 0.0, 0.0, 0.0, 0.0, 0.0, 0.0, 0.0, 0.0, 0.0, 0.0, 0.0, 0.0, 0.0, 1.0, 0.0, 0.0, 0.0, 0.0, 0.0, 0.0, ...)  \n",
       "4  (2.0, 0.0, 0.0, 0.0, 0.0, 0.0, 0.0, 0.0, 0.0, 0.0, 0.0, 0.0, 0.0, 0.0, 0.0, 0.0, 0.0, 0.0, 0.0, 0.0, 0.0, 0.0, 0.0, 0.0, 0.0, 0.0, 0.0, 1.0, 0.0, 0.0, 0.0, 0.0, 0.0, 0.0, 0.0, 0.0, 0.0, 0.0, 0.0, 0.0, 0.0, 0.0, 0.0, 0.0, 0.0, 0.0, 0.0, 0.0, 0.0, 0.0, 0.0, 1.0, 0.0, 0.0, 0.0, 0.0, 0.0, 0.0, 0.0, 0.0, 0.0, 0.0, 0.0, 0.0, 0.0, 0.0, 0.0, 1.0, 0.0, 0.0, 0.0, 0.0, 0.0, 0.0, 0.0, 0.0, 0.0, 0.0, 0.0, 1.0, 0.0, 0.0, 0.0, 0.0, 1.0, 0.0, 0.0, 0.0, 0.0, 0.0, 0.0, 0.0, 0.0, 0.0, 0.0, 0.0, 0.0, 0.0, 0.0, 0.0, ...)  "
      ]
     },
     "execution_count": 12,
     "metadata": {},
     "output_type": "execute_result"
    }
   ],
   "source": [
    "df_vectorize_text = vectorize.fit(df_tokens_text).transform(df_tokens_text)\n",
    "df_vectorize_text.limit(5).toPandas()"
   ]
  },
  {
   "cell_type": "markdown",
   "metadata": {},
   "source": [
    "### Step 3. Fit MinHashLSH to create hash table\n",
    "\n",
    "**Note:** Adding more hash tables will increase the accuracy at the expense of training time"
   ]
  },
  {
   "cell_type": "code",
   "execution_count": 13,
   "metadata": {},
   "outputs": [],
   "source": [
    "mh = MinHashLSH(inputCol=\"features\", outputCol=\"hashes\", numHashTables=5)"
   ]
  },
  {
   "cell_type": "code",
   "execution_count": 14,
   "metadata": {},
   "outputs": [],
   "source": [
    "model_text = mh.fit(df_vectorize_text)\n",
    "df_hashed_b = mh.fit(df_vectorize_text).transform(df_vectorize_text).cache()"
   ]
  },
  {
   "cell_type": "code",
   "execution_count": 15,
   "metadata": {},
   "outputs": [
    {
     "name": "stderr",
     "output_type": "stream",
     "text": [
      "                                                                                \r"
     ]
    },
    {
     "data": {
      "text/html": [
       "<table border='1'>\n",
       "<tr><th>id</th><th>text</th><th>list_of_words</th><th>features</th><th>hashes</th></tr>\n",
       "<tr><td>222</td><td>{college football...</td><td>[college, footbal...</td><td>(31361,[2,69,91,1...</td><td>[[3.00249524E8], ...</td></tr>\n",
       "<tr><td>270</td><td>{pandemic driven ...</td><td>[pandemic, driven...</td><td>(31361,[0,8,9,613...</td><td>[[4.7945584E7], [...</td></tr>\n",
       "<tr><td>293</td><td>{mercedesamgf1 de...</td><td>[mercedesamgf1, d...</td><td>(31361,[1,3,6,110...</td><td>[[2.53318475E8], ...</td></tr>\n",
       "<tr><td>730</td><td>{launch pm shri p...</td><td>[launch, shri, pr...</td><td>(31361,[5,10,92,1...</td><td>[[515903.0], [7.3...</td></tr>\n",
       "<tr><td>938</td><td>{rutgers universi...</td><td>[rutgers, univers...</td><td>(31361,[1,120,416...</td><td>[[6.9147607E7], [...</td></tr>\n",
       "</table>\n"
      ],
      "text/plain": [
       "+---+--------------------+--------------------+--------------------+--------------------+\n",
       "| id|                text|       list_of_words|            features|              hashes|\n",
       "+---+--------------------+--------------------+--------------------+--------------------+\n",
       "|222|{college football...|[college, footbal...|(31361,[2,69,91,1...|[[3.00249524E8], ...|\n",
       "|270|{pandemic driven ...|[pandemic, driven...|(31361,[0,8,9,613...|[[4.7945584E7], [...|\n",
       "|293|{mercedesamgf1 de...|[mercedesamgf1, d...|(31361,[1,3,6,110...|[[2.53318475E8], ...|\n",
       "|730|{launch pm shri p...|[launch, shri, pr...|(31361,[5,10,92,1...|[[515903.0], [7.3...|\n",
       "|938|{rutgers universi...|[rutgers, univers...|(31361,[1,120,416...|[[6.9147607E7], [...|\n",
       "+---+--------------------+--------------------+--------------------+--------------------+"
      ]
     },
     "execution_count": 15,
     "metadata": {},
     "output_type": "execute_result"
    }
   ],
   "source": [
    "df_hashed_text = df_text.join(df_hashed_b, \"id\", how = 'left').cache()\n",
    "df_hashed_text.limit(5)"
   ]
  },
  {
   "cell_type": "markdown",
   "metadata": {},
   "source": [
    "### Step 4. Establish similarity threshold and return near-duplicate records\n",
    "**Note:** we are joining dataframe to itself to get near-duplicate pairs"
   ]
  },
  {
   "cell_type": "markdown",
   "metadata": {},
   "source": [
    "#### Low jaccard distance"
   ]
  },
  {
   "cell_type": "code",
   "execution_count": 16,
   "metadata": {},
   "outputs": [],
   "source": [
    "jaccard_distance = 0.3\n",
    "\n",
    "df_dups_text = model_text.approxSimilarityJoin(df_hashed_text, df_hashed_text, jaccard_distance).filter(\"datasetA.id < datasetB.id\").select(\n",
    "            col(\"distCol\"),\n",
    "            col(\"datasetA.id\").alias(\"id_A\"),\n",
    "            col(\"datasetB.id\").alias(\"id_B\"),\n",
    "            col('datasetA.text').alias('text_A'),\n",
    "            col('datasetB.text').alias('text_B'),\n",
    "#             col('datasetA.list_of_words').alias('words_A'),\n",
    "#             col('datasetB.list_of_words').alias('words_B')\n",
    "            )"
   ]
  },
  {
   "cell_type": "code",
   "execution_count": 17,
   "metadata": {},
   "outputs": [
    {
     "name": "stderr",
     "output_type": "stream",
     "text": [
      "                                                                                \r"
     ]
    },
    {
     "data": {
      "text/html": [
       "<div>\n",
       "<style scoped>\n",
       "    .dataframe tbody tr th:only-of-type {\n",
       "        vertical-align: middle;\n",
       "    }\n",
       "\n",
       "    .dataframe tbody tr th {\n",
       "        vertical-align: top;\n",
       "    }\n",
       "\n",
       "    .dataframe thead th {\n",
       "        text-align: right;\n",
       "    }\n",
       "</style>\n",
       "<table border=\"1\" class=\"dataframe\">\n",
       "  <thead>\n",
       "    <tr style=\"text-align: right;\">\n",
       "      <th></th>\n",
       "      <th>distCol</th>\n",
       "      <th>id_A</th>\n",
       "      <th>id_B</th>\n",
       "      <th>text_A</th>\n",
       "      <th>text_B</th>\n",
       "    </tr>\n",
       "  </thead>\n",
       "  <tbody>\n",
       "    <tr>\n",
       "      <th>0</th>\n",
       "      <td>0.0</td>\n",
       "      <td>3069</td>\n",
       "      <td>3583</td>\n",
       "      <td>(love rich black people spoil black kids idc 10 year old got cuban white people throw 16 year old sons 80 thousand dollar bar mitzvah party swear black children deserve college fund nothing less,)</td>\n",
       "      <td>(love rich black people spoil black kids idc 10 year old got cuban white people throw 16 year old sons 80 thousand dollar bar mitzvah party swear black children deserve college fund nothing less,)</td>\n",
       "    </tr>\n",
       "    <tr>\n",
       "      <th>1</th>\n",
       "      <td>0.0</td>\n",
       "      <td>6700</td>\n",
       "      <td>6815</td>\n",
       "      <td>(kids first day school today school starts tell kids ruby bridges first black child white public elementary school south ms bridges 67 67,)</td>\n",
       "      <td>(kids first day school today school starts tell kids ruby bridges first black child white public elementary school south ms bridges 67 67,)</td>\n",
       "    </tr>\n",
       "    <tr>\n",
       "      <th>2</th>\n",
       "      <td>0.0</td>\n",
       "      <td>5693</td>\n",
       "      <td>8036</td>\n",
       "      <td>(2006 high school english teacher asked students write famous author amp ask advice amp kurt vonnegut one respond amp response doozy,)</td>\n",
       "      <td>(2006 high school english teacher asked students write famous author amp ask advice amp kurt vonnegut one respond amp response doozy,)</td>\n",
       "    </tr>\n",
       "    <tr>\n",
       "      <th>3</th>\n",
       "      <td>0.0</td>\n",
       "      <td>1687</td>\n",
       "      <td>11286</td>\n",
       "      <td>(male university students walked exam protest taliban decision ban female students university education several male professors also resigned far must happen across country,)</td>\n",
       "      <td>(male university students walked exam protest taliban decision ban female students university education several male professors also resigned far must happen across country,)</td>\n",
       "    </tr>\n",
       "    <tr>\n",
       "      <th>4</th>\n",
       "      <td>0.0</td>\n",
       "      <td>9218</td>\n",
       "      <td>11903</td>\n",
       "      <td>(college really makes wonder parents teach shit proper etiquette cleanliness manners common courtesy like anything,)</td>\n",
       "      <td>(college really makes wonder parents teach shit proper etiquette cleanliness manners common courtesy like anything,)</td>\n",
       "    </tr>\n",
       "  </tbody>\n",
       "</table>\n",
       "</div>"
      ],
      "text/plain": [
       "   distCol  id_A   id_B  \\\n",
       "0      0.0  3069   3583   \n",
       "1      0.0  6700   6815   \n",
       "2      0.0  5693   8036   \n",
       "3      0.0  1687  11286   \n",
       "4      0.0  9218  11903   \n",
       "\n",
       "                                                                                                                                                                                                 text_A  \\\n",
       "0  (love rich black people spoil black kids idc 10 year old got cuban white people throw 16 year old sons 80 thousand dollar bar mitzvah party swear black children deserve college fund nothing less,)   \n",
       "1                                                           (kids first day school today school starts tell kids ruby bridges first black child white public elementary school south ms bridges 67 67,)   \n",
       "2                                                                (2006 high school english teacher asked students write famous author amp ask advice amp kurt vonnegut one respond amp response doozy,)   \n",
       "3                        (male university students walked exam protest taliban decision ban female students university education several male professors also resigned far must happen across country,)   \n",
       "4                                                                                  (college really makes wonder parents teach shit proper etiquette cleanliness manners common courtesy like anything,)   \n",
       "\n",
       "                                                                                                                                                                                                 text_B  \n",
       "0  (love rich black people spoil black kids idc 10 year old got cuban white people throw 16 year old sons 80 thousand dollar bar mitzvah party swear black children deserve college fund nothing less,)  \n",
       "1                                                           (kids first day school today school starts tell kids ruby bridges first black child white public elementary school south ms bridges 67 67,)  \n",
       "2                                                                (2006 high school english teacher asked students write famous author amp ask advice amp kurt vonnegut one respond amp response doozy,)  \n",
       "3                        (male university students walked exam protest taliban decision ban female students university education several male professors also resigned far must happen across country,)  \n",
       "4                                                                                  (college really makes wonder parents teach shit proper etiquette cleanliness manners common courtesy like anything,)  "
      ]
     },
     "execution_count": 17,
     "metadata": {},
     "output_type": "execute_result"
    }
   ],
   "source": [
    "df_dups_30_text = df_dups_text\n",
    "df_dups_text.limit(5).toPandas()"
   ]
  },
  {
   "cell_type": "code",
   "execution_count": 19,
   "metadata": {},
   "outputs": [
    {
     "name": "stderr",
     "output_type": "stream",
     "text": [
      "[Stage 69:=====================================================>(199 + 1) / 200]\r"
     ]
    },
    {
     "name": "stdout",
     "output_type": "stream",
     "text": [
      "Total records:  12862\n",
      "Duplicate titles based on { 0.3 } jaccard distance:  5969\n",
      "Unique titles based on { 0.3 } jaccard distance:  0.3 :  6893\n"
     ]
    },
    {
     "name": "stderr",
     "output_type": "stream",
     "text": [
      "                                                                                \r"
     ]
    }
   ],
   "source": [
    "records = df_hashed_text.count()\n",
    "dups_text_30 = df_dups_text.select('id_A').count()\n",
    "uniques = records - dups_text_30\n",
    "\n",
    "print ('Total records: ', records)\n",
    "print ('Duplicate titles based on {', jaccard_distance, '} jaccard distance: ', dups_text_30)\n",
    "print ('Unique titles based on {', jaccard_distance, '} jaccard distance: ', jaccard_distance, ': ', uniques)"
   ]
  },
  {
   "cell_type": "code",
   "execution_count": 25,
   "metadata": {},
   "outputs": [
    {
     "data": {
      "image/png": "[encoded data removed]",
      "text/plain": [
       "<Figure size 640x480 with 1 Axes>"
      ]
     },
     "metadata": {},
     "output_type": "display_data"
    }
   ],
   "source": [
    "dups_df = pd.DataFrame.from_dict({'near_dups': [dups_text_30], 'unique': [uniques]})\n",
    "\n",
    "ax=dups_df.plot(kind = 'bar',y=['near_dups', 'unique'], fontsize=10, color=['C0', 'C1'], align='center', width=0.8, xlabel=\"Duplicates vs. Unique\")\n",
    "ax.set_title('Tweet text duplication analysis', fontsize=15)\n",
    "ax.set_xlabel(\"Duplicates vs. Unique\")\n",
    "ax.set_ylabel(\"Tweet Count\")\n",
    "for p in ax.patches:\n",
    "       ax.annotate(format(p.get_height(), '.1f'), \n",
    "                   (p.get_x() + p.get_width() / 2., p.get_height()/2), \n",
    "                   ha = 'center', va = 'center', \n",
    "                   xytext = (0, 9), \n",
    "                   textcoords = 'offset points') "
   ]
  },
  {
   "cell_type": "markdown",
   "metadata": {},
   "source": [
    "#### Medium jaccard distance"
   ]
  },
  {
   "cell_type": "code",
   "execution_count": 26,
   "metadata": {},
   "outputs": [],
   "source": [
    "jaccard_distance = 0.5\n",
    "\n",
    "df_dups_text = model_text.approxSimilarityJoin(df_hashed_text, df_hashed_text, jaccard_distance).filter(\"datasetA.id < datasetB.id\").select(\n",
    "            col(\"distCol\"),\n",
    "            col(\"datasetA.id\").alias(\"id_A\"),\n",
    "            col(\"datasetB.id\").alias(\"id_B\"),\n",
    "            col('datasetA.text').alias('text_A'),\n",
    "            col('datasetB.text').alias('text_B'),\n",
    "#             col('datasetA.list_of_words').alias('words_A'),\n",
    "#             col('datasetB.list_of_words').alias('words_B')\n",
    "            )"
   ]
  },
  {
   "cell_type": "code",
   "execution_count": 27,
   "metadata": {},
   "outputs": [
    {
     "name": "stderr",
     "output_type": "stream",
     "text": [
      "                                                                                \r"
     ]
    },
    {
     "data": {
      "text/html": [
       "<div>\n",
       "<style scoped>\n",
       "    .dataframe tbody tr th:only-of-type {\n",
       "        vertical-align: middle;\n",
       "    }\n",
       "\n",
       "    .dataframe tbody tr th {\n",
       "        vertical-align: top;\n",
       "    }\n",
       "\n",
       "    .dataframe thead th {\n",
       "        text-align: right;\n",
       "    }\n",
       "</style>\n",
       "<table border=\"1\" class=\"dataframe\">\n",
       "  <thead>\n",
       "    <tr style=\"text-align: right;\">\n",
       "      <th></th>\n",
       "      <th>distCol</th>\n",
       "      <th>id_A</th>\n",
       "      <th>id_B</th>\n",
       "      <th>text_A</th>\n",
       "      <th>text_B</th>\n",
       "    </tr>\n",
       "  </thead>\n",
       "  <tbody>\n",
       "    <tr>\n",
       "      <th>0</th>\n",
       "      <td>0.000000</td>\n",
       "      <td>6917</td>\n",
       "      <td>11607</td>\n",
       "      <td>(average weekly wages 1973 873 2022 813 median home 1973 30 200 2022 433 100 monthly rent 1973 108 2022 2 002 tuition fees university california 1973 150 2022 13 104 boomer cant slackers pay college amp pay loans like,)</td>\n",
       "      <td>(average weekly wages 1973 873 2022 813 median home 1973 30 200 2022 433 100 monthly rent 1973 108 2022 2 002 tuition fees university california 1973 150 2022 13 104 boomer cant slackers pay college amp pay loans like,)</td>\n",
       "    </tr>\n",
       "    <tr>\n",
       "      <th>1</th>\n",
       "      <td>0.117647</td>\n",
       "      <td>287</td>\n",
       "      <td>6398</td>\n",
       "      <td>(2006 high school english teacher asked students write famous author amp ask advice kurt vonnegut one respond reply doozy,)</td>\n",
       "      <td>(2006 high school english teacher asked students write famous author amp ask advice amp kurt vonnegut one respond amp response doozy,)</td>\n",
       "    </tr>\n",
       "    <tr>\n",
       "      <th>2</th>\n",
       "      <td>0.000000</td>\n",
       "      <td>1016</td>\n",
       "      <td>2136</td>\n",
       "      <td>(teacher mocked front class school saying lets meet succeed life loser sending regards lm writing masters thesis serving ceo un representative ingos helped millions around world still wanna meet,)</td>\n",
       "      <td>(teacher mocked front class school saying lets meet succeed life loser sending regards lm writing masters thesis serving ceo un representative ingos helped millions around world still wanna meet,)</td>\n",
       "    </tr>\n",
       "    <tr>\n",
       "      <th>3</th>\n",
       "      <td>0.000000</td>\n",
       "      <td>9657</td>\n",
       "      <td>10641</td>\n",
       "      <td>(keenan anderson 31 year old high school teacher amp father stopped la police help accident instead cuffed pinned amp tased repeatedly begged stop keenan died cardiac arrest excessive tasing crime asking police help,)</td>\n",
       "      <td>(keenan anderson 31 year old high school teacher amp father stopped la police help accident instead cuffed pinned amp tased repeatedly begged stop keenan died cardiac arrest excessive tasing crime asking police help,)</td>\n",
       "    </tr>\n",
       "    <tr>\n",
       "      <th>4</th>\n",
       "      <td>0.000000</td>\n",
       "      <td>1246</td>\n",
       "      <td>2464</td>\n",
       "      <td>(potentially unpopular opinion teach whole curriculum without homework curriculum problem kids quiet quitting expecting work school 7 8 hrs work expect protect peace amp find joy leave,)</td>\n",
       "      <td>(potentially unpopular opinion teach whole curriculum without homework curriculum problem kids quiet quitting expecting work school 7 8 hrs work expect protect peace amp find joy leave,)</td>\n",
       "    </tr>\n",
       "  </tbody>\n",
       "</table>\n",
       "</div>"
      ],
      "text/plain": [
       "    distCol  id_A   id_B  \\\n",
       "0  0.000000  6917  11607   \n",
       "1  0.117647   287   6398   \n",
       "2  0.000000  1016   2136   \n",
       "3  0.000000  9657  10641   \n",
       "4  0.000000  1246   2464   \n",
       "\n",
       "                                                                                                                                                                                                                        text_A  \\\n",
       "0  (average weekly wages 1973 873 2022 813 median home 1973 30 200 2022 433 100 monthly rent 1973 108 2022 2 002 tuition fees university california 1973 150 2022 13 104 boomer cant slackers pay college amp pay loans like,)   \n",
       "1                                                                                                  (2006 high school english teacher asked students write famous author amp ask advice kurt vonnegut one respond reply doozy,)   \n",
       "2                         (teacher mocked front class school saying lets meet succeed life loser sending regards lm writing masters thesis serving ceo un representative ingos helped millions around world still wanna meet,)   \n",
       "3    (keenan anderson 31 year old high school teacher amp father stopped la police help accident instead cuffed pinned amp tased repeatedly begged stop keenan died cardiac arrest excessive tasing crime asking police help,)   \n",
       "4                                   (potentially unpopular opinion teach whole curriculum without homework curriculum problem kids quiet quitting expecting work school 7 8 hrs work expect protect peace amp find joy leave,)   \n",
       "\n",
       "                                                                                                                                                                                                                        text_B  \n",
       "0  (average weekly wages 1973 873 2022 813 median home 1973 30 200 2022 433 100 monthly rent 1973 108 2022 2 002 tuition fees university california 1973 150 2022 13 104 boomer cant slackers pay college amp pay loans like,)  \n",
       "1                                                                                       (2006 high school english teacher asked students write famous author amp ask advice amp kurt vonnegut one respond amp response doozy,)  \n",
       "2                         (teacher mocked front class school saying lets meet succeed life loser sending regards lm writing masters thesis serving ceo un representative ingos helped millions around world still wanna meet,)  \n",
       "3    (keenan anderson 31 year old high school teacher amp father stopped la police help accident instead cuffed pinned amp tased repeatedly begged stop keenan died cardiac arrest excessive tasing crime asking police help,)  \n",
       "4                                   (potentially unpopular opinion teach whole curriculum without homework curriculum problem kids quiet quitting expecting work school 7 8 hrs work expect protect peace amp find joy leave,)  "
      ]
     },
     "execution_count": 27,
     "metadata": {},
     "output_type": "execute_result"
    }
   ],
   "source": [
    "df_dups_50_text = df_dups_text\n",
    "df_dups_text.limit(5).toPandas()"
   ]
  },
  {
   "cell_type": "code",
   "execution_count": 28,
   "metadata": {},
   "outputs": [
    {
     "name": "stderr",
     "output_type": "stream",
     "text": [
      "[Stage 101:====================================================>(197 + 3) / 200]\r"
     ]
    },
    {
     "name": "stdout",
     "output_type": "stream",
     "text": [
      "Total records:  12862\n",
      "Duplicate titles based on { 0.5 } jaccard distance:  6575\n",
      "Unique titles based on { 0.5 } jaccard distance:  0.5 :  6287\n"
     ]
    },
    {
     "name": "stderr",
     "output_type": "stream",
     "text": [
      "                                                                                \r"
     ]
    }
   ],
   "source": [
    "records = df_hashed_text.count()\n",
    "dups_text_50 = df_dups_text.select('id_A').count()\n",
    "uniques = records - dups_text_50\n",
    "\n",
    "print ('Total records: ', records)\n",
    "print ('Duplicate titles based on {', jaccard_distance, '} jaccard distance: ', dups_text_50)\n",
    "print ('Unique titles based on {', jaccard_distance, '} jaccard distance: ', jaccard_distance, ': ', uniques)"
   ]
  },
  {
   "cell_type": "code",
   "execution_count": 29,
   "metadata": {},
   "outputs": [
    {
     "data": {
      "image/png": "[encoded data removed]",
      "text/plain": [
       "<Figure size 640x480 with 1 Axes>"
      ]
     },
     "metadata": {},
     "output_type": "display_data"
    }
   ],
   "source": [
    "dups_df = pd.DataFrame.from_dict({'near_dups': [dups_text_50], 'unique': [uniques]})\n",
    "\n",
    "ax=dups_df.plot(kind = 'bar',y=['near_dups', 'unique'], fontsize=10, color=['C0', 'C1'], align='center', width=0.8, xlabel=\"Duplicates vs. Unique\")\n",
    "ax.set_title('Tweet text duplication analysis', fontsize=15)\n",
    "ax.set_xlabel(\"Duplicates vs. Unique\")\n",
    "ax.set_ylabel(\"Tweet Count\")\n",
    "for p in ax.patches:\n",
    "       ax.annotate(format(p.get_height(), '.1f'), \n",
    "                   (p.get_x() + p.get_width() / 2., p.get_height()/2), \n",
    "                   ha = 'center', va = 'center', \n",
    "                   xytext = (0, 9), \n",
    "                   textcoords = 'offset points') "
   ]
  },
  {
   "cell_type": "markdown",
   "metadata": {},
   "source": [
    "#### High jaccard distance"
   ]
  },
  {
   "cell_type": "code",
   "execution_count": 30,
   "metadata": {},
   "outputs": [],
   "source": [
    "jaccard_distance = 0.7\n",
    "\n",
    "df_dups_text = model_text.approxSimilarityJoin(df_hashed_text, df_hashed_text, jaccard_distance).filter(\"datasetA.id < datasetB.id\").select(\n",
    "            col(\"distCol\"),\n",
    "            col(\"datasetA.id\").alias(\"id_A\"),\n",
    "            col(\"datasetB.id\").alias(\"id_B\"),\n",
    "            col('datasetA.text').alias('text_A'),\n",
    "            col('datasetB.text').alias('text_B'),\n",
    "#             col('datasetA.list_of_words').alias('words_A'),\n",
    "#             col('datasetB.list_of_words').alias('words_B')\n",
    "            )"
   ]
  },
  {
   "cell_type": "code",
   "execution_count": 31,
   "metadata": {},
   "outputs": [
    {
     "name": "stderr",
     "output_type": "stream",
     "text": [
      "                                                                                \r"
     ]
    },
    {
     "data": {
      "text/html": [
       "<div>\n",
       "<style scoped>\n",
       "    .dataframe tbody tr th:only-of-type {\n",
       "        vertical-align: middle;\n",
       "    }\n",
       "\n",
       "    .dataframe tbody tr th {\n",
       "        vertical-align: top;\n",
       "    }\n",
       "\n",
       "    .dataframe thead th {\n",
       "        text-align: right;\n",
       "    }\n",
       "</style>\n",
       "<table border=\"1\" class=\"dataframe\">\n",
       "  <thead>\n",
       "    <tr style=\"text-align: right;\">\n",
       "      <th></th>\n",
       "      <th>distCol</th>\n",
       "      <th>id_A</th>\n",
       "      <th>id_B</th>\n",
       "      <th>text_A</th>\n",
       "      <th>text_B</th>\n",
       "    </tr>\n",
       "  </thead>\n",
       "  <tbody>\n",
       "    <tr>\n",
       "      <th>0</th>\n",
       "      <td>0.000000</td>\n",
       "      <td>3449</td>\n",
       "      <td>9635</td>\n",
       "      <td>(overheard university student say arctic monkeys dad favourite band little passage time relentless unfathomable cruel unforgiving,)</td>\n",
       "      <td>(overheard university student say arctic monkeys dad favourite band little passage time relentless unfathomable cruel unforgiving,)</td>\n",
       "    </tr>\n",
       "    <tr>\n",
       "      <th>1</th>\n",
       "      <td>0.666667</td>\n",
       "      <td>1475</td>\n",
       "      <td>5317</td>\n",
       "      <td>(boomshakamaui one high school smart one college smart goldblum professor smart,)</td>\n",
       "      <td>(high school college uni lovers lovers zeenunew,)</td>\n",
       "    </tr>\n",
       "    <tr>\n",
       "      <th>2</th>\n",
       "      <td>0.687500</td>\n",
       "      <td>3571</td>\n",
       "      <td>6796</td>\n",
       "      <td>(live akron high school vs byers high school varsity boys baseball watch saturday may 21 2022 2 00 pm,)</td>\n",
       "      <td>(oblong high school vs dupo high school varsity football 2022 live date 26 aug 22 time 8 00 pm,)</td>\n",
       "    </tr>\n",
       "    <tr>\n",
       "      <th>3</th>\n",
       "      <td>0.000000</td>\n",
       "      <td>7508</td>\n",
       "      <td>11879</td>\n",
       "      <td>(school audacity ban prime leaving students dehydrated counter blatant wrongdoing sending truckload prime school many schools retweet tweet represent school get prime,)</td>\n",
       "      <td>(school audacity ban prime leaving students dehydrated counter blatant wrongdoing sending truckload prime school many schools retweet tweet represent school get prime,)</td>\n",
       "    </tr>\n",
       "    <tr>\n",
       "      <th>4</th>\n",
       "      <td>0.000000</td>\n",
       "      <td>4700</td>\n",
       "      <td>4789</td>\n",
       "      <td>(school meals free everybody charging children eat somewhere legally required entire day exploitative,)</td>\n",
       "      <td>(school meals free everybody charging children eat somewhere legally required entire day exploitative,)</td>\n",
       "    </tr>\n",
       "  </tbody>\n",
       "</table>\n",
       "</div>"
      ],
      "text/plain": [
       "    distCol  id_A   id_B  \\\n",
       "0  0.000000  3449   9635   \n",
       "1  0.666667  1475   5317   \n",
       "2  0.687500  3571   6796   \n",
       "3  0.000000  7508  11879   \n",
       "4  0.000000  4700   4789   \n",
       "\n",
       "                                                                                                                                                                     text_A  \\\n",
       "0                                       (overheard university student say arctic monkeys dad favourite band little passage time relentless unfathomable cruel unforgiving,)   \n",
       "1                                                                                         (boomshakamaui one high school smart one college smart goldblum professor smart,)   \n",
       "2                                                                   (live akron high school vs byers high school varsity boys baseball watch saturday may 21 2022 2 00 pm,)   \n",
       "3  (school audacity ban prime leaving students dehydrated counter blatant wrongdoing sending truckload prime school many schools retweet tweet represent school get prime,)   \n",
       "4                                                                   (school meals free everybody charging children eat somewhere legally required entire day exploitative,)   \n",
       "\n",
       "                                                                                                                                                                     text_B  \n",
       "0                                       (overheard university student say arctic monkeys dad favourite band little passage time relentless unfathomable cruel unforgiving,)  \n",
       "1                                                                                                                         (high school college uni lovers lovers zeenunew,)  \n",
       "2                                                                          (oblong high school vs dupo high school varsity football 2022 live date 26 aug 22 time 8 00 pm,)  \n",
       "3  (school audacity ban prime leaving students dehydrated counter blatant wrongdoing sending truckload prime school many schools retweet tweet represent school get prime,)  \n",
       "4                                                                   (school meals free everybody charging children eat somewhere legally required entire day exploitative,)  "
      ]
     },
     "execution_count": 31,
     "metadata": {},
     "output_type": "execute_result"
    }
   ],
   "source": [
    "df_dups_70_text = df_dups_text\n",
    "df_dups_text.limit(5).toPandas()"
   ]
  },
  {
   "cell_type": "code",
   "execution_count": 32,
   "metadata": {},
   "outputs": [
    {
     "name": "stderr",
     "output_type": "stream",
     "text": [
      "[Stage 133:====================================================>(199 + 1) / 200]\r"
     ]
    },
    {
     "name": "stdout",
     "output_type": "stream",
     "text": [
      "Total records:  12862\n",
      "Duplicate titles based on { 0.7 } jaccard distance:  9997\n",
      "Unique titles based on { 0.7 } jaccard distance:  0.7 :  2865\n"
     ]
    },
    {
     "name": "stderr",
     "output_type": "stream",
     "text": [
      "                                                                                \r"
     ]
    }
   ],
   "source": [
    "records = df_hashed_text.count()\n",
    "dups_text_70 = df_dups_text.select('id_A').count()\n",
    "uniques = records - dups_text_70\n",
    "\n",
    "print ('Total records: ', records)\n",
    "print ('Duplicate titles based on {', jaccard_distance, '} jaccard distance: ', dups_text_70)\n",
    "print ('Unique titles based on {', jaccard_distance, '} jaccard distance: ', jaccard_distance, ': ', uniques)"
   ]
  },
  {
   "cell_type": "code",
   "execution_count": 33,
   "metadata": {},
   "outputs": [
    {
     "data": {
      "image/png": "[encoded data removed]",
      "text/plain": [
       "<Figure size 640x480 with 1 Axes>"
      ]
     },
     "metadata": {},
     "output_type": "display_data"
    }
   ],
   "source": [
    "dups_df = pd.DataFrame.from_dict({'near_dups': [dups_text_70], 'unique': [uniques]})\n",
    "\n",
    "ax=dups_df.plot(kind = 'bar',y=['near_dups', 'unique'], fontsize=10, color=['C0', 'C1'], align='center', width=0.8, xlabel=\"Duplicates vs. Unique\")\n",
    "ax.set_title('Tweet text duplication analysis', fontsize=15)\n",
    "ax.set_xlabel(\"Duplicates vs. Unique\")\n",
    "ax.set_ylabel(\"Tweet Count\")\n",
    "for p in ax.patches:\n",
    "       ax.annotate(format(p.get_height(), '.1f'), \n",
    "                   (p.get_x() + p.get_width() / 2., p.get_height()/2), \n",
    "                   ha = 'center', va = 'center', \n",
    "                   xytext = (0, 9), \n",
    "                   textcoords = 'offset points') "
   ]
  },
  {
   "cell_type": "markdown",
   "metadata": {},
   "source": [
    "### Step 5. Compare thresholds side-by-side"
   ]
  },
  {
   "cell_type": "markdown",
   "metadata": {},
   "source": [
    "#### Select all pairs of duplicate titles across jaccard similarities"
   ]
  },
  {
   "cell_type": "code",
   "execution_count": 34,
   "metadata": {},
   "outputs": [
    {
     "name": "stderr",
     "output_type": "stream",
     "text": [
      "                                                                                \r"
     ]
    },
    {
     "name": "stdout",
     "output_type": "stream",
     "text": [
      "5969\n"
     ]
    },
    {
     "name": "stderr",
     "output_type": "stream",
     "text": [
      "                                                                                \r"
     ]
    },
    {
     "name": "stdout",
     "output_type": "stream",
     "text": [
      "6575\n"
     ]
    },
    {
     "name": "stderr",
     "output_type": "stream",
     "text": [
      "[Stage 178:====================================================>(198 + 2) / 200]\r"
     ]
    },
    {
     "name": "stdout",
     "output_type": "stream",
     "text": [
      "9997\n"
     ]
    },
    {
     "name": "stderr",
     "output_type": "stream",
     "text": [
      "                                                                                \r"
     ]
    }
   ],
   "source": [
    "df_dups_30_text_id = df_dups_30_text.select(col('id_A').alias('id_30_A'), col('id_B').alias('id_30_B'))\n",
    "df_dups_50_text_id = df_dups_50_text.select(col('id_A').alias('id_50_A'), col('id_B').alias('id_50_B'))\n",
    "df_dups_70_text_id = df_dups_70_text.select(col('text_A'), col('text_B'),\\\n",
    "                                  col('id_A').alias('id_70_A'), col('id_B').alias('id_70_B'))\n",
    "\n",
    "print(df_dups_30_text_id.count())\n",
    "print(df_dups_50_text_id.count())\n",
    "print(df_dups_70_text_id.count())"
   ]
  },
  {
   "cell_type": "code",
   "execution_count": 35,
   "metadata": {},
   "outputs": [
    {
     "name": "stderr",
     "output_type": "stream",
     "text": [
      "                                                                                ]\r"
     ]
    },
    {
     "data": {
      "text/html": [
       "<table border='1'>\n",
       "<tr><th>text_A</th><th>text_B</th><th>id_70_A</th><th>id_70_B</th><th>id_50_A</th><th>id_50_B</th><th>id_30_A</th><th>id_30_B</th></tr>\n",
       "<tr><td>{baovesinhvienhuf...</td><td>{baovesinhvienhuf...</td><td>4108</td><td>8151</td><td>4108</td><td>8151</td><td>4108</td><td>8151</td></tr>\n",
       "<tr><td>{1 dam breaking j...</td><td>{breaking end nea...</td><td>588</td><td>6123</td><td>588</td><td>6123</td><td>null</td><td>null</td></tr>\n",
       "<tr><td>{told primary sch...</td><td>{told primary sch...</td><td>2184</td><td>5413</td><td>2184</td><td>5413</td><td>2184</td><td>5413</td></tr>\n",
       "<tr><td>{russian occupant...</td><td>{russian occupant...</td><td>8037</td><td>11288</td><td>8037</td><td>11288</td><td>8037</td><td>11288</td></tr>\n",
       "<tr><td>{miss ms pain pro...</td><td>{school teacher}</td><td>3327</td><td>12480</td><td>null</td><td>null</td><td>null</td><td>null</td></tr>\n",
       "</table>\n"
      ],
      "text/plain": [
       "+--------------------+--------------------+-------+-------+-------+-------+-------+-------+\n",
       "|              text_A|              text_B|id_70_A|id_70_B|id_50_A|id_50_B|id_30_A|id_30_B|\n",
       "+--------------------+--------------------+-------+-------+-------+-------+-------+-------+\n",
       "|{love rich black ...|{love rich black ...|   3069|   3583|   3069|   3583|   3069|   3583|\n",
       "|{soldier indian a...|{soldier indian a...|  10182|  10870|  10182|  10870|  10182|  10870|\n",
       "|{heres thread mis...|{heres thread mis...|  12799|  12828|  12799|  12828|  12799|  12828|\n",
       "|{potentially unpo...|{potentially unpo...|   2263|   6125|   2263|   6125|   2263|   6125|\n",
       "|{high school stud...|{jisoo look like ...|   3081|   9213|   null|   null|   null|   null|\n",
       "+--------------------+--------------------+-------+-------+-------+-------+-------+-------+"
      ]
     },
     "execution_count": 35,
     "metadata": {},
     "output_type": "execute_result"
    }
   ],
   "source": [
    "dups_combined_text = df_dups_70_text_id.join(df_dups_50_text_id, on=((df_dups_70_text_id.id_70_A == df_dups_50_text_id.id_50_A) & (df_dups_70_text_id.id_70_B == df_dups_50_text_id.id_50_B)), how=\"left_outer\")\\\n",
    ".join(df_dups_30_text_id, on=((df_dups_70_text_id.id_70_A == df_dups_30_text_id.id_30_A) & (df_dups_70_text_id.id_70_B == df_dups_30_text_id.id_30_B)), how=\"left_outer\")\n",
    "\n",
    "dups_combined_text.limit(5)"
   ]
  },
  {
   "cell_type": "markdown",
   "metadata": {},
   "source": [
    "#### Create a Duplicate vs Non-Dup flag for each jaccard similarity"
   ]
  },
  {
   "cell_type": "code",
   "execution_count": null,
   "metadata": {},
   "outputs": [
    {
     "name": "stderr",
     "output_type": "stream",
     "text": [
      "                                                                                ]\r"
     ]
    },
    {
     "data": {
      "text/html": [
       "<table border='1'>\n",
       "<tr><th>text_A</th><th>text_B</th><th>threshold_30</th><th>threshold_50</th><th>threshold_70</th></tr>\n",
       "<tr><td>{modijiextendneet...</td><td>{modijiextendneet...</td><td>Duplicate</td><td>Duplicate</td><td>Duplicate</td></tr>\n",
       "<tr><td>{question califor...</td><td>{100 california m...</td><td>Duplicate</td><td>Duplicate</td><td>Duplicate</td></tr>\n",
       "<tr><td>{tatami galaxy 20...</td><td>{tatami galaxy 20...</td><td>Duplicate</td><td>Duplicate</td><td>Duplicate</td></tr>\n",
       "<tr><td>{asuu ahmed musa ...</td><td>{ahmed musa asked...</td><td>Non-Dup</td><td>Non-Dup</td><td>Duplicate</td></tr>\n",
       "<tr><td>{live central hig...</td><td>{charles e jordan...</td><td>Non-Dup</td><td>Non-Dup</td><td>Duplicate</td></tr>\n",
       "</table>\n"
      ],
      "text/plain": [
       "+--------------------+--------------------+------------+------------+------------+\n",
       "|              text_A|              text_B|threshold_30|threshold_50|threshold_70|\n",
       "+--------------------+--------------------+------------+------------+------------+\n",
       "|{student debt exi...|{think college st...|     Non-Dup|     Non-Dup|   Duplicate|\n",
       "|{middle school te...|{middle school te...|   Duplicate|   Duplicate|   Duplicate|\n",
       "|{photo american s...|{photo american s...|   Duplicate|   Duplicate|   Duplicate|\n",
       "|{professor class ...|{professor class ...|   Duplicate|   Duplicate|   Duplicate|\n",
       "|{13 years enterin...|{13 years enterin...|   Duplicate|   Duplicate|   Duplicate|\n",
       "+--------------------+--------------------+------------+------------+------------+"
      ]
     },
     "execution_count": 36,
     "metadata": {},
     "output_type": "execute_result"
    }
   ],
   "source": [
    "dups_combined_text = dups_combined_text.\\\n",
    "withColumn(\"threshold_30\",\\\n",
    "           when(col(\"id_30_A\").isNotNull(), \"Duplicate\").\n",
    "           otherwise(\"Non-Dup\")).\\\n",
    "withColumn(\"threshold_50\",\\\n",
    "           when(col(\"id_50_A\").isNotNull(), \"Duplicate\").\n",
    "           otherwise(\"Non-Dup\")).\\\n",
    "withColumn(\"threshold_70\",\\\n",
    "           when(col(\"id_70_A\").isNotNull(), \"Duplicate\").\n",
    "           otherwise(\"Non-Dup\")).\\\n",
    "drop('id_30_A', 'id_30_B', 'id_50_A', 'id_50_B', 'id_70_A', 'id_70_B')\n",
    "\n",
    "dups_combined_text.limit(5)"
   ]
  },
  {
   "cell_type": "markdown",
   "metadata": {},
   "source": [
    "#### Select a sample of records across 3 thresholds (jaccard similarities):"
   ]
  },
  {
   "cell_type": "code",
   "execution_count": 38,
   "metadata": {},
   "outputs": [],
   "source": [
    "dups_combined_text_sample = \\\n",
    "dups_combined_text.filter((\"threshold_30 == 'Duplicate'\")).sample(False, 0.1, 12345).limit(10).\\\n",
    "union\\\n",
    "(dups_combined_text.filter((\"threshold_30 == 'Non-Dup' and threshold_50 == 'Duplicate'\")).sample(False, 0.1, 12345).limit(10)).\\\n",
    "union\\\n",
    "(dups_combined_text.filter((\"threshold_50 == 'Non-Dup'\")).sample(False, 0.1, 12345).limit(10)).\\\n",
    "orderBy('threshold_30', 'threshold_50', 'threshold_70')"
   ]
  },
  {
   "cell_type": "code",
   "execution_count": 43,
   "metadata": {},
   "outputs": [
    {
     "data": {
      "text/html": [
       "<div>\n",
       "<style scoped>\n",
       "    .dataframe tbody tr th:only-of-type {\n",
       "        vertical-align: middle;\n",
       "    }\n",
       "\n",
       "    .dataframe tbody tr th {\n",
       "        vertical-align: top;\n",
       "    }\n",
       "\n",
       "    .dataframe thead th {\n",
       "        text-align: right;\n",
       "    }\n",
       "</style>\n",
       "<table border=\"1\" class=\"dataframe\">\n",
       "  <thead>\n",
       "    <tr style=\"text-align: right;\">\n",
       "      <th></th>\n",
       "      <th>text_A</th>\n",
       "      <th>text_B</th>\n",
       "      <th>threshold_30</th>\n",
       "      <th>threshold_50</th>\n",
       "      <th>threshold_70</th>\n",
       "    </tr>\n",
       "  </thead>\n",
       "  <tbody>\n",
       "    <tr>\n",
       "      <th>0</th>\n",
       "      <td>(13 years entering nba stephen curry college grad stephen completed final semester coursework spring receive bachelor arts degree major sociology davidson college congrats class 2022,)</td>\n",
       "      <td>(13 years entering nba stephen curry college grad stephen completed final semester coursework spring receive bachelor arts degree major sociology davidson college congrats class 2022,)</td>\n",
       "      <td>Duplicate</td>\n",
       "      <td>Duplicate</td>\n",
       "      <td>Duplicate</td>\n",
       "    </tr>\n",
       "    <tr>\n",
       "      <th>1</th>\n",
       "      <td>(1 florida english teacher vicki baggett seeking remove 150 books school libraries says responsibility protect minors inappropriate content former amp current students say baggett openly promotes racist amp homophobic beliefs class,)</td>\n",
       "      <td>(1 florida english teacher vicki baggett seeking remove 150 books school libraries says responsibility protect minors inappropriate content former amp current students say baggett openly promotes racist amp homophobic beliefs class,)</td>\n",
       "      <td>Duplicate</td>\n",
       "      <td>Duplicate</td>\n",
       "      <td>Duplicate</td>\n",
       "    </tr>\n",
       "    <tr>\n",
       "      <th>2</th>\n",
       "      <td>(one friends primary school teacher muslim kid told teacher 2 mummies school got excited starting telling everyone brave accept lgbt stuff muslim etc anyway turns dad 2 wives,)</td>\n",
       "      <td>(one friends primary school teacher muslim kid told teacher 2 mummies school got excited starting telling everyone brave accept lgbt stuff muslim etc anyway turns dad 2 wives,)</td>\n",
       "      <td>Duplicate</td>\n",
       "      <td>Duplicate</td>\n",
       "      <td>Duplicate</td>\n",
       "    </tr>\n",
       "    <tr>\n",
       "      <th>3</th>\n",
       "      <td>(giveway 20 wl 5 nft funnyybuns want educate masses carrot school building cutest community 1 follow funnyybuns amp suiglobal 2 retweet 3 tag friends 72h suinami sui suiglobal suiecosystem giveaways,)</td>\n",
       "      <td>(giveway 20 wl 5 nft funnyybuns want educate masses carrot school building cutest community 1 follow funnyybuns amp suiglobal 2 retweet 3 tag friends 72h suinami sui suiglobal suiecosystem giveaways,)</td>\n",
       "      <td>Duplicate</td>\n",
       "      <td>Duplicate</td>\n",
       "      <td>Duplicate</td>\n",
       "    </tr>\n",
       "    <tr>\n",
       "      <th>4</th>\n",
       "      <td>(every single day makes realize fucking pandemic robbed college students college life truly deserve,)</td>\n",
       "      <td>(every single day makes realize fucking pandemic robbed college students college life truly deserve,)</td>\n",
       "      <td>Duplicate</td>\n",
       "      <td>Duplicate</td>\n",
       "      <td>Duplicate</td>\n",
       "    </tr>\n",
       "    <tr>\n",
       "      <th>5</th>\n",
       "      <td>(black money recovered today house tmc ministers aide ed says proceeds primary education recruitment scam merely tip iceberg bengal primary school teacher gets rs 22 000 per month eleven notes,)</td>\n",
       "      <td>(black money recovered today house tmc ministers aide ed says proceeds primary education recruitment scam merely tip iceberg bengal primary school teacher gets rs 22 000 per month eleven notes,)</td>\n",
       "      <td>Duplicate</td>\n",
       "      <td>Duplicate</td>\n",
       "      <td>Duplicate</td>\n",
       "    </tr>\n",
       "    <tr>\n",
       "      <th>6</th>\n",
       "      <td>(4 25 suspension education puts among top five countries children school despite rapid progress since 1990s low starting point stoptigraygenocide stopwarontigray undppa un,)</td>\n",
       "      <td>(suspension education puts among top five countries children school despite rapid progress since 1990s low starting point stoptigraygenocide stopwarontigray undppa un lieliti,)</td>\n",
       "      <td>Duplicate</td>\n",
       "      <td>Duplicate</td>\n",
       "      <td>Duplicate</td>\n",
       "    </tr>\n",
       "    <tr>\n",
       "      <th>7</th>\n",
       "      <td>(dearest ibu please ask change building 30 school 6 new classroom many school building bad condition free thousand one year electricity bill use money something else,)</td>\n",
       "      <td>(dearest ibu please ask change building 30 school 6 new classroom many school building bad condition free thousand one year electricity bill use money something else,)</td>\n",
       "      <td>Duplicate</td>\n",
       "      <td>Duplicate</td>\n",
       "      <td>Duplicate</td>\n",
       "    </tr>\n",
       "    <tr>\n",
       "      <th>8</th>\n",
       "      <td>(cant teach florida schools may make uncomfortable governor white power trump afterbirth ron may fire teacher teaches teach children home floriduh,)</td>\n",
       "      <td>(cant teach florida schools may make uncomfortable governor white power trump afterbirth ron may fire teacher teaches teach children home floriduh,)</td>\n",
       "      <td>Duplicate</td>\n",
       "      <td>Duplicate</td>\n",
       "      <td>Duplicate</td>\n",
       "    </tr>\n",
       "    <tr>\n",
       "      <th>9</th>\n",
       "      <td>(sehun high school student role 1 x0 anniversary fanmeet 1 x0withexols exolscelebratewithexo,)</td>\n",
       "      <td>(sehun high school student role 1 x0 anniversary fanmeet 1 x0withexols exolscelebratewithexo,)</td>\n",
       "      <td>Duplicate</td>\n",
       "      <td>Duplicate</td>\n",
       "      <td>Duplicate</td>\n",
       "    </tr>\n",
       "    <tr>\n",
       "      <th>10</th>\n",
       "      <td>(children tigray suffering trauma amp malnutrition missing vital school years tigraygenocide something must done help childrenoftigray jamesduddridge scottmorrisonmp justintrudeau royalbelgianfa savechildrenuk,)</td>\n",
       "      <td>(internationalyouthday children tigray suffering trauma amp malnutrition also missing vital school years tigraygenocide something must done help childrenoftigray unicef educannotwait chronicle bbceducation un selamt30,)</td>\n",
       "      <td>Non-Dup</td>\n",
       "      <td>Duplicate</td>\n",
       "      <td>Duplicate</td>\n",
       "    </tr>\n",
       "    <tr>\n",
       "      <th>11</th>\n",
       "      <td>(dont pay ridiculous amount money study python linux devops mlops data science learn courses google ibm microsoft redhat best instructors top universities like stanford mit harvard absolutely free,)</td>\n",
       "      <td>(dont pay ridiculous amount money study python data science machine learning learn courses google ibm top universities like stanford mit harvard absolutely free,)</td>\n",
       "      <td>Non-Dup</td>\n",
       "      <td>Duplicate</td>\n",
       "      <td>Duplicate</td>\n",
       "    </tr>\n",
       "    <tr>\n",
       "      <th>12</th>\n",
       "      <td>(two years let children education tigray 10 million children missing puts ethiopia among top five countries children school despite rapid progress since 1990s low starting point,)</td>\n",
       "      <td>(suspension education puts among top five countries children school despite rapid progress since 1990s low starting point stoptigraygenocide stopwarontigray undppa un brigaltigray3,)</td>\n",
       "      <td>Non-Dup</td>\n",
       "      <td>Duplicate</td>\n",
       "      <td>Duplicate</td>\n",
       "    </tr>\n",
       "    <tr>\n",
       "      <th>13</th>\n",
       "      <td>(telling guy cheated get college cheated get vietnam cheated taxes cheated students scam university cheated contributors fake charity also cheated donors bogus election fund get fuck,)</td>\n",
       "      <td>(telling guy cheated get college cheated get vietnam cheated wives cheated golf cheated students scam university cheated donors fake charity cheating taxes get fuck,)</td>\n",
       "      <td>Non-Dup</td>\n",
       "      <td>Duplicate</td>\n",
       "      <td>Duplicate</td>\n",
       "    </tr>\n",
       "    <tr>\n",
       "      <th>14</th>\n",
       "      <td>(2023 bond university hdr scholarships postgraduate students host country australia category phd scholarships eligible countries countries reward full scholarship 29 863 annual stipends deadline march 31 2023 apply link,)</td>\n",
       "      <td>(2022 university melbourne scholarships international students host country australia category masters phd scholarships eligible countries reward full scholarship 35 400 annual stipend deadline october 31 2022 apply link,)</td>\n",
       "      <td>Non-Dup</td>\n",
       "      <td>Duplicate</td>\n",
       "      <td>Duplicate</td>\n",
       "    </tr>\n",
       "    <tr>\n",
       "      <th>15</th>\n",
       "      <td>(harvard university offering free online courses computer science artificial intelligence 13 free courses dont want miss,)</td>\n",
       "      <td>(harvard university offering free online courses application fee required 10 free courses dont want miss,)</td>\n",
       "      <td>Non-Dup</td>\n",
       "      <td>Duplicate</td>\n",
       "      <td>Duplicate</td>\n",
       "    </tr>\n",
       "    <tr>\n",
       "      <th>16</th>\n",
       "      <td>(college student jungkook jk,)</td>\n",
       "      <td>(college student,)</td>\n",
       "      <td>Non-Dup</td>\n",
       "      <td>Duplicate</td>\n",
       "      <td>Duplicate</td>\n",
       "    </tr>\n",
       "    <tr>\n",
       "      <th>17</th>\n",
       "      <td>(daily anti coup revolutionary domestic strike pro democracy cdmer teachers sagaing university education 734th day 2023feb4coup legalizationofnug whatshappeninginmyanmar,)</td>\n",
       "      <td>(pro democracy cdmer teachers med sagaing university education staged anti coup revolutionary domestic strike 564th day without day 2022aug18coup uselessun whatshappeninginmyanmar,)</td>\n",
       "      <td>Non-Dup</td>\n",
       "      <td>Duplicate</td>\n",
       "      <td>Duplicate</td>\n",
       "    </tr>\n",
       "    <tr>\n",
       "      <th>18</th>\n",
       "      <td>(telling guy cheated get college cheated get vietnam cheated wives cheated golf cheated students scam university cheated donors fake charity cheating taxes get fuck,)</td>\n",
       "      <td>(telling guy cheated get college cheated get vietnam cheated taxes cheated students scam university cheated contributors fake charity also cheated donors bogus election fund get fuck,)</td>\n",
       "      <td>Non-Dup</td>\n",
       "      <td>Duplicate</td>\n",
       "      <td>Duplicate</td>\n",
       "    </tr>\n",
       "    <tr>\n",
       "      <th>19</th>\n",
       "      <td>(daily anti coup revolutionary domestic strike pro democracy cdmer teachers sagaing university education 734th day 2023feb4coup legalizationofnug whatshappeninginmyanmar,)</td>\n",
       "      <td>(10 cdmer teachers bed sagaing university education staged anti coup revolutionary domestic strike 620th day without day 2022oct13coup eu sanctionarmsbrokers whatshappeninginmyanmar,)</td>\n",
       "      <td>Non-Dup</td>\n",
       "      <td>Duplicate</td>\n",
       "      <td>Duplicate</td>\n",
       "    </tr>\n",
       "    <tr>\n",
       "      <th>20</th>\n",
       "      <td>(live laurel high school vs lockwood jr sr high school varsity football live streaming thursday september 01 2022 8 30 pm,)</td>\n",
       "      <td>(live pieper high school vs wimberley high school varsity football 2022 watch stream date sep 02 2022 time 8 30 pm,)</td>\n",
       "      <td>Non-Dup</td>\n",
       "      <td>Non-Dup</td>\n",
       "      <td>Duplicate</td>\n",
       "    </tr>\n",
       "    <tr>\n",
       "      <th>21</th>\n",
       "      <td>(high school student yoona lim,)</td>\n",
       "      <td>(leeknow high school college,)</td>\n",
       "      <td>Non-Dup</td>\n",
       "      <td>Non-Dup</td>\n",
       "      <td>Duplicate</td>\n",
       "    </tr>\n",
       "    <tr>\n",
       "      <th>22</th>\n",
       "      <td>(college really humbled gifted student,)</td>\n",
       "      <td>(19 175 american college student,)</td>\n",
       "      <td>Non-Dup</td>\n",
       "      <td>Non-Dup</td>\n",
       "      <td>Duplicate</td>\n",
       "    </tr>\n",
       "    <tr>\n",
       "      <th>23</th>\n",
       "      <td>(9 cdmer teachers bed batch 11 sagaing university education staged anti coup revolutionary domestic strike 575th day without day 2022aug29coup helpmyanmaridps whatshappeninginmyanmar,)</td>\n",
       "      <td>(daily anti coup revolutionary domestic strike pro democracy cdmer teachers sagaing university education 706th day 2023jan7coup legalizationofnug whatshappeninginmyanmar,)</td>\n",
       "      <td>Non-Dup</td>\n",
       "      <td>Non-Dup</td>\n",
       "      <td>Duplicate</td>\n",
       "    </tr>\n",
       "    <tr>\n",
       "      <th>24</th>\n",
       "      <td>(wait college man fuck high school,)</td>\n",
       "      <td>(euphoria based college students high school kids,)</td>\n",
       "      <td>Non-Dup</td>\n",
       "      <td>Non-Dup</td>\n",
       "      <td>Duplicate</td>\n",
       "    </tr>\n",
       "    <tr>\n",
       "      <th>25</th>\n",
       "      <td>(florida 10 000 teacher shortage school year began florida ranks 48 teacher salary 43rd education funding 75 third graders demonstrate proficient reading levels fewer half high schoolers posting desired algebra scores,)</td>\n",
       "      <td>(ron desantis failed education governor 48th teacher pay 25 3rd graders reading proficient sat scores dropping 1 2 high schoolers meet desired algebra scores 9 000 teacher shortage accused groomers,)</td>\n",
       "      <td>Non-Dup</td>\n",
       "      <td>Non-Dup</td>\n",
       "      <td>Duplicate</td>\n",
       "    </tr>\n",
       "    <tr>\n",
       "      <th>26</th>\n",
       "      <td>(study australia 2022 university sydney vice chancellor scholarship international students host country australia category undergraduate masters scholarships eligible countries reward 40 000 deadline january 15 2023 apply,)</td>\n",
       "      <td>(2022 university pisa merit scholarships international students host country italy category masters scholarships eligible countries countries reward tuition fee 22000 grant deadline varies course apply link,)</td>\n",
       "      <td>Non-Dup</td>\n",
       "      <td>Non-Dup</td>\n",
       "      <td>Duplicate</td>\n",
       "    </tr>\n",
       "    <tr>\n",
       "      <th>27</th>\n",
       "      <td>(university kentucky student sophia rosing arrested charged assaulting another student work calling nigger bitch,)</td>\n",
       "      <td>(university kentucky student arrested assaulting calling black female student n er,)</td>\n",
       "      <td>Non-Dup</td>\n",
       "      <td>Non-Dup</td>\n",
       "      <td>Duplicate</td>\n",
       "    </tr>\n",
       "    <tr>\n",
       "      <th>28</th>\n",
       "      <td>(kim taehyung college student beautiful,)</td>\n",
       "      <td>(ceo college student pop star,)</td>\n",
       "      <td>Non-Dup</td>\n",
       "      <td>Non-Dup</td>\n",
       "      <td>Duplicate</td>\n",
       "    </tr>\n",
       "    <tr>\n",
       "      <th>29</th>\n",
       "      <td>(ceo college student pop star,)</td>\n",
       "      <td>(top tips managing money college student,)</td>\n",
       "      <td>Non-Dup</td>\n",
       "      <td>Non-Dup</td>\n",
       "      <td>Duplicate</td>\n",
       "    </tr>\n",
       "  </tbody>\n",
       "</table>\n",
       "</div>"
      ],
      "text/plain": [
       "                                                                                                                                                                                                                                       text_A  \\\n",
       "0                                                    (13 years entering nba stephen curry college grad stephen completed final semester coursework spring receive bachelor arts degree major sociology davidson college congrats class 2022,)   \n",
       "1   (1 florida english teacher vicki baggett seeking remove 150 books school libraries says responsibility protect minors inappropriate content former amp current students say baggett openly promotes racist amp homophobic beliefs class,)   \n",
       "2                                                            (one friends primary school teacher muslim kid told teacher 2 mummies school got excited starting telling everyone brave accept lgbt stuff muslim etc anyway turns dad 2 wives,)   \n",
       "3                                    (giveway 20 wl 5 nft funnyybuns want educate masses carrot school building cutest community 1 follow funnyybuns amp suiglobal 2 retweet 3 tag friends 72h suinami sui suiglobal suiecosystem giveaways,)   \n",
       "4                                                                                                                                       (every single day makes realize fucking pandemic robbed college students college life truly deserve,)   \n",
       "5                                          (black money recovered today house tmc ministers aide ed says proceeds primary education recruitment scam merely tip iceberg bengal primary school teacher gets rs 22 000 per month eleven notes,)   \n",
       "6                                                               (4 25 suspension education puts among top five countries children school despite rapid progress since 1990s low starting point stoptigraygenocide stopwarontigray undppa un,)   \n",
       "7                                                                     (dearest ibu please ask change building 30 school 6 new classroom many school building bad condition free thousand one year electricity bill use money something else,)   \n",
       "8                                                                                        (cant teach florida schools may make uncomfortable governor white power trump afterbirth ron may fire teacher teaches teach children home floriduh,)   \n",
       "9                                                                                                                                              (sehun high school student role 1 x0 anniversary fanmeet 1 x0withexols exolscelebratewithexo,)   \n",
       "10                        (children tigray suffering trauma amp malnutrition missing vital school years tigraygenocide something must done help childrenoftigray jamesduddridge scottmorrisonmp justintrudeau royalbelgianfa savechildrenuk,)   \n",
       "11                                     (dont pay ridiculous amount money study python linux devops mlops data science learn courses google ibm microsoft redhat best instructors top universities like stanford mit harvard absolutely free,)   \n",
       "12                                                        (two years let children education tigray 10 million children missing puts ethiopia among top five countries children school despite rapid progress since 1990s low starting point,)   \n",
       "13                                                   (telling guy cheated get college cheated get vietnam cheated taxes cheated students scam university cheated contributors fake charity also cheated donors bogus election fund get fuck,)   \n",
       "14              (2023 bond university hdr scholarships postgraduate students host country australia category phd scholarships eligible countries countries reward full scholarship 29 863 annual stipends deadline march 31 2023 apply link,)   \n",
       "15                                                                                                                 (harvard university offering free online courses computer science artificial intelligence 13 free courses dont want miss,)   \n",
       "16                                                                                                                                                                                                             (college student jungkook jk,)   \n",
       "17                                                                (daily anti coup revolutionary domestic strike pro democracy cdmer teachers sagaing university education 734th day 2023feb4coup legalizationofnug whatshappeninginmyanmar,)   \n",
       "18                                                                     (telling guy cheated get college cheated get vietnam cheated wives cheated golf cheated students scam university cheated donors fake charity cheating taxes get fuck,)   \n",
       "19                                                                (daily anti coup revolutionary domestic strike pro democracy cdmer teachers sagaing university education 734th day 2023feb4coup legalizationofnug whatshappeninginmyanmar,)   \n",
       "20                                                                                                                (live laurel high school vs lockwood jr sr high school varsity football live streaming thursday september 01 2022 8 30 pm,)   \n",
       "21                                                                                                                                                                                                           (high school student yoona lim,)   \n",
       "22                                                                                                                                                                                                   (college really humbled gifted student,)   \n",
       "23                                                   (9 cdmer teachers bed batch 11 sagaing university education staged anti coup revolutionary domestic strike 575th day without day 2022aug29coup helpmyanmaridps whatshappeninginmyanmar,)   \n",
       "24                                                                                                                                                                                                       (wait college man fuck high school,)   \n",
       "25                (florida 10 000 teacher shortage school year began florida ranks 48 teacher salary 43rd education funding 75 third graders demonstrate proficient reading levels fewer half high schoolers posting desired algebra scores,)   \n",
       "26            (study australia 2022 university sydney vice chancellor scholarship international students host country australia category undergraduate masters scholarships eligible countries reward 40 000 deadline january 15 2023 apply,)   \n",
       "27                                                                                                                         (university kentucky student sophia rosing arrested charged assaulting another student work calling nigger bitch,)   \n",
       "28                                                                                                                                                                                                  (kim taehyung college student beautiful,)   \n",
       "29                                                                                                                                                                                                            (ceo college student pop star,)   \n",
       "\n",
       "                                                                                                                                                                                                                                       text_B  \\\n",
       "0                                                    (13 years entering nba stephen curry college grad stephen completed final semester coursework spring receive bachelor arts degree major sociology davidson college congrats class 2022,)   \n",
       "1   (1 florida english teacher vicki baggett seeking remove 150 books school libraries says responsibility protect minors inappropriate content former amp current students say baggett openly promotes racist amp homophobic beliefs class,)   \n",
       "2                                                            (one friends primary school teacher muslim kid told teacher 2 mummies school got excited starting telling everyone brave accept lgbt stuff muslim etc anyway turns dad 2 wives,)   \n",
       "3                                    (giveway 20 wl 5 nft funnyybuns want educate masses carrot school building cutest community 1 follow funnyybuns amp suiglobal 2 retweet 3 tag friends 72h suinami sui suiglobal suiecosystem giveaways,)   \n",
       "4                                                                                                                                       (every single day makes realize fucking pandemic robbed college students college life truly deserve,)   \n",
       "5                                          (black money recovered today house tmc ministers aide ed says proceeds primary education recruitment scam merely tip iceberg bengal primary school teacher gets rs 22 000 per month eleven notes,)   \n",
       "6                                                            (suspension education puts among top five countries children school despite rapid progress since 1990s low starting point stoptigraygenocide stopwarontigray undppa un lieliti,)   \n",
       "7                                                                     (dearest ibu please ask change building 30 school 6 new classroom many school building bad condition free thousand one year electricity bill use money something else,)   \n",
       "8                                                                                        (cant teach florida schools may make uncomfortable governor white power trump afterbirth ron may fire teacher teaches teach children home floriduh,)   \n",
       "9                                                                                                                                              (sehun high school student role 1 x0 anniversary fanmeet 1 x0withexols exolscelebratewithexo,)   \n",
       "10                (internationalyouthday children tigray suffering trauma amp malnutrition also missing vital school years tigraygenocide something must done help childrenoftigray unicef educannotwait chronicle bbceducation un selamt30,)   \n",
       "11                                                                         (dont pay ridiculous amount money study python data science machine learning learn courses google ibm top universities like stanford mit harvard absolutely free,)   \n",
       "12                                                     (suspension education puts among top five countries children school despite rapid progress since 1990s low starting point stoptigraygenocide stopwarontigray undppa un brigaltigray3,)   \n",
       "13                                                                     (telling guy cheated get college cheated get vietnam cheated wives cheated golf cheated students scam university cheated donors fake charity cheating taxes get fuck,)   \n",
       "14             (2022 university melbourne scholarships international students host country australia category masters phd scholarships eligible countries reward full scholarship 35 400 annual stipend deadline october 31 2022 apply link,)   \n",
       "15                                                                                                                                 (harvard university offering free online courses application fee required 10 free courses dont want miss,)   \n",
       "16                                                                                                                                                                                                                         (college student,)   \n",
       "17                                                      (pro democracy cdmer teachers med sagaing university education staged anti coup revolutionary domestic strike 564th day without day 2022aug18coup uselessun whatshappeninginmyanmar,)   \n",
       "18                                                   (telling guy cheated get college cheated get vietnam cheated taxes cheated students scam university cheated contributors fake charity also cheated donors bogus election fund get fuck,)   \n",
       "19                                                    (10 cdmer teachers bed sagaing university education staged anti coup revolutionary domestic strike 620th day without day 2022oct13coup eu sanctionarmsbrokers whatshappeninginmyanmar,)   \n",
       "20                                                                                                                       (live pieper high school vs wimberley high school varsity football 2022 watch stream date sep 02 2022 time 8 30 pm,)   \n",
       "21                                                                                                                                                                                                             (leeknow high school college,)   \n",
       "22                                                                                                                                                                                                         (19 175 american college student,)   \n",
       "23                                                                (daily anti coup revolutionary domestic strike pro democracy cdmer teachers sagaing university education 706th day 2023jan7coup legalizationofnug whatshappeninginmyanmar,)   \n",
       "24                                                                                                                                                                                        (euphoria based college students high school kids,)   \n",
       "25                                    (ron desantis failed education governor 48th teacher pay 25 3rd graders reading proficient sat scores dropping 1 2 high schoolers meet desired algebra scores 9 000 teacher shortage accused groomers,)   \n",
       "26                           (2022 university pisa merit scholarships international students host country italy category masters scholarships eligible countries countries reward tuition fee 22000 grant deadline varies course apply link,)   \n",
       "27                                                                                                                                                       (university kentucky student arrested assaulting calling black female student n er,)   \n",
       "28                                                                                                                                                                                                            (ceo college student pop star,)   \n",
       "29                                                                                                                                                                                                 (top tips managing money college student,)   \n",
       "\n",
       "   threshold_30 threshold_50 threshold_70  \n",
       "0     Duplicate    Duplicate    Duplicate  \n",
       "1     Duplicate    Duplicate    Duplicate  \n",
       "2     Duplicate    Duplicate    Duplicate  \n",
       "3     Duplicate    Duplicate    Duplicate  \n",
       "4     Duplicate    Duplicate    Duplicate  \n",
       "5     Duplicate    Duplicate    Duplicate  \n",
       "6     Duplicate    Duplicate    Duplicate  \n",
       "7     Duplicate    Duplicate    Duplicate  \n",
       "8     Duplicate    Duplicate    Duplicate  \n",
       "9     Duplicate    Duplicate    Duplicate  \n",
       "10      Non-Dup    Duplicate    Duplicate  \n",
       "11      Non-Dup    Duplicate    Duplicate  \n",
       "12      Non-Dup    Duplicate    Duplicate  \n",
       "13      Non-Dup    Duplicate    Duplicate  \n",
       "14      Non-Dup    Duplicate    Duplicate  \n",
       "15      Non-Dup    Duplicate    Duplicate  \n",
       "16      Non-Dup    Duplicate    Duplicate  \n",
       "17      Non-Dup    Duplicate    Duplicate  \n",
       "18      Non-Dup    Duplicate    Duplicate  \n",
       "19      Non-Dup    Duplicate    Duplicate  \n",
       "20      Non-Dup      Non-Dup    Duplicate  \n",
       "21      Non-Dup      Non-Dup    Duplicate  \n",
       "22      Non-Dup      Non-Dup    Duplicate  \n",
       "23      Non-Dup      Non-Dup    Duplicate  \n",
       "24      Non-Dup      Non-Dup    Duplicate  \n",
       "25      Non-Dup      Non-Dup    Duplicate  \n",
       "26      Non-Dup      Non-Dup    Duplicate  \n",
       "27      Non-Dup      Non-Dup    Duplicate  \n",
       "28      Non-Dup      Non-Dup    Duplicate  \n",
       "29      Non-Dup      Non-Dup    Duplicate  "
      ]
     },
     "execution_count": 43,
     "metadata": {},
     "output_type": "execute_result"
    }
   ],
   "source": [
    "pd.set_option('display.max_rows', 30)\n",
    "dups_combined_text_sample.toPandas()"
   ]
  }
 ],
 "metadata": {
  "kernelspec": {
   "display_name": "Python 3 (ipykernel)",
   "language": "python",
   "name": "python3"
  },
  "language_info": {
   "codemirror_mode": {
    "name": "ipython",
    "version": 3
   },
   "file_extension": ".py",
   "mimetype": "text/x-python",
   "name": "python",
   "nbconvert_exporter": "python",
   "pygments_lexer": "ipython3",
   "version": "3.9.16"
  }
 },
 "nbformat": 4,
 "nbformat_minor": 4
}
