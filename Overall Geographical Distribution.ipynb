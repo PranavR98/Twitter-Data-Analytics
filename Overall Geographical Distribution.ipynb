{
 "cells": [
  {
   "cell_type": "code",
   "execution_count": 1,
   "id": "c85ec7c2-829d-4da8-8473-73efc664f082",
   "metadata": {},
   "outputs": [
    {
     "name": "stdout",
     "output_type": "stream",
     "text": [
      "3.8.15 | packaged by conda-forge | (default, Nov 22 2022, 08:46:39) \n",
      "[GCC 10.4.0]\n",
      "3.1.3\n"
     ]
    }
   ],
   "source": [
    "import sys\n",
    "print(sys.version)\n",
    "print(spark.version)"
   ]
  },
  {
   "cell_type": "code",
   "execution_count": 12,
   "id": "a42121a9-e1b4-4187-88e7-f2c27b45fb78",
   "metadata": {},
   "outputs": [],
   "source": [
    "import os\n",
    "import time\n",
    "import subprocess\n",
    "from matplotlib import pyplot as plt\n",
    "import datetime\n",
    "import pandas as pd\n",
    "\n",
    "from pyspark.sql.functions import *\n",
    "from pyspark.sql.types import *\n",
    "from pyspark.sql import functions as f\n",
    "\n",
    "from pyspark.sql import SQLContext\n",
    "sqlContext = SQLContext(sc)\n",
    "\n",
    "import awoc\n",
    "my_world = awoc.AWOC()"
   ]
  },
  {
   "cell_type": "code",
   "execution_count": 3,
   "id": "b45ae0f2-e744-4820-b8a1-5b6983a388b3",
   "metadata": {},
   "outputs": [],
   "source": [
    "warnings.filterwarnings(action='ignore')\n",
    "spark = SparkSession.builder.getOrCreate()\n",
    "\n",
    "##Add \"eagerEval.enabled\" to beautify the way Spark DF is displayed\n",
    "spark.conf.set(\"spark.sql.repl.eagerEval.enabled\",True)\n",
    "\n",
    "## To use legacy casting notation for date\n",
    "spark.conf.set(\"spark.sql.legacy.timeParserPolicy\",\"LEGACY\")"
   ]
  },
  {
   "cell_type": "code",
   "execution_count": 4,
   "id": "de77ba80-9835-4ead-bafa-af1ceb46fa9d",
   "metadata": {},
   "outputs": [],
   "source": [
    "from google.cloud import storage"
   ]
  },
  {
   "cell_type": "code",
   "execution_count": 5,
   "id": "d7d53973-c036-4cf2-b73a-ba023cec8881",
   "metadata": {},
   "outputs": [],
   "source": [
    "def list_blobs(bucket_name, folder_name):\n",
    "    gcs_client = storage.Client()\n",
    "    bucket = gcs_client.bucket(bucket_name)\n",
    "    blobs = list(bucket.list_blobs(prefix=folder_name))\n",
    "\n",
    "    for blob in blobs:\n",
    "        print(blob.name + '\\t' + str(blob.size))"
   ]
  },
  {
   "cell_type": "code",
   "execution_count": 6,
   "id": "be379168-35a7-4dbb-bfda-d697cd72f3e8",
   "metadata": {},
   "outputs": [],
   "source": [
    "def list_blobs_pd(bucket_name, folder_name):\n",
    "    gcs_client = storage.Client()\n",
    "    bucket = gcs_client.bucket(bucket_name)\n",
    "    blobs = list(bucket.list_blobs(prefix=folder_name))\n",
    "\n",
    "    blob_name = []\n",
    "    blob_size = []\n",
    "    \n",
    "    for blob in blobs:\n",
    "        blob_name.append(blob.name)\n",
    "        blob_size.append(blob.size)\n",
    "\n",
    "    blobs_df = pd.DataFrame(list(zip(blob_name, blob_size)), columns=['Name','Size'])\n",
    "\n",
    "    blobs_df.style.format({\"Size\": \"{:,.0f}\"}) \n",
    "    \n",
    "    return blobs_df"
   ]
  },
  {
   "cell_type": "code",
   "execution_count": 7,
   "id": "63277c84-2509-4ee5-8b9a-8a2d941cf6f5",
   "metadata": {},
   "outputs": [],
   "source": [
    "def delete_folder(bucket_name, folder_name):\n",
    "    gcs_client = storage.Client()\n",
    "    bucket = gcs_client.bucket(bucket_name)\n",
    "    blobs = list(bucket.list_blobs(prefix=folder_name))\n",
    "\n",
    "    for blob in blobs:\n",
    "        blob.delete()"
   ]
  },
  {
   "cell_type": "markdown",
   "id": "5fbaac25-b861-487d-b17a-058669fe67a6",
   "metadata": {},
   "source": [
    "### Read Data"
   ]
  },
  {
   "cell_type": "code",
   "execution_count": 20,
   "id": "95fb9672-79d5-49e2-a18b-31432b25daa1",
   "metadata": {},
   "outputs": [],
   "source": [
    "geo_df = spark.read.parquet('gs://msca-bdp-students-bucket/shared_data/pranavr569/tweets_classified')"
   ]
  },
  {
   "cell_type": "code",
   "execution_count": 21,
   "id": "4558cee2-a3d6-48bc-80b6-afee56d5dcdc",
   "metadata": {},
   "outputs": [
    {
     "name": "stderr",
     "output_type": "stream",
     "text": [
      "                                                                                \r"
     ]
    },
    {
     "data": {
      "text/plain": [
       "12875304"
      ]
     },
     "execution_count": 21,
     "metadata": {},
     "output_type": "execute_result"
    }
   ],
   "source": [
    "geo_df.select('tweet_id').distinct().count()"
   ]
  },
  {
   "cell_type": "code",
   "execution_count": 22,
   "id": "a1b47fdf-560f-4066-87e3-927b88eba662",
   "metadata": {},
   "outputs": [],
   "source": [
    "geo_df = geo_df.dropDuplicates()"
   ]
  },
  {
   "cell_type": "code",
   "execution_count": 23,
   "id": "d02c3d14-79a5-4e2b-a0e9-f537fac0c6d4",
   "metadata": {},
   "outputs": [
    {
     "name": "stderr",
     "output_type": "stream",
     "text": [
      "                                                                                \r"
     ]
    },
    {
     "data": {
      "text/plain": [
       "12875304"
      ]
     },
     "execution_count": 23,
     "metadata": {},
     "output_type": "execute_result"
    }
   ],
   "source": [
    "geo_df.count()"
   ]
  },
  {
   "cell_type": "markdown",
   "id": "3be5ffde-a1cd-4509-a157-6b5671db5b78",
   "metadata": {},
   "source": [
    "### Mapping the all locations into regions to find overall distribution"
   ]
  },
  {
   "cell_type": "code",
   "execution_count": 24,
   "id": "8dcf4bfc-30d0-48cd-87ef-657c5d87a58a",
   "metadata": {},
   "outputs": [],
   "source": [
    "overall_count = geo_df.groupBy('user_location')\\\n",
    "         .agg(f.count('tweet_id').alias('total_twitterers')).orderBy('total_twitterers',ascending=False)"
   ]
  },
  {
   "cell_type": "code",
   "execution_count": 25,
   "id": "8c2660d5-1109-4c15-874b-c5b692f1e9fe",
   "metadata": {},
   "outputs": [],
   "source": [
    "na_ctry = [ 'AK', 'AL', 'AR', 'AZ', 'CA', 'CO', 'CT', 'DC', 'DE', 'FL', 'GA',\n",
    "           'HI', 'IA', 'ID', 'IL', 'IN', 'KS', 'KY', 'LA', 'MA', 'MD', 'ME',\n",
    "           'MI', 'MN', 'MO', 'MS', 'MT', 'NC', 'ND', 'NE', 'NH', 'NJ', 'NM',\n",
    "           'NV', 'NY', 'OH', 'OK', 'OR', 'PA', 'RI', 'SC', 'SD', 'TN', 'TX',\n",
    "           'UT', 'VA', 'VT', 'WA', 'WI', 'WV', 'WY','Texas','USA','US','United States',\n",
    "            'Canada','canada','Toronto','toronto','Ontario','ontario',\"Alaska\", \"Alabama\",\n",
    "             \"Arkansas\", \"American Samoa\", \"Arizona\", \"California\", \"Colorado\",\n",
    "             \"Connecticut\", \"District \", \"of Columbia\", \"Delaware\", \"Florida\", \n",
    "             \"Georgia\", \"Guam\", \"Hawaii\", \"Iowa\", \"Idaho\", \"Illinois\", \"Indiana\",\n",
    "             \"Kansas\", \"Kentucky\", \"Louisiana\", \"Massachusetts\", \"Maryland\", \"Maine\", \n",
    "             \"Michigan\", \"Minnesota\", \"Missouri\", \"Mississippi\", \"Montana\", \"North Carolina\",\n",
    "             \"North Dakota\", \"Nebraska\", \"New Hampshire\", \"New Jersey\", \"New Mexico\", \"Nevada\", \n",
    "             \"New York\", \"Ohio\", \"Oklahoma\", \"Oregon\", \"Pennsylvania\", \"Puerto Rico\", \"Rhode Island\", \n",
    "             \"South Carolina\", \"South Dakota\", \"Tennessee\", \"Texas\", \"Utah\", \"Virginia\", \n",
    "             \"Virgin Islands\", \"Vermont\", \"Washington\", \"Wisconsin\", \"West Virginia\", \"Wyoming\",\n",
    "             \"Aberdeen\", \"Abilene\", \"Akron\", \"Albany\", \"Albuquerque\", \"Alexandria\", \"Allentown\",\n",
    "             \"Amarillo\", \"Anaheim\", \"Anchorage\", \"Ann Arbor\", \"Antioch\", \"Apple Valley\", \"Appleton\",\n",
    "             \"Arlington\", \"Arvada\", \"Asheville\", \"Athens\", \"Atlanta\", \"Atlantic City\", \"Augusta\", \n",
    "             \"Aurora\", \"Austin\", \"Bakersfield\", \"Baltimore\", \"Barnstable\", \"Baton Rouge\", \"Beaumont\",\n",
    "             \"Bel Air\", \"Bellevue\", \"Berkeley\", \"Bethlehem\", \"Billings\", \"Birmingham\", \"Bloomington\", \n",
    "             \"Boise\", \"Boise City\", \"Bonita Springs\", \"Boston\", \"Boulder\", \"Bradenton\", \"Bremerton\",\n",
    "             \"Bridgeport\", \"Brighton\", \"Brownsville\", \"Bryan\", \"Buffalo\", \"Burbank\", \"Burlington\",\n",
    "             \"Cambridge\", \"Canton\", \"Cape Coral\", \"Carrollton\", \"Cary\", \"Cathedral City\", \"Cedar Rapids\", \n",
    "             \"Champaign\", \"Chandler\", \"Charleston\", \"Charlotte\", \"Chattanooga\", \"Chesapeake\", \"Chicago\",\n",
    "             \"Chula Vista\", \"Cincinnati\", \"Clarke County\", \"Clarksville\", \"Clearwater\", \"Cleveland\", \n",
    "             \"College Station\", \"Colorado Springs\", \"Columbia\", \"Columbus\", \"Concord\", \"Coral Springs\", \n",
    "             \"Corona\", \"Corpus Christi\", \"Costa Mesa\", \"Dallas\", \"Daly City\", \"Danbury\", \"Davenport\", \n",
    "             \"Davidson County\", \"Dayton\", \"Daytona Beach\", \"Deltona\", \"Denton\", \"Denver\", \"Des Moines\",\n",
    "             \"Detroit\", \"Downey\", \"Duluth\", \"Durham\", \"El Monte\", \"El Paso\", \"Elizabeth\", \"Elk Grove\",\n",
    "             \"Elkhart\", \"Erie\", \"Escondido\", \"Eugene\", \"Evansville\", \"Fairfield\", \"Fargo\", \"Fayetteville\",\n",
    "             \"Fitchburg\", \"Flint\", \"Fontana\", \"Fort Collins\", \"Fort Lauderdale\", \"Fort Smith\",\n",
    "             \"Fort Walton Beach\", \"Fort Wayne\", \"Fort Worth\", \"Frederick\", \"Fremont\", \"Fresno\", \n",
    "             \"Fullerton\", \"Gainesville\", \"Garden Grove\", \"Garland\", \"Gastonia\", \"Gilbert\", \"Glendale\",\n",
    "             \"Grand Prairie\", \"Grand Rapids\", \"Grayslake\", \"Green Bay\", \"GreenBay\", \"Greensboro\",\n",
    "             \"Greenville\", \"Gulfport-Biloxi\", \"Hagerstown\", \"Hampton\", \"Harlingen\", \"Harrisburg\", \n",
    "             \"Hartford\", \"Havre de Grace\", \"Hayward\", \"Hemet\", \"Henderson\", \"Hesperia\", \"Hialeah\",\n",
    "             \"Hickory\", \"High Point\", \"Hollywood\", \"Honolulu\", \"Houma\", \"Houston\", \"Howell\", \"Huntington\", \n",
    "             \"Huntington Beach\", \"Huntsville\", \"Independence\", \"Indianapolis\", \"Inglewood\", \"Irvine\", \n",
    "             \"Irving\", \"Jackson\", \"Jacksonville\", \"Jefferson\", \"Jersey City\", \"Johnson City\", \"Joliet\", \n",
    "             \"Kailua\", \"Kalamazoo\", \"Kaneohe\", \"Kansas City\", \"Kennewick\", \"Kenosha\", \"Killeen\", \"Kissimmee\", \n",
    "             \"Knoxville\", \"Lacey\", \"Lafayette\", \"Lake Charles\", \"Lakeland\", \"Lakewood\", \"Lancaster\", \"Lansing\",\n",
    "             \"Laredo\", \"Las Cruces\", \"Las Vegas\", \"Layton\", \"Leominster\", \"Lewisville\", \"Lexington\", \"Lincoln\",\n",
    "             \"Little Rock\", \"Long Beach\", \"Lorain\", \"Los Angeles\", \"Louisville\", \"Lowell\", \"Lubbock\", \"Macon\",\n",
    "             \"Madison\", \"Manchester\", \"Marina\", \"Marysville\", \"McAllen\", \"McHenry\", \"Medford\", \"Melbourne\", \n",
    "             \"Memphis\", \"Merced\", \"Mesa\", \"Mesquite\", \"Miami\", \"Milwaukee\", \"Minneapolis\", \"Miramar\",\n",
    "             \"Mission Viejo\", \"Mobile\", \"Modesto\", \"Monroe\", \"Monterey\", \"Montgomery\", \"Moreno Valley\", \n",
    "             \"Murfreesboro\", \"Murrieta\", \"Muskegon\", \"Myrtle Beach\", \"Naperville\", \"Naples\", \"Nashua\", \n",
    "             \"Nashville\", \"New Bedford\", \"New Haven\", \"New London\", \"New Orleans\", \"New York\", \"New York City\",\n",
    "             \"Newark\", \"Newburgh\", \"Newport News\", \"Norfolk\", \"Normal\", \"Norman\", \"North Charleston\", \n",
    "             \"North Las Vegas\", \"North Port\", \"Norwalk\", \"Norwich\", \"Oakland\", \"Ocala\", \"Oceanside\",\n",
    "             \"Odessa\", \"Ogden\", \"Oklahoma City\", \"Olathe\", \"Olympia\", \"Omaha\", \"Ontario\", \"Orange\", \n",
    "             \"Orem\", \"Orlando\", \"Overland Park\", \"Oxnard\", \"Palm Bay\", \"Palm Springs\", \"Palmdale\", \n",
    "             \"Panama City\", \"Pasadena\", \"Paterson\", \"Pembroke Pines\", \"Pensacola\", \"Peoria\", \"Philadelphia\", \n",
    "             \"Phoenix\", \"Pittsburgh\", \"Plano\", \"Pomona\", \"Pompano Beach\", \"Port Arthur\", \"Port Orange\", \n",
    "             \"Port Saint Lucie\", \"Port St. Lucie\", \"Portland\", \"Portsmouth\", \"Poughkeepsie\", \"Providence\", \n",
    "             \"Provo\", \"Pueblo\", \"Punta Gorda\", \"Racine\", \"Raleigh\", \"Rancho Cucamonga\", \"Reading\", \"Redding\",\n",
    "             \"Reno\", \"Richland\", \"Richmond\", \"Richmond County\", \"Riverside\", \"Roanoke\", \"Rochester\", \"Rockford\",\n",
    "             \"Roseville\", \"Round Lake Beach\", \"Sacramento\", \"Saginaw\", \"Saint Louis\", \"Saint Paul\", \n",
    "             \"Saint Petersburg\", \"Salem\", \"Salinas\", \"Salt Lake City\", \"San Antonio\", \"San Bernardino\", \n",
    "             \"San Buenaventura\", \"San Diego\", \"San Francisco\", \"San Jose\", \"Santa Ana\", \"Santa Barbara\",\n",
    "             \"Santa Clara\", \"Santa Clarita\", \"Santa Cruz\", \"Santa Maria\", \"Santa Rosa\", \"Sarasota\", \n",
    "             \"Savannah\", \"Scottsdale\", \"Scranton\", \"Seaside\", \"Seattle\", \"Sebastian\", \"Shreveport\", \n",
    "             \"Simi Valley\", \"Sioux City\", \"Sioux Falls\", \"South Bend\", \"South Lyon\", \"Spartanburg\", \n",
    "             \"Spokane\", \"Springdale\", \"Springfield\", \"St. Louis\", \"St. Paul\", \"St. Petersburg\", \"Stamford\", \n",
    "             \"Sterling Heights\", \"Stockton\", \"Sunnyvale\", \"Syracuse\", \"Tacoma\", \"Tallahassee\", \"Tampa\",\n",
    "             \"Temecula\", \"Tempe\", \"Thornton\", \"Thousand Oaks\", \"Toledo\", \"Topeka\", \"Torrance\", \"Trenton\",\n",
    "             \"Tucson\", \"Tulsa\", \"Tuscaloosa\", \"Tyler\", \"Utica\", \"Vallejo\", \"Vancouver\", \"Vero Beach\", \n",
    "             \"Victorville\", \"Virginia Beach\", \"Visalia\", \"Waco\", \"Warren\", \"Washington\", \"Waterbury\", \n",
    "             \"Waterloo\", \"West Covina\", \"West Valley City\", \"Westminster\", \"Wichita\", \"Wilmington\", \n",
    "             \"Winston\", \"Winter Haven\", \"Worcester\", \"Yakima\", \"Yonkers\", \"York\", \"Youngstown\"]\n",
    "\n",
    "na_ctry_reg='|'.join([\"(\" + c +\")\" for c in na_ctry])\n",
    "\n",
    "af_ctry = my_world.get_countries_list_of('Africa')\n",
    "af_ctry_reg='|'.join([\"(\" + c +\")\" for c in af_ctry])\n",
    "\n",
    "eu_ctry = my_world.get_countries_list_of('Europe')\n",
    "eu_ctry_uk_reg = [*eu_ctry,*['London','England','UK','United Kingdom','Scotland']]\n",
    "eu_ctry_reg='|'.join([\"(\" + c +\")\" for c in eu_ctry_uk_reg])\n",
    "\n",
    "oc_ctry = my_world.get_countries_list_of('Oceania')\n",
    "oc_ctry_reg='|'.join([\"(\" + c +\")\" for c in oc_ctry])\n",
    "\n",
    "sa_ctry = my_world.get_countries_list_of('South America')\n",
    "sa_ctry_reg='|'.join([\"(\" + c +\")\" for c in sa_ctry])\n",
    "\n",
    "as_ctry = my_world.get_countries_list_of('Asia')\n",
    "as_ctry_reg='|'.join([\"(\" + c +\")\" for c in as_ctry])\n",
    "\n",
    "cont_df = overall_count\\\n",
    ".withColumn('Region',f.when(overall_count['user_location'].rlike(na_ctry_reg), 'North America')\\\n",
    "            .when(overall_count['user_location'].rlike(af_ctry_reg), 'Africa')\\\n",
    "            .when(overall_count['user_location'].rlike(sa_ctry_reg), 'South America')\\\n",
    "            .when(overall_count['user_location'].rlike(oc_ctry_reg), 'Oceania')\\\n",
    "            .when(overall_count['user_location'].rlike(eu_ctry_reg), 'Europe')\\\n",
    "            .when(overall_count['user_location'].rlike(as_ctry_reg), 'Asia')\\\n",
    "            .otherwise(overall_count['user_location']))\n",
    "\n"
   ]
  },
  {
   "cell_type": "code",
   "execution_count": 26,
   "id": "f81c1f42-a140-4df5-a91e-96cf34243b7d",
   "metadata": {},
   "outputs": [],
   "source": [
    "cont = ['Africa','North America','South America','Asia','Europe','Oceania']\n",
    "cont_reg='|'.join([\"(\" + c +\")\" for c in cont])"
   ]
  },
  {
   "cell_type": "code",
   "execution_count": 27,
   "id": "caf3498d-848d-406a-942b-e5f72a61d2bc",
   "metadata": {},
   "outputs": [],
   "source": [
    "overall_reg_df = cont_df.groupBy('Region').agg(sum('total_twitterers').alias('total_twitterers'))\\\n",
    ".orderBy('total_twitterers',ascending=False)\\\n",
    ".na.drop(subset=['Region'])\\\n",
    ".filter(cont_df['Region'].rlike(cont_reg))"
   ]
  },
  {
   "cell_type": "markdown",
   "id": "f5af3eef",
   "metadata": {},
   "source": [
    "### Plot of the Overall Geographical Description "
   ]
  },
  {
   "cell_type": "code",
   "execution_count": 34,
   "id": "ac674f09-1de3-4c03-81dd-d80810dfaee6",
   "metadata": {},
   "outputs": [
    {
     "data": {
      "text/plain": [
       "<bound method DataFrame.printSchema of DataFrame[Region: string, total_twitterers: bigint]>"
      ]
     },
     "execution_count": 34,
     "metadata": {},
     "output_type": "execute_result"
    }
   ],
   "source": [
    "overall_reg_df"
   ]
  },
  {
   "cell_type": "code",
   "execution_count": 33,
   "id": "9444f3a3-9a16-4535-bd43-7104382e1a6e",
   "metadata": {},
   "outputs": [
    {
     "data": {
      "text/plain": [
       "[('Region', 'string'), ('total_twitterers', 'bigint')]"
      ]
     },
     "execution_count": 33,
     "metadata": {},
     "output_type": "execute_result"
    }
   ],
   "source": [
    "overall_reg_df.dtypes"
   ]
  },
  {
   "cell_type": "code",
   "execution_count": 37,
   "id": "19d93135-818d-42a1-9b74-4509d7945d6e",
   "metadata": {},
   "outputs": [
    {
     "name": "stderr",
     "output_type": "stream",
     "text": [
      "                                                                                \r"
     ]
    }
   ],
   "source": [
    "a = overall_reg_df.toPandas()"
   ]
  },
  {
   "cell_type": "code",
   "execution_count": 50,
   "id": "0d5e5d3c-443d-42f1-a719-6edbfdd40a69",
   "metadata": {},
   "outputs": [
    {
     "data": {
      "image/png": "[encoded data removed]",
      "text/plain": [
       "<Figure size 640x480 with 1 Axes>"
      ]
     },
     "metadata": {},
     "output_type": "display_data"
    }
   ],
   "source": [
    "\n",
    "fig = a.head(6).plot(kind='line', x = 'Region')\n",
    "fig.set_xlabel('Region')\n",
    "fig.set_ylabel('Twitterers')\n",
    "fig.set_title('Distribution of Twitterers across the globe')\n",
    "plt.show()"
   ]
  },
  {
   "cell_type": "code",
   "execution_count": 51,
   "id": "e890bb9b-ee02-445b-b74f-27a3f4413e23",
   "metadata": {},
   "outputs": [
    {
     "name": "stderr",
     "output_type": "stream",
     "text": [
      "                                                                                \r"
     ]
    },
    {
     "data": {
      "text/plain": [
       "12875304"
      ]
     },
     "execution_count": 51,
     "metadata": {},
     "output_type": "execute_result"
    }
   ],
   "source": [
    "geo_df.count()"
   ]
  },
  {
   "cell_type": "code",
   "execution_count": null,
   "id": "507aa8fc-8161-417c-8972-8d770e77ec50",
   "metadata": {},
   "outputs": [],
   "source": []
  }
 ],
 "metadata": {
  "kernelspec": {
   "display_name": "Python 3 (ipykernel)",
   "language": "python",
   "name": "python3"
  },
  "language_info": {
   "codemirror_mode": {
    "name": "ipython",
    "version": 3
   },
   "file_extension": ".py",
   "mimetype": "text/x-python",
   "name": "python",
   "nbconvert_exporter": "python",
   "pygments_lexer": "ipython3",
   "version": "3.9.16"
  }
 },
 "nbformat": 4,
 "nbformat_minor": 5
}
